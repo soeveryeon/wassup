{
 "cells": [
  {
   "cell_type": "code",
   "execution_count": 2,
   "id": "474f7e87",
   "metadata": {},
   "outputs": [
    {
     "name": "stdout",
     "output_type": "stream",
     "text": [
      "나무를 1번 찍었습니다.\n",
      "나무를 2번 찍었습니다.\n",
      "나무를 3번 찍었습니다.\n",
      "나무를 4번 찍었습니다.\n",
      "나무를 5번 찍었습니다.\n",
      "나무를 6번 찍었습니다.\n",
      "나무를 7번 찍었습니다.\n",
      "나무를 8번 찍었습니다.\n",
      "나무를 9번 찍었습니다.\n",
      "나무를 10번 찍었습니다.\n",
      "나무 넘어갑니다.\n"
     ]
    }
   ],
   "source": [
    "#연습(1)\n",
    "treeHit = 0\n",
    "while treeHit < 10:\n",
    "    treeHit = treeHit + 1\n",
    "    print(\"나무를 %d번 찍었습니다.\" % treeHit)\n",
    "    if treeHit == 10:\n",
    "        print(\"나무 넘어갑니다.\")"
   ]
  },
  {
   "cell_type": "code",
   "execution_count": 3,
   "id": "54e59da3",
   "metadata": {},
   "outputs": [
    {
     "name": "stdout",
     "output_type": "stream",
     "text": [
      "나무를 1번 찍었습니다.\n",
      "나무를 2번 찍었습니다.\n",
      "나무를 3번 찍었습니다.\n",
      "나무를 4번 찍었습니다.\n",
      "나무를 5번 찍었습니다.\n",
      "나무를 6번 찍었습니다.\n",
      "나무를 7번 찍었습니다.\n",
      "나무를 8번 찍었습니다.\n",
      "나무를 9번 찍었습니다.\n",
      "나무를 10번 찍었습니다.\n",
      "나무 넘어갑니다.\n"
     ]
    }
   ],
   "source": [
    "treehit = 0\n",
    "while treehit < 10:\n",
    "    treehit += 1\n",
    "    print(f'나무를 {treehit}번 찍었습니다.')\n",
    "print('나무 넘어갑니다.')"
   ]
  },
  {
   "cell_type": "code",
   "execution_count": 1,
   "id": "e78d29a3",
   "metadata": {},
   "outputs": [
    {
     "name": "stdout",
     "output_type": "stream",
     "text": [
      "Python Coffee machine\n",
      "나가기:1004입력\n",
      "\n",
      "요청:돈을 넣어라: 1004\n",
      "종료:잘가\n"
     ]
    }
   ],
   "source": [
    "#연습(2)\n",
    "coffee = 10\n",
    "while True:\n",
    "    print('Python Coffee machine\\n나가기:1004입력\\n')\n",
    "    try:\n",
    "        money = int(input('요청:돈을 넣어라: '))\n",
    "    except ValueError:\n",
    "        print('응답:돈만 넣어라\\n')\n",
    "        continue\n",
    "    if money == 300:\n",
    "        print('응답:커피준다')\n",
    "        coffee -= 1\n",
    "        print(f'남은커피 {coffee}잔 남았다\\n')\n",
    "    elif money == 1004:\n",
    "        print('종료:잘가')\n",
    "        break\n",
    "    elif money > 300:\n",
    "        print(f'응답:잔돈 {money - 300}준다 커피도 준다')\n",
    "        coffee -= 1\n",
    "        print(f'남은커피 {coffee}잔 남았다\\n')\n",
    "    else:\n",
    "        print('응답:돈 부족하다. 커피 안준다')\n",
    "        print(f'남은커피 {coffee}잔 남았다\\n')\n",
    "    if coffee == 0:\n",
    "        print('종료:남은커피 없다. 커피 안판다')\n",
    "        break"
   ]
  },
  {
   "cell_type": "code",
   "execution_count": 10,
   "id": "d96d79a1",
   "metadata": {},
   "outputs": [
    {
     "name": "stdout",
     "output_type": "stream",
     "text": [
      "1\n",
      "3\n",
      "5\n",
      "7\n",
      "9\n"
     ]
    }
   ],
   "source": [
    "#연습(3)\n",
    "a = 0\n",
    "while a < 10 :\n",
    "    a += 1\n",
    "    if a % 2 == 0: continue\n",
    "    print(a)    "
   ]
  },
  {
   "cell_type": "code",
   "execution_count": 11,
   "id": "b313f9bf",
   "metadata": {},
   "outputs": [
    {
     "name": "stdout",
     "output_type": "stream",
     "text": [
      "1\n",
      "2\n",
      "3\n",
      "4\n"
     ]
    }
   ],
   "source": [
    "#연습(4)\n",
    "test_list = [1, 2, 3, 4]\n",
    "for i in test_list:\n",
    "    print(i)"
   ]
  },
  {
   "cell_type": "code",
   "execution_count": 14,
   "id": "7efbfe15",
   "metadata": {},
   "outputs": [
    {
     "name": "stdout",
     "output_type": "stream",
     "text": [
      "김민지 불합격\n",
      "이도현 합격\n",
      "김장현 불합격\n",
      "감나라 합격\n",
      "이미지 합격\n"
     ]
    }
   ],
   "source": [
    "#연습(5)\n",
    "score = {\"김민지\":45, \"이도현\":65, \"김장현\":20, \"감나라\":70, \"이미지\":60}\n",
    "for a, b in score.items():\n",
    "    if b >= 60:\n",
    "        print(f'{a} 합격')\n",
    "    else:\n",
    "        print(f'{a} 불합격')"
   ]
  },
  {
   "cell_type": "code",
   "execution_count": 15,
   "id": "bc83c857",
   "metadata": {},
   "outputs": [
    {
     "name": "stdout",
     "output_type": "stream",
     "text": [
      "55\n"
     ]
    }
   ],
   "source": [
    "#연습(6)\n",
    "add = 0\n",
    "for i in range(1,11):\n",
    "    add += i\n",
    "print(add)"
   ]
  },
  {
   "cell_type": "code",
   "execution_count": 16,
   "id": "ef453014",
   "metadata": {},
   "outputs": [
    {
     "name": "stdout",
     "output_type": "stream",
     "text": [
      "[6, 12]\n"
     ]
    }
   ],
   "source": [
    "#연습(7)\n",
    "a = [1,2,3,4]\n",
    "result = [num*3 for num in a if num % 2 == 0]\n",
    "print(result)"
   ]
  },
  {
   "cell_type": "code",
   "execution_count": 17,
   "id": "574f49a4",
   "metadata": {},
   "outputs": [
    {
     "name": "stdout",
     "output_type": "stream",
     "text": [
      "2 4 6 8 10 12 14 16 18 \n",
      "3 6 9 12 15 18 21 24 27 \n",
      "4 8 12 16 20 24 28 32 36 \n",
      "5 10 15 20 25 30 35 40 45 \n",
      "6 12 18 24 30 36 42 48 54 \n",
      "7 14 21 28 35 42 49 56 63 \n",
      "8 16 24 32 40 48 56 64 72 \n",
      "9 18 27 36 45 54 63 72 81 \n"
     ]
    }
   ],
   "source": [
    "#연습(8)\n",
    "for i in range(2,10):\n",
    "    for j in range(1,10):\n",
    "        print(i*j, end=\" \")\n",
    "    print('')"
   ]
  },
  {
   "cell_type": "markdown",
   "id": "d2ce51bd",
   "metadata": {},
   "source": [
    "# 131 ~ 200 (반복문)"
   ]
  },
  {
   "cell_type": "code",
   "execution_count": 19,
   "id": "83e85b94",
   "metadata": {},
   "outputs": [
    {
     "name": "stdout",
     "output_type": "stream",
     "text": [
      "사과 귤 수박 "
     ]
    }
   ],
   "source": [
    "#131\n",
    "과일 = [\"사과\", \"귤\", \"수박\"]\n",
    "for 변수 in 과일:\n",
    "    print(변수, end=\" \")"
   ]
  },
  {
   "cell_type": "code",
   "execution_count": 21,
   "id": "e58d7df0",
   "metadata": {},
   "outputs": [
    {
     "name": "stdout",
     "output_type": "stream",
     "text": [
      "#####\n",
      "#####\n",
      "#####\n"
     ]
    }
   ],
   "source": [
    "#132\n",
    "과일 = [\"사과\", \"귤\", \"수박\"]\n",
    "for 변수 in 과일:\n",
    "    print(\"#####\")"
   ]
  },
  {
   "cell_type": "code",
   "execution_count": 4,
   "id": "9710b416",
   "metadata": {},
   "outputs": [
    {
     "name": "stdout",
     "output_type": "stream",
     "text": [
      "A\n",
      "B\n",
      "C\n"
     ]
    }
   ],
   "source": [
    "#133\n",
    "for 변수 in [\"A\", \"B\", \"C\"]:\n",
    "    print(변수)"
   ]
  },
  {
   "cell_type": "code",
   "execution_count": 3,
   "id": "af8e0bc1",
   "metadata": {},
   "outputs": [
    {
     "name": "stdout",
     "output_type": "stream",
     "text": [
      "출력: A\n",
      "출력: B\n",
      "출력: C\n"
     ]
    }
   ],
   "source": [
    "#134\n",
    "for 변수 in [\"A\", \"B\", \"C\"]:\n",
    "    print(\"출력:\", 변수)"
   ]
  },
  {
   "cell_type": "code",
   "execution_count": 2,
   "id": "6f3effa4",
   "metadata": {},
   "outputs": [
    {
     "name": "stdout",
     "output_type": "stream",
     "text": [
      "변환: a\n",
      "변환: b\n",
      "변환: c\n"
     ]
    }
   ],
   "source": [
    "#135\n",
    "for 변수 in [\"A\", \"B\", \"C\"]:\n",
    "    b = 변수.lower()\n",
    "    print(\"변환:\", b)"
   ]
  },
  {
   "cell_type": "code",
   "execution_count": 5,
   "id": "bba355e3",
   "metadata": {},
   "outputs": [
    {
     "name": "stdout",
     "output_type": "stream",
     "text": [
      "변수 = 10\n",
      "변수 = 20\n",
      "변수 = 30\n"
     ]
    }
   ],
   "source": [
    "#136\n",
    "for 변수 in [10, 20, 30]:\n",
    "    print(f'변수 = {변수}')"
   ]
  },
  {
   "cell_type": "code",
   "execution_count": 6,
   "id": "618d91ad",
   "metadata": {},
   "outputs": [
    {
     "name": "stdout",
     "output_type": "stream",
     "text": [
      "10\n",
      "20\n",
      "30\n"
     ]
    }
   ],
   "source": [
    "#137\n",
    "for a in [10, 20, 30]:\n",
    "    print(a)"
   ]
  },
  {
   "cell_type": "code",
   "execution_count": 7,
   "id": "7caf18ff",
   "metadata": {},
   "outputs": [
    {
     "name": "stdout",
     "output_type": "stream",
     "text": [
      "10\n",
      "\"-------\"\n",
      "20\n",
      "\"-------\"\n",
      "30\n",
      "\"-------\"\n"
     ]
    }
   ],
   "source": [
    "#138\n",
    "for a in [10,20,30]:\n",
    "    print(f'{a}\\n\"-------\"')"
   ]
  },
  {
   "cell_type": "code",
   "execution_count": 8,
   "id": "80ff9b36",
   "metadata": {},
   "outputs": [
    {
     "name": "stdout",
     "output_type": "stream",
     "text": [
      "++++\n",
      "10\n",
      "20\n",
      "30\n"
     ]
    }
   ],
   "source": [
    "#139\n",
    "print(\"++++\")\n",
    "for a in [10,20,30]:\n",
    "    print(a)"
   ]
  },
  {
   "cell_type": "code",
   "execution_count": 9,
   "id": "9fc1f9ac",
   "metadata": {},
   "outputs": [
    {
     "name": "stdout",
     "output_type": "stream",
     "text": [
      "------\n",
      "------\n",
      "------\n",
      "------\n"
     ]
    }
   ],
   "source": [
    "#140\n",
    "for a in [1,2,3,4]:\n",
    "    print(\"------\")"
   ]
  },
  {
   "cell_type": "code",
   "execution_count": 10,
   "id": "772702f0",
   "metadata": {},
   "outputs": [
    {
     "name": "stdout",
     "output_type": "stream",
     "text": [
      "110\n",
      "210\n",
      "310\n"
     ]
    }
   ],
   "source": [
    "#141\n",
    "리스트 = [100,200,300]\n",
    "for a in 리스트:\n",
    "    a += 10\n",
    "    print(a)"
   ]
  },
  {
   "cell_type": "code",
   "execution_count": 11,
   "id": "735309df",
   "metadata": {},
   "outputs": [
    {
     "name": "stdout",
     "output_type": "stream",
     "text": [
      "오늘의 메뉴 : 김밥\n",
      "오늘의 메뉴 : 라면\n",
      "오늘의 메뉴 : 튀김\n"
     ]
    }
   ],
   "source": [
    "#142\n",
    "리스트 = [\"김밥\", \"라면\", \"튀김\"]\n",
    "for a in 리스트:\n",
    "    print(f'오늘의 메뉴 : {a}')"
   ]
  },
  {
   "cell_type": "code",
   "execution_count": 12,
   "id": "ecc19382",
   "metadata": {},
   "outputs": [
    {
     "name": "stdout",
     "output_type": "stream",
     "text": [
      "6\n",
      "4\n",
      "4\n"
     ]
    }
   ],
   "source": [
    "#143\n",
    "리스트 = [\"SK하이닉스\", \"삼성전자\", \"LG전자\"]\n",
    "for a in 리스트:\n",
    "    print(len(a))"
   ]
  },
  {
   "cell_type": "code",
   "execution_count": 13,
   "id": "ef5bf97f",
   "metadata": {},
   "outputs": [
    {
     "name": "stdout",
     "output_type": "stream",
     "text": [
      "dog 3\n",
      "cat 3\n",
      "parrot 6\n"
     ]
    }
   ],
   "source": [
    "#144\n",
    "리스트 = ['dog', 'cat', 'parrot']\n",
    "for a in 리스트:\n",
    "    print(a,len(a))"
   ]
  },
  {
   "cell_type": "code",
   "execution_count": 14,
   "id": "42dd60e0",
   "metadata": {},
   "outputs": [
    {
     "name": "stdout",
     "output_type": "stream",
     "text": [
      "d\n",
      "c\n",
      "p\n"
     ]
    }
   ],
   "source": [
    "#145\n",
    "리스트 = ['dog', 'cat', 'parrot']\n",
    "for a in 리스트:\n",
    "    print(a[0])"
   ]
  },
  {
   "cell_type": "code",
   "execution_count": 15,
   "id": "a5d06358",
   "metadata": {},
   "outputs": [
    {
     "name": "stdout",
     "output_type": "stream",
     "text": [
      "3 x 1\n",
      "3 x 2\n",
      "3 x 3\n"
     ]
    }
   ],
   "source": [
    "#146\n",
    "리스트 = [1, 2, 3]\n",
    "for a in 리스트:\n",
    "    print(f'3 x {a}')"
   ]
  },
  {
   "cell_type": "code",
   "execution_count": 18,
   "id": "3c20ae24",
   "metadata": {},
   "outputs": [
    {
     "name": "stdout",
     "output_type": "stream",
     "text": [
      "3 x = 3\n",
      "3 x = 6\n",
      "3 x = 9\n"
     ]
    }
   ],
   "source": [
    "#147\n",
    "리스트 = [1, 2, 3]\n",
    "for a in 리스트:\n",
    "    a *= 3\n",
    "    print(f'3 x = {a}')"
   ]
  },
  {
   "cell_type": "code",
   "execution_count": 20,
   "id": "3ff0101c",
   "metadata": {},
   "outputs": [
    {
     "name": "stdout",
     "output_type": "stream",
     "text": [
      "나\n",
      "다\n",
      "라\n"
     ]
    }
   ],
   "source": [
    "#148\n",
    "리스트 = [\"가\", \"나\", \"다\", \"라\"]\n",
    "for a in 리스트[1:]:\n",
    "    print(a)"
   ]
  },
  {
   "cell_type": "code",
   "execution_count": 24,
   "id": "2cd75b00",
   "metadata": {},
   "outputs": [
    {
     "name": "stdout",
     "output_type": "stream",
     "text": [
      "가\n",
      "다\n"
     ]
    }
   ],
   "source": [
    "#149\n",
    "리스트 = [\"가\", \"나\", \"다\", \"라\"]\n",
    "for a in 리스트[::2]:\n",
    "    print(a)"
   ]
  },
  {
   "cell_type": "code",
   "execution_count": 25,
   "id": "eb5304a6",
   "metadata": {},
   "outputs": [
    {
     "name": "stdout",
     "output_type": "stream",
     "text": [
      "라\n",
      "다\n",
      "나\n",
      "가\n"
     ]
    }
   ],
   "source": [
    "#150\n",
    "리스트 = [\"가\", \"나\", \"다\", \"라\"]\n",
    "for a in 리스트[::-1]:\n",
    "    print(a)"
   ]
  },
  {
   "cell_type": "code",
   "execution_count": 26,
   "id": "9fcf3130",
   "metadata": {},
   "outputs": [
    {
     "name": "stdout",
     "output_type": "stream",
     "text": [
      "-20\n",
      "-3\n"
     ]
    }
   ],
   "source": [
    "#151\n",
    "리스트 = [3, -20, -3, 44]\n",
    "for a in 리스트:\n",
    "    if a < 0:\n",
    "        print(a)"
   ]
  },
  {
   "cell_type": "code",
   "execution_count": 29,
   "id": "bf7ccd9f",
   "metadata": {},
   "outputs": [
    {
     "name": "stdout",
     "output_type": "stream",
     "text": [
      "3\n"
     ]
    }
   ],
   "source": [
    "#152\n",
    "리스트 = [3, 100, 23, 44]\n",
    "for a in 리스트:\n",
    "    if a % 3 == 0:\n",
    "        print(a)"
   ]
  },
  {
   "cell_type": "code",
   "execution_count": 30,
   "id": "b43e050d",
   "metadata": {},
   "outputs": [
    {
     "name": "stdout",
     "output_type": "stream",
     "text": [
      "12\n",
      "18\n"
     ]
    }
   ],
   "source": [
    "#153\n",
    "리스트 = [13, 21, 12, 14, 30, 18]\n",
    "for a in 리스트:\n",
    "    if a < 20 and a % 3 == 0:\n",
    "        print(a)"
   ]
  },
  {
   "cell_type": "code",
   "execution_count": 31,
   "id": "91174de3",
   "metadata": {},
   "outputs": [
    {
     "name": "stdout",
     "output_type": "stream",
     "text": [
      "study\n",
      "python\n",
      "language\n"
     ]
    }
   ],
   "source": [
    "#154\n",
    "리스트 = [\"I\", \"study\", \"python\", \"language\", \"!\"]\n",
    "for a in 리스트:\n",
    "    if len(a) >= 3:\n",
    "        print(a)"
   ]
  },
  {
   "cell_type": "code",
   "execution_count": 33,
   "id": "0ea1fa8e",
   "metadata": {},
   "outputs": [
    {
     "name": "stdout",
     "output_type": "stream",
     "text": [
      "A\n",
      "D\n"
     ]
    }
   ],
   "source": [
    "#155\n",
    "리스트 = [\"A\", \"b\", \"c\", \"D\"]\n",
    "for a in 리스트:\n",
    "    if a.isupper() == True:\n",
    "        print(a)"
   ]
  },
  {
   "cell_type": "code",
   "execution_count": 34,
   "id": "a5da7718",
   "metadata": {},
   "outputs": [
    {
     "name": "stdout",
     "output_type": "stream",
     "text": [
      "b\n",
      "c\n"
     ]
    }
   ],
   "source": [
    "#156\n",
    "리스트 = [\"A\", \"b\", \"c\", \"D\"]\n",
    "for a in 리스트:\n",
    "    if a.isupper() == False:\n",
    "        print(a)"
   ]
  },
  {
   "cell_type": "code",
   "execution_count": 36,
   "id": "e5f46194",
   "metadata": {},
   "outputs": [
    {
     "name": "stdout",
     "output_type": "stream",
     "text": [
      "Dog\n",
      "Cat\n",
      "Parrot\n"
     ]
    }
   ],
   "source": [
    "#157\n",
    "리스트 = ['dog', 'cat', 'parrot']\n",
    "for a in 리스트:\n",
    "    b = a[0]\n",
    "    c = b.upper()\n",
    "    print(c+a[1:])"
   ]
  },
  {
   "cell_type": "code",
   "execution_count": 37,
   "id": "f77cdb25",
   "metadata": {},
   "outputs": [
    {
     "name": "stdout",
     "output_type": "stream",
     "text": [
      "Dog\n",
      "Cat\n",
      "Parrot\n"
     ]
    }
   ],
   "source": [
    "for a in 리스트:\n",
    "    print(a[0].upper() + a[1:])"
   ]
  },
  {
   "cell_type": "code",
   "execution_count": 38,
   "id": "00bd3a2c",
   "metadata": {},
   "outputs": [
    {
     "name": "stdout",
     "output_type": "stream",
     "text": [
      "hello\n",
      "ex01\n",
      "intro\n"
     ]
    }
   ],
   "source": [
    "#158\n",
    "리스트 = ['hello.py', 'ex01.py', 'intro.hwp']\n",
    "for a in 리스트:\n",
    "    print(a.split(\".\")[0])"
   ]
  },
  {
   "cell_type": "code",
   "execution_count": 39,
   "id": "57b3dc23",
   "metadata": {},
   "outputs": [
    {
     "name": "stdout",
     "output_type": "stream",
     "text": [
      "intra.h\n",
      "define.h\n"
     ]
    }
   ],
   "source": [
    "#159\n",
    "리스트 = ['intra.h', 'intra.c', 'define.h', 'run.py']\n",
    "for a in 리스트:\n",
    "    if a.split(\".\")[1] == \"h\":\n",
    "        print(a)"
   ]
  },
  {
   "cell_type": "code",
   "execution_count": 41,
   "id": "9ec446e6",
   "metadata": {},
   "outputs": [
    {
     "name": "stdout",
     "output_type": "stream",
     "text": [
      "intra.h\n",
      "intra.c\n",
      "define.h\n"
     ]
    }
   ],
   "source": [
    "#160\n",
    "리스트 = ['intra.h', 'intra.c', 'define.h', 'run.py']\n",
    "for a in 리스트:\n",
    "    if a.split(\".\")[1] == \"h\" or a.split(\".\")[1] == \"c\":\n",
    "        print(a)"
   ]
  },
  {
   "cell_type": "code",
   "execution_count": 47,
   "id": "831c9f1f",
   "metadata": {},
   "outputs": [
    {
     "name": "stdout",
     "output_type": "stream",
     "text": [
      "0 1 2 3 4 5 6 7 8 9 10 11 12 13 14 15 16 17 18 19 20 21 22 23 24 25 26 27 28 29 30 31 32 33 34 35 36 37 38 39 40 41 42 43 44 45 46 47 48 49 50 51 52 53 54 55 56 57 58 59 60 61 62 63 64 65 66 67 68 69 70 71 72 73 74 75 76 77 78 79 80 81 82 83 84 85 86 87 88 89 90 91 92 93 94 95 96 97 98 99 "
     ]
    }
   ],
   "source": [
    "#161\n",
    "for a in range(100):\n",
    "    print(a,end=\" \")"
   ]
  },
  {
   "cell_type": "code",
   "execution_count": 48,
   "id": "d13afb97",
   "metadata": {},
   "outputs": [
    {
     "name": "stdout",
     "output_type": "stream",
     "text": [
      "2002\n",
      "2006\n",
      "2010\n",
      "2014\n",
      "2018\n",
      "2022\n",
      "2026\n",
      "2030\n",
      "2034\n",
      "2038\n",
      "2042\n",
      "2046\n",
      "2050\n"
     ]
    }
   ],
   "source": [
    "#162\n",
    "for a in range(2002,2051,4):\n",
    "    print(a)"
   ]
  },
  {
   "cell_type": "code",
   "execution_count": 49,
   "id": "a5cf07b8",
   "metadata": {},
   "outputs": [
    {
     "name": "stdout",
     "output_type": "stream",
     "text": [
      "3\n",
      "6\n",
      "9\n",
      "12\n",
      "15\n",
      "18\n",
      "21\n",
      "24\n",
      "27\n",
      "30\n"
     ]
    }
   ],
   "source": [
    "#163\n",
    "for a in range(1,31):\n",
    "    if a % 3 == 0:\n",
    "        print(a)"
   ]
  },
  {
   "cell_type": "code",
   "execution_count": 51,
   "id": "7b580199",
   "metadata": {},
   "outputs": [
    {
     "name": "stdout",
     "output_type": "stream",
     "text": [
      "99\n",
      "98\n",
      "97\n",
      "96\n",
      "95\n",
      "94\n",
      "93\n",
      "92\n",
      "91\n",
      "90\n",
      "89\n",
      "88\n",
      "87\n",
      "86\n",
      "85\n",
      "84\n",
      "83\n",
      "82\n",
      "81\n",
      "80\n",
      "79\n",
      "78\n",
      "77\n",
      "76\n",
      "75\n",
      "74\n",
      "73\n",
      "72\n",
      "71\n",
      "70\n",
      "69\n",
      "68\n",
      "67\n",
      "66\n",
      "65\n",
      "64\n",
      "63\n",
      "62\n",
      "61\n",
      "60\n",
      "59\n",
      "58\n",
      "57\n",
      "56\n",
      "55\n",
      "54\n",
      "53\n",
      "52\n",
      "51\n",
      "50\n",
      "49\n",
      "48\n",
      "47\n",
      "46\n",
      "45\n",
      "44\n",
      "43\n",
      "42\n",
      "41\n",
      "40\n",
      "39\n",
      "38\n",
      "37\n",
      "36\n",
      "35\n",
      "34\n",
      "33\n",
      "32\n",
      "31\n",
      "30\n",
      "29\n",
      "28\n",
      "27\n",
      "26\n",
      "25\n",
      "24\n",
      "23\n",
      "22\n",
      "21\n",
      "20\n",
      "19\n",
      "18\n",
      "17\n",
      "16\n",
      "15\n",
      "14\n",
      "13\n",
      "12\n",
      "11\n",
      "10\n",
      "9\n",
      "8\n",
      "7\n",
      "6\n",
      "5\n",
      "4\n",
      "3\n",
      "2\n",
      "1\n",
      "0\n"
     ]
    }
   ],
   "source": [
    "#164\n",
    "for a in range(100):\n",
    "    print(99 - a)"
   ]
  },
  {
   "cell_type": "code",
   "execution_count": 52,
   "id": "35395846",
   "metadata": {},
   "outputs": [
    {
     "name": "stdout",
     "output_type": "stream",
     "text": [
      "0.0\n",
      "0.1\n",
      "0.2\n",
      "0.3\n",
      "0.4\n",
      "0.5\n",
      "0.6\n",
      "0.7\n",
      "0.8\n",
      "0.9\n"
     ]
    }
   ],
   "source": [
    "#165\n",
    "for a in range(10):\n",
    "    print(f'0.{a}')"
   ]
  },
  {
   "cell_type": "code",
   "execution_count": 60,
   "id": "316dd715",
   "metadata": {},
   "outputs": [
    {
     "name": "stdout",
     "output_type": "stream",
     "text": [
      "3x1 = 3\n",
      "3x2 = 6\n",
      "3x3 = 9\n",
      "3x4 = 12\n",
      "3x5 = 15\n",
      "3x6 = 18\n",
      "3x7 = 21\n",
      "3x8 = 24\n",
      "3x9 = 27\n"
     ]
    }
   ],
   "source": [
    "#166\n",
    "for a in range(1,10):\n",
    "    b = a*3\n",
    "    print(f'3x{a} = {b}')"
   ]
  },
  {
   "cell_type": "code",
   "execution_count": 61,
   "id": "50899ec3",
   "metadata": {
    "scrolled": true
   },
   "outputs": [
    {
     "name": "stdout",
     "output_type": "stream",
     "text": [
      "3x1 = 3\n",
      "3x3 = 9\n",
      "3x5 = 15\n",
      "3x7 = 21\n",
      "3x9 = 27\n"
     ]
    }
   ],
   "source": [
    "#167\n",
    "for a in range(1,10,2):\n",
    "    b= a*3\n",
    "    print(f'3x{a} = {b}')"
   ]
  },
  {
   "cell_type": "code",
   "execution_count": 74,
   "id": "3fb97cd5",
   "metadata": {},
   "outputs": [
    {
     "name": "stdout",
     "output_type": "stream",
     "text": [
      "55\n"
     ]
    }
   ],
   "source": [
    "#168\n",
    "a = 0\n",
    "for i in range(1,11):\n",
    "    a += i\n",
    "print(a)"
   ]
  },
  {
   "cell_type": "code",
   "execution_count": 73,
   "id": "168cd3a8",
   "metadata": {},
   "outputs": [
    {
     "name": "stdout",
     "output_type": "stream",
     "text": [
      "합: 25\n"
     ]
    }
   ],
   "source": [
    "#169\n",
    "a = 0\n",
    "for i in range(1,11,2):\n",
    "    a += i\n",
    "print(\"합:\",a)"
   ]
  },
  {
   "cell_type": "code",
   "execution_count": 76,
   "id": "d4f982a1",
   "metadata": {
    "scrolled": true
   },
   "outputs": [
    {
     "name": "stdout",
     "output_type": "stream",
     "text": [
      "3628800\n"
     ]
    }
   ],
   "source": [
    "#170\n",
    "a = 1\n",
    "for i in range(1,11):\n",
    "    a *= i\n",
    "print(a)"
   ]
  },
  {
   "cell_type": "code",
   "execution_count": 77,
   "id": "97f3a095",
   "metadata": {},
   "outputs": [
    {
     "name": "stdout",
     "output_type": "stream",
     "text": [
      "32100\n",
      "32150\n",
      "32000\n",
      "32500\n"
     ]
    }
   ],
   "source": [
    "#171\n",
    "price_list = [32100, 32150, 32000, 32500]\n",
    "for a in price_list:\n",
    "    print(a)"
   ]
  },
  {
   "cell_type": "code",
   "execution_count": 79,
   "id": "89334e81",
   "metadata": {},
   "outputs": [
    {
     "name": "stdout",
     "output_type": "stream",
     "text": [
      "32100\n",
      "32150\n",
      "32000\n",
      "32500\n"
     ]
    }
   ],
   "source": [
    "for i in range(len(price_list)):\n",
    "    print(price_list[i])"
   ]
  },
  {
   "cell_type": "code",
   "execution_count": 82,
   "id": "45fd9423",
   "metadata": {},
   "outputs": [
    {
     "name": "stdout",
     "output_type": "stream",
     "text": [
      "0 32100\n",
      "1 32150\n",
      "2 32000\n",
      "3 32500\n"
     ]
    }
   ],
   "source": [
    "#172\n",
    "price_list = [32100, 32150, 32000, 32500]\n",
    "for i in range(len(price_list)):\n",
    "    print(i,price_list[i])"
   ]
  },
  {
   "cell_type": "code",
   "execution_count": 84,
   "id": "76c7f29e",
   "metadata": {},
   "outputs": [
    {
     "name": "stdout",
     "output_type": "stream",
     "text": [
      "0 32100\n",
      "1 32150\n",
      "2 32000\n",
      "3 32500\n"
     ]
    }
   ],
   "source": [
    "price_list = [32100, 32150, 32000, 32500]\n",
    "for i, data in enumerate(price_list):\n",
    "    #enumerate()는 리스트의 원소에 순서값을 부여해주는 함수\n",
    "    print(i, data)"
   ]
  },
  {
   "cell_type": "code",
   "execution_count": 6,
   "id": "2570c9d9",
   "metadata": {},
   "outputs": [
    {
     "name": "stdout",
     "output_type": "stream",
     "text": [
      "3 32100\n",
      "2 32150\n",
      "1 32000\n",
      "0 32500\n"
     ]
    }
   ],
   "source": [
    "#173\n",
    "price_list = [32100, 32150, 32000, 32500]\n",
    "for i in range(len(price_list)):\n",
    "    print(3 - i,price_list[i])"
   ]
  },
  {
   "cell_type": "code",
   "execution_count": 35,
   "id": "bd2b8904",
   "metadata": {
    "scrolled": true
   },
   "outputs": [
    {
     "name": "stdout",
     "output_type": "stream",
     "text": [
      "100 32150\n",
      "110 32000\n",
      "120 32500\n"
     ]
    }
   ],
   "source": [
    "#174\n",
    "price_list = [32100, 32150, 32000, 32500]\n",
    "for i in range(1,4):\n",
    "    print(90+10*i,price_list[i])"
   ]
  },
  {
   "cell_type": "code",
   "execution_count": 10,
   "id": "ac163fbd",
   "metadata": {},
   "outputs": [
    {
     "name": "stdout",
     "output_type": "stream",
     "text": [
      "가 나\n",
      "나 다\n",
      "다 라\n"
     ]
    }
   ],
   "source": [
    "#175\n",
    "my_list = [\"가\", \"나\", \"다\", \"라\"]\n",
    "for i in range(len(my_list)):\n",
    "    print(my_list[i],my_list[i+1])\n",
    "    if i >= 2:\n",
    "        break"
   ]
  },
  {
   "cell_type": "code",
   "execution_count": 11,
   "id": "8293ef09",
   "metadata": {},
   "outputs": [
    {
     "name": "stdout",
     "output_type": "stream",
     "text": [
      "가 나\n",
      "나 다\n",
      "다 라\n"
     ]
    }
   ],
   "source": [
    "#풀이 참고\n",
    "for i in range(len(my_list) - 1):\n",
    "    print(my_list[i], my_list[i+1])"
   ]
  },
  {
   "cell_type": "code",
   "execution_count": 39,
   "id": "f5d441f0",
   "metadata": {},
   "outputs": [
    {
     "name": "stdout",
     "output_type": "stream",
     "text": [
      "가 나 다\n",
      "나 다 라\n",
      "다 라 마\n"
     ]
    }
   ],
   "source": [
    "#176\n",
    "my_list = [\"가\", \"나\", \"다\", \"라\", \"마\"]\n",
    "for i in range(len(my_list)-2):\n",
    "    print(my_list[i], my_list[i+1], my_list[i+2])"
   ]
  },
  {
   "cell_type": "code",
   "execution_count": 40,
   "id": "62aaf01c",
   "metadata": {},
   "outputs": [
    {
     "name": "stdout",
     "output_type": "stream",
     "text": [
      "라 다\n",
      "가 라\n",
      "나 가\n"
     ]
    }
   ],
   "source": [
    "#177\n",
    "my_list = [\"가\", \"나\", \"다\", \"라\"]\n",
    "for i in range(len(my_list)-1):\n",
    "    print(my_list[i-1], my_list[i-2])"
   ]
  },
  {
   "cell_type": "code",
   "execution_count": 41,
   "id": "6af2dc66",
   "metadata": {
    "scrolled": true
   },
   "outputs": [
    {
     "name": "stdout",
     "output_type": "stream",
     "text": [
      "100\n",
      "200\n",
      "400\n"
     ]
    }
   ],
   "source": [
    "#178\n",
    "my_list = [100, 200, 400, 800]\n",
    "for i in range(len(my_list)-1):\n",
    "    print(my_list[i+1]-my_list[i])"
   ]
  },
  {
   "cell_type": "code",
   "execution_count": 43,
   "id": "5c0c218d",
   "metadata": {},
   "outputs": [
    {
     "name": "stdout",
     "output_type": "stream",
     "text": [
      "233.33333333333334\n",
      "466.6666666666667\n",
      "733.3333333333334\n",
      "1033.3333333333333\n"
     ]
    }
   ],
   "source": [
    "#179\n",
    "my_list = [100, 200, 400, 800, 1000, 1300]\n",
    "for i in range(len(my_list)-2):\n",
    "    b = (my_list[i]+my_list[i+1]+my_list[i+2])/3\n",
    "    print(b)"
   ]
  },
  {
   "cell_type": "code",
   "execution_count": 51,
   "id": "7dce06a6",
   "metadata": {},
   "outputs": [
    {
     "name": "stdout",
     "output_type": "stream",
     "text": [
      "[50, 100, 30, 80, 0]\n"
     ]
    }
   ],
   "source": [
    "#180\n",
    "volatility = []\n",
    "low_prices  = [100, 200, 400, 800, 1000]\n",
    "high_prices = [150, 300, 430, 880, 1000]\n",
    "for i  in range(len(low_prices)):\n",
    "    volatility.append(high_prices[i]-low_prices[i])\n",
    "    #append() 함수는 파이썬에서 리스트의 끝에 새로운 요소를 추가하는 메소드\n",
    "print(volatility)"
   ]
  },
  {
   "cell_type": "code",
   "execution_count": 52,
   "id": "0bdb1ed2",
   "metadata": {},
   "outputs": [],
   "source": [
    "#181\n",
    "apart = [[\"101호\", \"102호\"], [\"201호\", \"202호\"], [\"301호\", \"302호\"]]"
   ]
  },
  {
   "cell_type": "code",
   "execution_count": 54,
   "id": "e0882113",
   "metadata": {},
   "outputs": [],
   "source": [
    "#182\n",
    "stock = [[\"시가\",100, 200, 300],[\"종가\", 80, 210, 330]]"
   ]
  },
  {
   "cell_type": "code",
   "execution_count": 55,
   "id": "41aa4e34",
   "metadata": {},
   "outputs": [],
   "source": [
    "#183\n",
    "stock = {\"시가\":[100,200,300],\"종가\":[80,210,330]}"
   ]
  },
  {
   "cell_type": "code",
   "execution_count": 56,
   "id": "548ca76f",
   "metadata": {},
   "outputs": [],
   "source": [
    "#184\n",
    "stock = {\"10/10\":[80,110,70,90], \"10/11\":[210,230,190,200]}"
   ]
  },
  {
   "cell_type": "code",
   "execution_count": 76,
   "id": "7e0bd19e",
   "metadata": {},
   "outputs": [
    {
     "name": "stdout",
     "output_type": "stream",
     "text": [
      "101 호\n",
      "102 호\n",
      "201 호\n",
      "202 호\n",
      "301 호\n",
      "302 호\n"
     ]
    }
   ],
   "source": [
    "#185\n",
    "apart = [ [101, 102], [201, 202], [301, 302] ]\n",
    "for i , first in enumerate(apart):\n",
    "    for c , second in enumerate(first):\n",
    "        print(second,\"호\")"
   ]
  },
  {
   "cell_type": "code",
   "execution_count": 78,
   "id": "8d84d414",
   "metadata": {},
   "outputs": [
    {
     "name": "stdout",
     "output_type": "stream",
     "text": [
      "101 호\n",
      "102 호\n",
      "201 호\n",
      "202 호\n",
      "301 호\n",
      "302 호\n"
     ]
    }
   ],
   "source": [
    "#풀이참고\n",
    "for a in apart:\n",
    "    for b in a:\n",
    "        print(b,\"호\")"
   ]
  },
  {
   "cell_type": "code",
   "execution_count": 82,
   "id": "ed183189",
   "metadata": {},
   "outputs": [
    {
     "name": "stdout",
     "output_type": "stream",
     "text": [
      "301 호\n",
      "302 호\n",
      "201 호\n",
      "202 호\n",
      "101 호\n",
      "102 호\n"
     ]
    }
   ],
   "source": [
    "#186\n",
    "for a in reversed(apart):\n",
    "    for b in a:\n",
    "        print(b,\"호\")"
   ]
  },
  {
   "cell_type": "code",
   "execution_count": 84,
   "id": "b1c5ac21",
   "metadata": {},
   "outputs": [
    {
     "name": "stdout",
     "output_type": "stream",
     "text": [
      "302 호\n",
      "301 호\n",
      "202 호\n",
      "201 호\n",
      "102 호\n",
      "101 호\n"
     ]
    }
   ],
   "source": [
    "#187\n",
    "for a in reversed(apart):\n",
    "    for b in reversed(a):\n",
    "        print(b,\"호\")"
   ]
  },
  {
   "cell_type": "code",
   "execution_count": 86,
   "id": "b533d74a",
   "metadata": {},
   "outputs": [
    {
     "name": "stdout",
     "output_type": "stream",
     "text": [
      "101 호\n",
      "-----\n",
      "102 호\n",
      "-----\n",
      "201 호\n",
      "-----\n",
      "202 호\n",
      "-----\n",
      "301 호\n",
      "-----\n",
      "302 호\n",
      "-----\n"
     ]
    }
   ],
   "source": [
    "#188\n",
    "for a in apart:\n",
    "    for b in a:\n",
    "        print(b,\"호\")\n",
    "        print(\"-----\")"
   ]
  },
  {
   "cell_type": "code",
   "execution_count": 87,
   "id": "4a038310",
   "metadata": {},
   "outputs": [
    {
     "name": "stdout",
     "output_type": "stream",
     "text": [
      "101 호\n",
      "102 호\n",
      "-----\n",
      "201 호\n",
      "202 호\n",
      "-----\n",
      "301 호\n",
      "302 호\n",
      "-----\n"
     ]
    }
   ],
   "source": [
    "#189\n",
    "for a in apart:\n",
    "    for b in a:\n",
    "        print(b,\"호\")\n",
    "    print(\"-----\")"
   ]
  },
  {
   "cell_type": "code",
   "execution_count": 88,
   "id": "4034e47f",
   "metadata": {},
   "outputs": [
    {
     "name": "stdout",
     "output_type": "stream",
     "text": [
      "101 호\n",
      "102 호\n",
      "201 호\n",
      "202 호\n",
      "301 호\n",
      "302 호\n",
      "-----\n"
     ]
    }
   ],
   "source": [
    "#190\n",
    "for a in apart:\n",
    "    for b in a:\n",
    "        print(b,\"호\")\n",
    "print(\"-----\")"
   ]
  },
  {
   "cell_type": "code",
   "execution_count": 93,
   "id": "3d7b6642",
   "metadata": {},
   "outputs": [
    {
     "name": "stdout",
     "output_type": "stream",
     "text": [
      "2000.28\n",
      "3050.427\n",
      "2050.2870000000003\n",
      "1980.2772\n",
      "7501.05\n",
      "2050.2870000000003\n",
      "2050.2870000000003\n",
      "1980.2772\n",
      "15452.163\n",
      "15052.107\n",
      "15552.177\n",
      "14902.086000000001\n"
     ]
    }
   ],
   "source": [
    "#191\n",
    "data = [\n",
    "    [ 2000,  3050,  2050,  1980],\n",
    "    [ 7500,  2050,  2050,  1980],\n",
    "    [15450, 15050, 15550, 14900]\n",
    "]\n",
    "for i in data:\n",
    "    for ohlc in i:\n",
    "        print(ohlc*1.00014)"
   ]
  },
  {
   "cell_type": "code",
   "execution_count": 98,
   "id": "93a29b22",
   "metadata": {},
   "outputs": [
    {
     "name": "stdout",
     "output_type": "stream",
     "text": [
      "2000.28\n",
      "3050.427\n",
      "2050.2870000000003\n",
      "1980.2772\n",
      "----\n",
      "7501.05\n",
      "2050.2870000000003\n",
      "2050.2870000000003\n",
      "1980.2772\n",
      "----\n",
      "15452.163\n",
      "15052.107\n",
      "15552.177\n",
      "14902.086000000001\n",
      "----\n"
     ]
    }
   ],
   "source": [
    "#192\n",
    "for i in data:\n",
    "    for ohlc in i:\n",
    "        print(ohlc*1.00014)\n",
    "    print(\"----\")"
   ]
  },
  {
   "cell_type": "code",
   "execution_count": 109,
   "id": "5554f9d9",
   "metadata": {},
   "outputs": [
    {
     "name": "stdout",
     "output_type": "stream",
     "text": [
      "[2000.28, 3050.427, 2050.2870000000003, 1980.2772, 7501.05, 2050.2870000000003, 2050.2870000000003, 1980.2772, 15452.163, 15052.107, 15552.177, 14902.086000000001]\n"
     ]
    }
   ],
   "source": [
    "#193\n",
    "result = []\n",
    "for i in data:\n",
    "    for ohlc in i:\n",
    "        result.append(ohlc*1.00014)\n",
    "print(result)"
   ]
  },
  {
   "cell_type": "code",
   "execution_count": 110,
   "id": "6f3aa557",
   "metadata": {},
   "outputs": [
    {
     "name": "stdout",
     "output_type": "stream",
     "text": [
      "[[2000.28, 3050.427, 2050.2870000000003, 1980.2772], [7501.05, 2050.2870000000003, 2050.2870000000003, 1980.2772], [15452.163, 15052.107, 15552.177, 14902.086000000001]]\n"
     ]
    }
   ],
   "source": [
    "#194\n",
    "result = []\n",
    "for i in data:\n",
    "    sub = []\n",
    "    for ohlc in i:\n",
    "        sub.append(ohlc*1.00014)\n",
    "    result.append(sub)\n",
    "print(result)"
   ]
  },
  {
   "cell_type": "code",
   "execution_count": 120,
   "id": "44eac1e4",
   "metadata": {
    "scrolled": true
   },
   "outputs": [
    {
     "name": "stdout",
     "output_type": "stream",
     "text": [
      "100\n",
      "190\n",
      "310\n"
     ]
    }
   ],
   "source": [
    "#195\n",
    "ohlc = [[\"open\", \"high\", \"low\", \"close\"],\n",
    "        [100, 110, 70, 100],\n",
    "        [200, 210, 180, 190],\n",
    "        [300, 310, 300, 310]]\n",
    "for i in ohlc[1:]:\n",
    "    print(i[3])"
   ]
  },
  {
   "cell_type": "code",
   "execution_count": 130,
   "id": "88d103c4",
   "metadata": {},
   "outputs": [
    {
     "name": "stdout",
     "output_type": "stream",
     "text": [
      "190\n",
      "310\n"
     ]
    }
   ],
   "source": [
    "#196\n",
    "result = [i[3] for i in ohlc[1:] if i[3] >= 150]\n",
    "print(*result,sep='\\n')"
   ]
  },
  {
   "cell_type": "code",
   "execution_count": 134,
   "id": "d193ef0d",
   "metadata": {},
   "outputs": [
    {
     "name": "stdout",
     "output_type": "stream",
     "text": [
      "100\n",
      "310\n"
     ]
    }
   ],
   "source": [
    "#197\n",
    "result = [i[3] for i in ohlc[1:] if i[3] >= i[0]]\n",
    "print(*result,sep='\\n')"
   ]
  },
  {
   "cell_type": "code",
   "execution_count": 136,
   "id": "b62d3621",
   "metadata": {},
   "outputs": [
    {
     "name": "stdout",
     "output_type": "stream",
     "text": [
      "[40, 30, 10]\n"
     ]
    }
   ],
   "source": [
    "#198\n",
    "volatility = [i[1]-i[2] for i in ohlc[1:]]\n",
    "print(volatility)"
   ]
  },
  {
   "cell_type": "code",
   "execution_count": 135,
   "id": "cabbb136",
   "metadata": {},
   "outputs": [
    {
     "name": "stdout",
     "output_type": "stream",
     "text": [
      "10\n"
     ]
    }
   ],
   "source": [
    "#199\n",
    "result = [i[1]-i[2] for i in ohlc[1:] if i[3] > i[0]]\n",
    "print(*result)"
   ]
  },
  {
   "cell_type": "code",
   "execution_count": 140,
   "id": "d03adbc5",
   "metadata": {},
   "outputs": [
    {
     "name": "stdout",
     "output_type": "stream",
     "text": [
      "0\n"
     ]
    }
   ],
   "source": [
    "#200\n",
    "income = [i[3]-i[0] for i in ohlc[1:]]\n",
    "print(sum(income))"
   ]
  },
  {
   "cell_type": "markdown",
   "id": "4c5cda8b",
   "metadata": {},
   "source": [
    "# Have a good day~S2"
   ]
  }
 ],
 "metadata": {
  "kernelspec": {
   "display_name": "Python 3 (ipykernel)",
   "language": "python",
   "name": "python3"
  },
  "language_info": {
   "codemirror_mode": {
    "name": "ipython",
    "version": 3
   },
   "file_extension": ".py",
   "mimetype": "text/x-python",
   "name": "python",
   "nbconvert_exporter": "python",
   "pygments_lexer": "ipython3",
   "version": "3.11.5"
  }
 },
 "nbformat": 4,
 "nbformat_minor": 5
}
