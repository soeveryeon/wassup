{
 "cells": [
  {
   "cell_type": "markdown",
   "id": "f2f5d43c",
   "metadata": {},
   "source": [
    "# 241~250 모듈"
   ]
  },
  {
   "cell_type": "code",
   "execution_count": 36,
   "id": "a1f0c3e1",
   "metadata": {},
   "outputs": [
    {
     "name": "stdout",
     "output_type": "stream",
     "text": [
      "2023-12-05 23:36:24.224419\n"
     ]
    }
   ],
   "source": [
    "#241\n",
    "import datetime\n",
    "\n",
    "now = datetime.datetime.now()\n",
    "print(now)"
   ]
  },
  {
   "cell_type": "code",
   "execution_count": 37,
   "id": "08ac0508",
   "metadata": {},
   "outputs": [
    {
     "name": "stdout",
     "output_type": "stream",
     "text": [
      "2023-12-05 23:36:24.224419 <class 'datetime.datetime'>\n"
     ]
    }
   ],
   "source": [
    "#242\n",
    "print(now, type(now))"
   ]
  },
  {
   "cell_type": "code",
   "execution_count": 38,
   "id": "0ffbf2f5",
   "metadata": {},
   "outputs": [
    {
     "name": "stdout",
     "output_type": "stream",
     "text": [
      "2023-11-30 23:36:24.224419\n",
      "2023-12-01 23:36:24.224419\n",
      "2023-12-02 23:36:24.224419\n",
      "2023-12-03 23:36:24.224419\n",
      "2023-12-04 23:36:24.224419\n"
     ]
    }
   ],
   "source": [
    "#243\n",
    "for day in range(5,0,-1):\n",
    "    delta = datetime.timedelta(days=day)\n",
    "    date = now - delta\n",
    "    print(date)"
   ]
  },
  {
   "cell_type": "code",
   "execution_count": 39,
   "id": "8a4b6a83",
   "metadata": {},
   "outputs": [
    {
     "name": "stdout",
     "output_type": "stream",
     "text": [
      "23:36:24\n"
     ]
    }
   ],
   "source": [
    "#244\n",
    "print(now.strftime(\"%H:%M:%S\"))"
   ]
  },
  {
   "cell_type": "code",
   "execution_count": 40,
   "id": "8e403045",
   "metadata": {},
   "outputs": [
    {
     "name": "stdout",
     "output_type": "stream",
     "text": [
      "2020-05-04 00:00:00 <class 'datetime.datetime'>\n"
     ]
    }
   ],
   "source": [
    "#245\n",
    "import datetime\n",
    "\n",
    "day = \"2020-05-04\"\n",
    "ret = datetime.datetime.strptime(day, \"%Y-%m-%d\")\n",
    "print(ret, type(ret))"
   ]
  },
  {
   "cell_type": "code",
   "execution_count": 42,
   "id": "fda39ed6",
   "metadata": {},
   "outputs": [
    {
     "name": "stdout",
     "output_type": "stream",
     "text": [
      "2023-12-05 23:40:19.748307\n"
     ]
    }
   ],
   "source": [
    "#246\n",
    "import time\n",
    "import datetime\n",
    "\n",
    "while True:\n",
    "    now = datetime.datetime.now()\n",
    "    print(now)\n",
    "    time.sleep(1)\n",
    "    break"
   ]
  },
  {
   "cell_type": "code",
   "execution_count": 43,
   "id": "1978165f",
   "metadata": {},
   "outputs": [
    {
     "name": "stdout",
     "output_type": "stream",
     "text": [
      "C:\\workspace\\wassup\\과제 <class 'str'>\n"
     ]
    }
   ],
   "source": [
    "#248\n",
    "import os\n",
    "ret = os.getcwd()\n",
    "print(ret, type(ret))"
   ]
  },
  {
   "cell_type": "code",
   "execution_count": 45,
   "id": "eaa13d4a",
   "metadata": {},
   "outputs": [
    {
     "name": "stdout",
     "output_type": "stream",
     "text": [
      "0.0\n",
      "0.1\n",
      "0.2\n",
      "0.30000000000000004\n",
      "0.4\n",
      "0.5\n",
      "0.6000000000000001\n",
      "0.7000000000000001\n",
      "0.8\n",
      "0.9\n",
      "1.0\n",
      "1.1\n",
      "1.2000000000000002\n",
      "1.3\n",
      "1.4000000000000001\n",
      "1.5\n",
      "1.6\n",
      "1.7000000000000002\n",
      "1.8\n",
      "1.9000000000000001\n"
     ]
    }
   ],
   "source": [
    "#250\n",
    "import numpy\n",
    "for i in numpy.arange(0, 2, 0.1):\n",
    "    print(i)"
   ]
  },
  {
   "cell_type": "markdown",
   "id": "ec88a8e7",
   "metadata": {},
   "source": [
    "# 271~290 클래스"
   ]
  },
  {
   "cell_type": "code",
   "execution_count": 79,
   "id": "3eb4864e",
   "metadata": {},
   "outputs": [
    {
     "name": "stdout",
     "output_type": "stream",
     "text": [
      "100\n",
      "200\n",
      "300\n",
      "100\n",
      "200\n",
      "은행이름: SC은행\n",
      "예금주: Kim\n",
      "계좌번호: 843-41-924599\n",
      "잔고: 1,300\n"
     ]
    }
   ],
   "source": [
    "#271~280\n",
    "\n",
    "import random\n",
    "\n",
    "class Account:\n",
    "    account_count = 0\n",
    "    \n",
    "    def __init__(self, name, balance):\n",
    "        self.deposit_count = 0\n",
    "        self.deposit_log = []\n",
    "        self.withdraw_log = []\n",
    "        \n",
    "        self.name = name\n",
    "        self.balance = balance\n",
    "        self.bank = \"SC은행\"\n",
    "        \n",
    "        num1 = random.randint(0,999)\n",
    "        num2 = random.randint(0,99)\n",
    "        num3 = random.randint(0,999999)\n",
    "        \n",
    "        num1 = str(num1).zfill(3)\n",
    "        num2 = str(num2).zfill(2)\n",
    "        num3 = str(num3).zfill(6)\n",
    "        self.a_num = num1+'-'+num2+'-'+num3\n",
    "        \n",
    "        Account.account_count += 1\n",
    "        \n",
    "    def get_ac_num(cls):\n",
    "        print(cls.account_count)\n",
    "        \n",
    "    def deposit(self, money):\n",
    "        if money >= 1:\n",
    "            self.balance += money\n",
    "            \n",
    "            self.deposit_count += 1\n",
    "            if self.deposit_count % 5 == 0:\n",
    "                self.balance = (self.balance * 1.01)\n",
    "        \n",
    "        self.deposit_log.append(money)\n",
    "            \n",
    "    def withdraw(self, money):\n",
    "        if money >= self.balance:\n",
    "            print(\"출금 불가\")\n",
    "        else:\n",
    "            self.balance -= money\n",
    "            self.withdraw_log.append(money)\n",
    "            \n",
    "    def display_info(self):\n",
    "        print(f'은행이름: {self.bank}')\n",
    "        print(f'예금주: {self.name}')\n",
    "        print(f'계좌번호: {self.a_num}')\n",
    "        print(f'잔고: {self.balance:,}')\n",
    "        \n",
    "    def withdraw_history(self):\n",
    "        for amount in self.withdraw_log:\n",
    "            print(amount)\n",
    "\n",
    "    def deposit_history(self):\n",
    "        for amount in self.deposit_log:\n",
    "            print(amount)\n",
    "        \n",
    "k = Account(\"Kim\", 1000)\n",
    "k.deposit(100)\n",
    "k.deposit(200)\n",
    "k.deposit(300)\n",
    "k.deposit_history()\n",
    "\n",
    "k.withdraw(100)\n",
    "k.withdraw(200)\n",
    "k.withdraw_history()\n",
    "\n",
    "k.display_info()"
   ]
  },
  {
   "cell_type": "code",
   "execution_count": 90,
   "id": "ca7339ae",
   "metadata": {},
   "outputs": [
    {
     "name": "stdout",
     "output_type": "stream",
     "text": [
      "바퀴수 2\n",
      "가격 100\n",
      "구동계 시마노\n"
     ]
    }
   ],
   "source": [
    "#281~288\n",
    "\n",
    "class 차:\n",
    "    def __init__(self, 바퀴, 가격):\n",
    "        self.바퀴 = 바퀴\n",
    "        self.가격 = 가격\n",
    "    \n",
    "    def 정보(self):\n",
    "        print(f'바퀴수 {self.바퀴}')\n",
    "        print(f'가격 {self.가격}')\n",
    "        \n",
    "class 자전차(차):\n",
    "    def __init__(self, 바퀴, 가격, 구동계):\n",
    "        super().__init__(바퀴, 가격)\n",
    "        self.구동계 = 구동계\n",
    "        \n",
    "    def 정보(self):\n",
    "        super().정보()\n",
    "        print(f'구동계 {self.구동계}')\n",
    "        \n",
    "class 자동차(차):\n",
    "    def __init__(self, 바퀴, 가격):\n",
    "        super().__init__(바퀴, 가격)\n",
    "        \n",
    "bicycle = 자전차(2, 100, \"시마노\")\n",
    "bicycle.정보()"
   ]
  },
  {
   "cell_type": "markdown",
   "id": "030bacce",
   "metadata": {},
   "source": [
    "# 291~300 입출력과 예외처리"
   ]
  },
  {
   "cell_type": "code",
   "execution_count": 91,
   "id": "287a5a35",
   "metadata": {},
   "outputs": [
    {
     "name": "stdout",
     "output_type": "stream",
     "text": [
      "10.31\n",
      "0\n",
      "8.0\n"
     ]
    }
   ],
   "source": [
    "#296\n",
    "per = [\"10.31\", \"\", \"8.00\"]\n",
    "\n",
    "for i in per:\n",
    "    try:\n",
    "        print(float(i))\n",
    "    except:\n",
    "        print(0)"
   ]
  },
  {
   "cell_type": "code",
   "execution_count": 92,
   "id": "c181bf5c",
   "metadata": {},
   "outputs": [
    {
     "name": "stdout",
     "output_type": "stream",
     "text": [
      "[10.31, 0, 8.0]\n"
     ]
    }
   ],
   "source": [
    "#297\n",
    "per = [\"10.31\", \"\", \"8.00\"]\n",
    "new_per = []\n",
    "\n",
    "for i in per:\n",
    "    try:\n",
    "        v = float(i)\n",
    "    except:\n",
    "        v = 0\n",
    "    new_per.append(v)\n",
    "\n",
    "print(new_per)"
   ]
  },
  {
   "cell_type": "code",
   "execution_count": 93,
   "id": "a3b462f9",
   "metadata": {},
   "outputs": [
    {
     "name": "stdout",
     "output_type": "stream",
     "text": [
      "오류\n"
     ]
    }
   ],
   "source": [
    "#298\n",
    "try:\n",
    "    b = 3 / 0\n",
    "except ZeroDivisionError:\n",
    "    print(\"오류\")"
   ]
  },
  {
   "cell_type": "code",
   "execution_count": 94,
   "id": "bc2dd3ba",
   "metadata": {},
   "outputs": [
    {
     "name": "stdout",
     "output_type": "stream",
     "text": [
      "1\n",
      "2\n",
      "3\n",
      "list index out of range\n",
      "list index out of range\n"
     ]
    }
   ],
   "source": [
    "#299\n",
    "data = [1, 2, 3]\n",
    "\n",
    "for i in range(5):\n",
    "    try:\n",
    "        print(data[i])\n",
    "    except IndexError as e:\n",
    "        print(e)"
   ]
  },
  {
   "cell_type": "code",
   "execution_count": 95,
   "id": "1a4446e7",
   "metadata": {},
   "outputs": [
    {
     "name": "stdout",
     "output_type": "stream",
     "text": [
      "10.31\n",
      "괜춘\n",
      "완료\n",
      "0\n",
      "완료\n",
      "8.0\n",
      "괜춘\n",
      "완료\n"
     ]
    }
   ],
   "source": [
    "#300\n",
    "per = [\"10.31\", \"\", \"8.00\"]\n",
    "\n",
    "for i in per:\n",
    "    try:\n",
    "        print(float(i))\n",
    "    except:\n",
    "        print(0)\n",
    "    else:\n",
    "        print(\"괜춘\")\n",
    "    finally:\n",
    "        print(\"완료\")"
   ]
  },
  {
   "cell_type": "markdown",
   "id": "f1fdca32",
   "metadata": {},
   "source": [
    "# Q1. 다음은 Calculator 클래스이다.\n",
    "```python\n",
    "class Calculator:\n",
    "    def __init__(self):\n",
    "        self.value = 0\n",
    "    def add(self, val):\n",
    "        self.value += val\n",
    "```\n",
    "위 클래스를 상속하는 UpgradeCalculator를 만들고 값을 뺄 수 잇는 minus 메서드를 추가해보자.   \n",
    "즉 다음과 같이 동작하는 클래스를 만들어야 한다.\n",
    "```python\n",
    "cal = UpgradeCalculator()\n",
    "cal.add(10)\n",
    "cal.minus(7)\n",
    "print(cal.calue) # 10에서 7을 뺀 3을 출력\n",
    "```"
   ]
  },
  {
   "cell_type": "code",
   "execution_count": 10,
   "id": "90274e5d",
   "metadata": {},
   "outputs": [
    {
     "name": "stdout",
     "output_type": "stream",
     "text": [
      "3\n"
     ]
    }
   ],
   "source": [
    "class Calculator:\n",
    "    def __init__(self):\n",
    "        self.value = 0\n",
    "    def add(self, val):\n",
    "        self.value += val\n",
    "        \n",
    "class UpgradeCalculator(Calculator):\n",
    "    def minus(self, val):\n",
    "        self.value -= val\n",
    "        \n",
    "cal = UpgradeCalculator()\n",
    "cal.add(10)\n",
    "cal.minus(7)\n",
    "print(cal.value)"
   ]
  },
  {
   "cell_type": "markdown",
   "id": "75806738",
   "metadata": {},
   "source": [
    "# Q2. 객체 변수 value가 100 이상의 값은 가질 수 없도록 제한하는 MaxLimitCalculator 클래스를 만들어 보자. 즉 다음과 같이 동작해야 한다.\n",
    "```python\n",
    "cal = MaxLimitCalculator()\n",
    "cal.add(50) # 50 더하기\n",
    "cal.add(60) # 60 더하기\n",
    "\n",
    "print(cal.value) # 100 출력\n",
    "```\n",
    "\n",
    "단 반드시 다음과 같은 calculator 클래스를 상속해서 만들어야 한다.\n",
    "```python\n",
    "class Calculator:\n",
    "    def __init__(self):\n",
    "        self.value = 0\n",
    "    def add(self, val):\n",
    "        self.value += val\n",
    "```"
   ]
  },
  {
   "cell_type": "code",
   "execution_count": 13,
   "id": "d5bc73e1",
   "metadata": {},
   "outputs": [
    {
     "name": "stdout",
     "output_type": "stream",
     "text": [
      "100\n"
     ]
    }
   ],
   "source": [
    "class MaxLimitCalculator(Calculator):\n",
    "    def add(self, val):\n",
    "        self.value += val\n",
    "        if self.value > 100:\n",
    "            self.value = 100\n",
    "    \n",
    "cal = MaxLimitCalculator()\n",
    "cal.add(50)\n",
    "cal.add(60)\n",
    "\n",
    "print(cal.value)"
   ]
  },
  {
   "cell_type": "markdown",
   "id": "7286e434",
   "metadata": {},
   "source": [
    "# Q3. 다음 결과를 예측해 보자.\n",
    "```python\n",
    "# 1.\n",
    ">>> all({1, 2, abs(-3)-3})\n",
    "\n",
    "# 2.\n",
    ">>> chr(ord('a')) == 'a'\n",
    "```"
   ]
  },
  {
   "cell_type": "code",
   "execution_count": 14,
   "id": "b686ab29",
   "metadata": {},
   "outputs": [
    {
     "data": {
      "text/plain": [
       "False"
      ]
     },
     "execution_count": 14,
     "metadata": {},
     "output_type": "execute_result"
    }
   ],
   "source": [
    "all({1, 2, abs(-3)-3})"
   ]
  },
  {
   "cell_type": "code",
   "execution_count": 15,
   "id": "ca368765",
   "metadata": {},
   "outputs": [
    {
     "data": {
      "text/plain": [
       "True"
      ]
     },
     "execution_count": 15,
     "metadata": {},
     "output_type": "execute_result"
    }
   ],
   "source": [
    "chr(ord('a')) == 'a'"
   ]
  },
  {
   "cell_type": "markdown",
   "id": "ff058604",
   "metadata": {},
   "source": [
    "# Q4. filter와 lambda를 사용하여 리스트 [1, -2, 3, -5, 8, -3]에서 음수를 모두 제거해 보자."
   ]
  },
  {
   "cell_type": "code",
   "execution_count": 16,
   "id": "4da2f202",
   "metadata": {},
   "outputs": [
    {
     "data": {
      "text/plain": [
       "[1, 3, 8]"
      ]
     },
     "execution_count": 16,
     "metadata": {},
     "output_type": "execute_result"
    }
   ],
   "source": [
    "list(filter(lambda x: x > 0, [1, -2, 3, -5, 8, -3]))"
   ]
  },
  {
   "cell_type": "markdown",
   "id": "3810c0b8",
   "metadata": {},
   "source": [
    "# Q5. 234라는 10진수의 16진수는 다음과 같이 구할 수 있다.\n",
    "```python\n",
    ">>> hex(234)\n",
    "'0xea'\n",
    "```\n",
    "이번에는 반대로 16진수 문자열 0xea를 10진수로 변경해 보자."
   ]
  },
  {
   "cell_type": "code",
   "execution_count": 20,
   "id": "c94be636",
   "metadata": {},
   "outputs": [
    {
     "data": {
      "text/plain": [
       "234"
      ]
     },
     "execution_count": 20,
     "metadata": {},
     "output_type": "execute_result"
    }
   ],
   "source": [
    "int(0xea)"
   ]
  },
  {
   "cell_type": "markdown",
   "id": "6c563fc7",
   "metadata": {},
   "source": [
    "# Q6. map과 lambda를 사용하여 [1, 2, 3, 4] 리스트의 각 요솟값에 3이 곱해진 리스트 [3, 6, 9, 12]를 만들어 보자."
   ]
  },
  {
   "cell_type": "code",
   "execution_count": 21,
   "id": "f303e800",
   "metadata": {},
   "outputs": [
    {
     "data": {
      "text/plain": [
       "[3, 6, 9, 12]"
      ]
     },
     "execution_count": 21,
     "metadata": {},
     "output_type": "execute_result"
    }
   ],
   "source": [
    "list(map(lambda x: x*3,[1, 2, 3, 4] ))"
   ]
  },
  {
   "cell_type": "markdown",
   "id": "5abd78a0",
   "metadata": {},
   "source": [
    "# Q7. 다음 리스트의 최댓값과 최솟값의 합을 구해 보자.\n",
    "[-8, 2, 7, 5, -3, 5, 0, 1]"
   ]
  },
  {
   "cell_type": "code",
   "execution_count": 22,
   "id": "4527968b",
   "metadata": {},
   "outputs": [
    {
     "data": {
      "text/plain": [
       "7"
      ]
     },
     "execution_count": 22,
     "metadata": {},
     "output_type": "execute_result"
    }
   ],
   "source": [
    "max([-8, 2, 7, 5, -3, 5, 0, 1])"
   ]
  },
  {
   "cell_type": "code",
   "execution_count": 23,
   "id": "492bd6d3",
   "metadata": {},
   "outputs": [
    {
     "data": {
      "text/plain": [
       "-8"
      ]
     },
     "execution_count": 23,
     "metadata": {},
     "output_type": "execute_result"
    }
   ],
   "source": [
    "min([-8, 2, 7, 5, -3, 5, 0, 1])"
   ]
  },
  {
   "cell_type": "markdown",
   "id": "b64ed240",
   "metadata": {},
   "source": [
    "# Q8. 17 / 3의 결과는 다음과 같다.\n",
    "```python\n",
    ">>> 17 / 3\n",
    "5.666666666667\n",
    "```\n",
    "위와 같은 결괏값 5.6666666666667을 소숫점 4자리까지만 반올림하여 표시해 보자."
   ]
  },
  {
   "cell_type": "code",
   "execution_count": 24,
   "id": "730d116a",
   "metadata": {},
   "outputs": [
    {
     "data": {
      "text/plain": [
       "5.6667"
      ]
     },
     "execution_count": 24,
     "metadata": {},
     "output_type": "execute_result"
    }
   ],
   "source": [
    "round(17/3,4)"
   ]
  },
  {
   "cell_type": "markdown",
   "id": "6ae88f19",
   "metadata": {},
   "source": [
    "# Q9. 다음과 같이 실행할 때 입력값을 모두 더하여 출력하는 스크립트(C:\\doit\\myargv.py)를 작성해 보자.\n",
    "```\n",
    "C:\\> cd doit\n",
    "C:\\dodit> python myargv.py 1 2 3 4 5 6 7 8 9 10\n",
    "```"
   ]
  },
  {
   "cell_type": "code",
   "execution_count": 27,
   "id": "93068ed8",
   "metadata": {},
   "outputs": [
    {
     "name": "stdout",
     "output_type": "stream",
     "text": [
      "55\n"
     ]
    }
   ],
   "source": [
    "def myargy(*args):\n",
    "    result = sum(args)\n",
    "    return result\n",
    "\n",
    "a = myargy(1,2,3,4,5,6,7,8,9,10)\n",
    "print(a)"
   ]
  },
  {
   "cell_type": "markdown",
   "id": "ac41096a",
   "metadata": {},
   "source": [
    "# Q10. OS 모듈을 사용하여 다음과 같이 동작하도록 코드를 작성해 보자.\n",
    "1. C:\\doit 디렉터리로 이동한다.\n",
    "2. dir 명령을 실행하고 그 결과를 변수에 담는다.\n",
    "3. dir 명령의 결과를 출력한다."
   ]
  },
  {
   "cell_type": "code",
   "execution_count": null,
   "id": "6cef3623",
   "metadata": {},
   "outputs": [],
   "source": [
    "import os\n",
    "\n",
    "os.chdir(\"C:\\\\doit\")\n",
    "result = os.popen(\"dir\").read()\n",
    "print(result)"
   ]
  },
  {
   "cell_type": "markdown",
   "id": "e1df445d",
   "metadata": {},
   "source": [
    "# Q11. glob 모듈을 사용하여 C:\\doit 디렉터리의 파일 중 확장자가 .ipynb인 파일만 출력하는 프로그램을 작성해 보자."
   ]
  },
  {
   "cell_type": "code",
   "execution_count": 28,
   "id": "b69ab522",
   "metadata": {},
   "outputs": [],
   "source": [
    "import glob\n",
    "\n",
    "files = glob.glob(\"C:\\\\doit\\\\*.ipynb\")\n",
    "for file in files:\n",
    "    print(file)"
   ]
  },
  {
   "cell_type": "markdown",
   "id": "d7b91fea",
   "metadata": {},
   "source": [
    "# Q12. time 모듈을 사용하여 현재 날짜와 시간을 다음과 같은 형식으로 출력해 보자.\n",
    "2018/04/03 17:20:32"
   ]
  },
  {
   "cell_type": "code",
   "execution_count": 29,
   "id": "e2a5f482",
   "metadata": {},
   "outputs": [
    {
     "name": "stdout",
     "output_type": "stream",
     "text": [
      "2023/12/05 23:28:50\n"
     ]
    }
   ],
   "source": [
    "import time\n",
    "\n",
    "current_time = time.strftime(\"%Y/%m/%d %H:%M:%S\")\n",
    "print(current_time)"
   ]
  },
  {
   "cell_type": "markdown",
   "id": "393cd834",
   "metadata": {},
   "source": [
    "# Q13. random 모듈을 사용하여 로또 번호 (1~45 사이의 숫자 6개)를 생성해보자(단 중복된 숫자가 있으면 안됨)."
   ]
  },
  {
   "cell_type": "code",
   "execution_count": 34,
   "id": "c4b093dc",
   "metadata": {},
   "outputs": [
    {
     "name": "stdout",
     "output_type": "stream",
     "text": [
      "로또 번호: [7, 32, 45, 29, 16, 42]\n"
     ]
    }
   ],
   "source": [
    "import random\n",
    "\n",
    "def generate_lotto_numbers():\n",
    "    numbers = list(range(1,46))\n",
    "    lotto_numbers = random.sample(numbers, 6)\n",
    "    \n",
    "    return lotto_numbers\n",
    "\n",
    "lotto_result = generate_lotto_numbers()\n",
    "print(\"로또 번호:\", lotto_result)"
   ]
  },
  {
   "cell_type": "markdown",
   "id": "ee89ff74",
   "metadata": {},
   "source": [
    "\"성공은 매일 반복한 작은 노력들의 합이다.\"\n",
    "- 로버트 콜리어"
   ]
  }
 ],
 "metadata": {
  "kernelspec": {
   "display_name": "Python 3 (ipykernel)",
   "language": "python",
   "name": "python3"
  },
  "language_info": {
   "codemirror_mode": {
    "name": "ipython",
    "version": 3
   },
   "file_extension": ".py",
   "mimetype": "text/x-python",
   "name": "python",
   "nbconvert_exporter": "python",
   "pygments_lexer": "ipython3",
   "version": "3.11.5"
  },
  "toc": {
   "base_numbering": 1,
   "nav_menu": {},
   "number_sections": true,
   "sideBar": true,
   "skip_h1_title": false,
   "title_cell": "Table of Contents",
   "title_sidebar": "Contents",
   "toc_cell": false,
   "toc_position": {},
   "toc_section_display": true,
   "toc_window_display": false
  },
  "varInspector": {
   "cols": {
    "lenName": 16,
    "lenType": 16,
    "lenVar": 40
   },
   "kernels_config": {
    "python": {
     "delete_cmd_postfix": "",
     "delete_cmd_prefix": "del ",
     "library": "var_list.py",
     "varRefreshCmd": "print(var_dic_list())"
    },
    "r": {
     "delete_cmd_postfix": ") ",
     "delete_cmd_prefix": "rm(",
     "library": "var_list.r",
     "varRefreshCmd": "cat(var_dic_list()) "
    }
   },
   "types_to_exclude": [
    "module",
    "function",
    "builtin_function_or_method",
    "instance",
    "_Feature"
   ],
   "window_display": false
  }
 },
 "nbformat": 4,
 "nbformat_minor": 5
}
