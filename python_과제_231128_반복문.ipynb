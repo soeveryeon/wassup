{
 "cells": [
  {
   "cell_type": "code",
   "execution_count": 2,
   "id": "474f7e87",
   "metadata": {},
   "outputs": [
    {
     "name": "stdout",
     "output_type": "stream",
     "text": [
      "나무를 1번 찍었습니다.\n",
      "나무를 2번 찍었습니다.\n",
      "나무를 3번 찍었습니다.\n",
      "나무를 4번 찍었습니다.\n",
      "나무를 5번 찍었습니다.\n",
      "나무를 6번 찍었습니다.\n",
      "나무를 7번 찍었습니다.\n",
      "나무를 8번 찍었습니다.\n",
      "나무를 9번 찍었습니다.\n",
      "나무를 10번 찍었습니다.\n",
      "나무 넘어갑니다.\n"
     ]
    }
   ],
   "source": [
    "#연습(1)\n",
    "treeHit = 0\n",
    "while treeHit < 10:\n",
    "    treeHit = treeHit + 1\n",
    "    print(\"나무를 %d번 찍었습니다.\" % treeHit)\n",
    "    if treeHit == 10:\n",
    "        print(\"나무 넘어갑니다.\")"
   ]
  },
  {
   "cell_type": "code",
   "execution_count": 3,
   "id": "54e59da3",
   "metadata": {},
   "outputs": [
    {
     "name": "stdout",
     "output_type": "stream",
     "text": [
      "나무를 1번 찍었습니다.\n",
      "나무를 2번 찍었습니다.\n",
      "나무를 3번 찍었습니다.\n",
      "나무를 4번 찍었습니다.\n",
      "나무를 5번 찍었습니다.\n",
      "나무를 6번 찍었습니다.\n",
      "나무를 7번 찍었습니다.\n",
      "나무를 8번 찍었습니다.\n",
      "나무를 9번 찍었습니다.\n",
      "나무를 10번 찍었습니다.\n",
      "나무 넘어갑니다.\n"
     ]
    }
   ],
   "source": [
    "treehit = 0\n",
    "while treehit < 10:\n",
    "    treehit += 1\n",
    "    print(f'나무를 {treehit}번 찍었습니다.')\n",
    "print('나무 넘어갑니다.')"
   ]
  },
  {
   "cell_type": "code",
   "execution_count": 7,
   "id": "e78d29a3",
   "metadata": {},
   "outputs": [
    {
     "name": "stdout",
     "output_type": "stream",
     "text": [
      "Python Coffee machine\n",
      "나가기:1004입력\n",
      "\n",
      "요청:돈을 넣어라: 500\n",
      "응답:잔돈 200준다 커피도 준다\n",
      "남은커피 9잔 남았다\n",
      "\n",
      "Python Coffee machine\n",
      "나가기:1004입력\n",
      "\n",
      "요청:돈을 넣어라: 600\n",
      "응답:잔돈 300준다 커피도 준다\n",
      "남은커피 8잔 남았다\n",
      "\n",
      "Python Coffee machine\n",
      "나가기:1004입력\n",
      "\n",
      "요청:돈을 넣어라: 300\n",
      "응답:커피준다\n",
      "남은커피 7잔 남았다\n",
      "\n",
      "Python Coffee machine\n",
      "나가기:1004입력\n",
      "\n",
      "요청:돈을 넣어라: 200\n",
      "응답:돈 부족하다. 커피 안준다\n",
      "남은커피 7잔 남았다\n",
      "\n",
      "Python Coffee machine\n",
      "나가기:1004입력\n",
      "\n",
      "요청:돈을 넣어라: 1004\n",
      "종료:잘가\n"
     ]
    }
   ],
   "source": [
    "#연습(2)\n",
    "coffee = 10\n",
    "while True:\n",
    "    print('Python Coffee machine\\n나가기:1004입력\\n')\n",
    "    try:\n",
    "        money = int(input('요청:돈을 넣어라: '))\n",
    "    except ValueError:\n",
    "        print('응답:돈만 넣어라\\n')\n",
    "        continue\n",
    "    if money == 300:\n",
    "        print('응답:커피준다')\n",
    "        coffee -= 1\n",
    "        print(f'남은커피 {coffee}잔 남았다\\n')\n",
    "    elif money == 1004:\n",
    "        print('종료:잘가')\n",
    "        break\n",
    "    elif money > 300:\n",
    "        print(f'응답:잔돈 {money - 300}준다 커피도 준다')\n",
    "        coffee -= 1\n",
    "        print(f'남은커피 {coffee}잔 남았다\\n')\n",
    "    else:\n",
    "        print('응답:돈 부족하다. 커피 안준다')\n",
    "        print(f'남은커피 {coffee}잔 남았다\\n')\n",
    "    if coffee == 0:\n",
    "        print('종료:남은커피 없다. 커피 안판다')\n",
    "        break"
   ]
  },
  {
   "cell_type": "code",
   "execution_count": 10,
   "id": "d96d79a1",
   "metadata": {},
   "outputs": [
    {
     "name": "stdout",
     "output_type": "stream",
     "text": [
      "1\n",
      "3\n",
      "5\n",
      "7\n",
      "9\n"
     ]
    }
   ],
   "source": [
    "#연습(3)\n",
    "a = 0\n",
    "while a < 10 :\n",
    "    a += 1\n",
    "    if a % 2 == 0: continue\n",
    "    print(a)    "
   ]
  },
  {
   "cell_type": "code",
   "execution_count": 11,
   "id": "b313f9bf",
   "metadata": {},
   "outputs": [
    {
     "name": "stdout",
     "output_type": "stream",
     "text": [
      "1\n",
      "2\n",
      "3\n",
      "4\n"
     ]
    }
   ],
   "source": [
    "#연습(4)\n",
    "test_list = [1, 2, 3, 4]\n",
    "for i in test_list:\n",
    "    print(i)"
   ]
  },
  {
   "cell_type": "code",
   "execution_count": 14,
   "id": "7efbfe15",
   "metadata": {},
   "outputs": [
    {
     "name": "stdout",
     "output_type": "stream",
     "text": [
      "김민지 불합격\n",
      "이도현 합격\n",
      "김장현 불합격\n",
      "감나라 합격\n",
      "이미지 합격\n"
     ]
    }
   ],
   "source": [
    "#연습(5)\n",
    "score = {\"김민지\":45, \"이도현\":65, \"김장현\":20, \"감나라\":70, \"이미지\":60}\n",
    "for a, b in score.items():\n",
    "    if b >= 60:\n",
    "        print(f'{a} 합격')\n",
    "    else:\n",
    "        print(f'{a} 불합격')"
   ]
  },
  {
   "cell_type": "code",
   "execution_count": 15,
   "id": "bc83c857",
   "metadata": {},
   "outputs": [
    {
     "name": "stdout",
     "output_type": "stream",
     "text": [
      "55\n"
     ]
    }
   ],
   "source": [
    "#연습(6)\n",
    "add = 0\n",
    "for i in range(1,11):\n",
    "    add += i\n",
    "print(add)"
   ]
  },
  {
   "cell_type": "code",
   "execution_count": 16,
   "id": "ef453014",
   "metadata": {},
   "outputs": [
    {
     "name": "stdout",
     "output_type": "stream",
     "text": [
      "[6, 12]\n"
     ]
    }
   ],
   "source": [
    "#연습(7)\n",
    "a = [1,2,3,4]\n",
    "result = [num*3 for num in a if num % 2 == 0]\n",
    "print(result)"
   ]
  },
  {
   "cell_type": "code",
   "execution_count": 17,
   "id": "574f49a4",
   "metadata": {},
   "outputs": [
    {
     "name": "stdout",
     "output_type": "stream",
     "text": [
      "2 4 6 8 10 12 14 16 18 \n",
      "3 6 9 12 15 18 21 24 27 \n",
      "4 8 12 16 20 24 28 32 36 \n",
      "5 10 15 20 25 30 35 40 45 \n",
      "6 12 18 24 30 36 42 48 54 \n",
      "7 14 21 28 35 42 49 56 63 \n",
      "8 16 24 32 40 48 56 64 72 \n",
      "9 18 27 36 45 54 63 72 81 \n"
     ]
    }
   ],
   "source": [
    "#연습(8)\n",
    "for i in range(2,10):\n",
    "    for j in range(1,10):\n",
    "        print(i*j, end=\" \")\n",
    "    print('')"
   ]
  },
  {
   "cell_type": "markdown",
   "id": "d2ce51bd",
   "metadata": {},
   "source": [
    "# 131 ~ 200 (반복문)"
   ]
  },
  {
   "cell_type": "code",
   "execution_count": 19,
   "id": "83e85b94",
   "metadata": {},
   "outputs": [
    {
     "name": "stdout",
     "output_type": "stream",
     "text": [
      "사과 귤 수박 "
     ]
    }
   ],
   "source": [
    "#131\n",
    "과일 = [\"사과\", \"귤\", \"수박\"]\n",
    "for 변수 in 과일:\n",
    "    print(변수, end=\" \")"
   ]
  },
  {
   "cell_type": "code",
   "execution_count": 21,
   "id": "e58d7df0",
   "metadata": {},
   "outputs": [
    {
     "name": "stdout",
     "output_type": "stream",
     "text": [
      "#####\n",
      "#####\n",
      "#####\n"
     ]
    }
   ],
   "source": [
    "#132\n",
    "과일 = [\"사과\", \"귤\", \"수박\"]\n",
    "for 변수 in 과일:\n",
    "    print(\"#####\")"
   ]
  },
  {
   "cell_type": "code",
   "execution_count": null,
   "id": "9710b416",
   "metadata": {},
   "outputs": [],
   "source": []
  }
 ],
 "metadata": {
  "kernelspec": {
   "display_name": "Python 3 (ipykernel)",
   "language": "python",
   "name": "python3"
  },
  "language_info": {
   "codemirror_mode": {
    "name": "ipython",
    "version": 3
   },
   "file_extension": ".py",
   "mimetype": "text/x-python",
   "name": "python",
   "nbconvert_exporter": "python",
   "pygments_lexer": "ipython3",
   "version": "3.11.5"
  }
 },
 "nbformat": 4,
 "nbformat_minor": 5
}
