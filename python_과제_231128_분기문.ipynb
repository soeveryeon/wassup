{
 "cells": [
  {
   "cell_type": "code",
   "execution_count": 3,
   "id": "88cc8090",
   "metadata": {},
   "outputs": [
    {
     "name": "stdout",
     "output_type": "stream",
     "text": [
      "택시\n"
     ]
    }
   ],
   "source": [
    "#연습(1)\n",
    "money = 4000\n",
    "card = True\n",
    "if money >= 3000 or card:\n",
    "    print(\"택시\")\n",
    "else:\n",
    "    print(\"도보\")"
   ]
  },
  {
   "cell_type": "code",
   "execution_count": 5,
   "id": "acd095b5",
   "metadata": {},
   "outputs": [
    {
     "name": "stdout",
     "output_type": "stream",
     "text": [
      "도보\n"
     ]
    }
   ],
   "source": [
    "#연습(2)\n",
    "주머니 = [\"핸드폰\", \"립밤\"]\n",
    "if \"돈\" in 주머니:\n",
    "    print(\"택시\")\n",
    "else:\n",
    "    print(\"도보\")"
   ]
  },
  {
   "cell_type": "code",
   "execution_count": 7,
   "id": "aea62b0f",
   "metadata": {},
   "outputs": [
    {
     "name": "stdout",
     "output_type": "stream",
     "text": [
      "도보\n"
     ]
    }
   ],
   "source": [
    "#연습(3)\n",
    "주머니 = [\"핸드폰\", \"립밤\"]\n",
    "if \"돈\" in 주머니:\n",
    "    print(\"택시\")\n",
    "elif \"카드\" in 주머니:\n",
    "    print(\"택시\")\n",
    "else:\n",
    "    print(\"도보\")"
   ]
  },
  {
   "cell_type": "code",
   "execution_count": 8,
   "id": "2566a26d",
   "metadata": {},
   "outputs": [
    {
     "data": {
      "text/plain": [
       "'success'"
      ]
     },
     "execution_count": 8,
     "metadata": {},
     "output_type": "execute_result"
    }
   ],
   "source": [
    "#연습(4)\n",
    "score = 80\n",
    "if score >= 60:\n",
    "    message = \"success\"\n",
    "else:\n",
    "    message = \"failure\"\n",
    "message"
   ]
  },
  {
   "cell_type": "code",
   "execution_count": 10,
   "id": "530a9121",
   "metadata": {},
   "outputs": [
    {
     "data": {
      "text/plain": [
       "'success'"
      ]
     },
     "execution_count": 10,
     "metadata": {},
     "output_type": "execute_result"
    }
   ],
   "source": [
    "message = \"success\" if score >= 60 else \"failure\"\n",
    "message"
   ]
  },
  {
   "cell_type": "markdown",
   "id": "7327b60a",
   "metadata": {},
   "source": [
    "## 101 ~ 130 분기문"
   ]
  },
  {
   "cell_type": "markdown",
   "id": "5fb25fdb",
   "metadata": {},
   "source": [
    "#101\\\n",
    "파이썬에서 True 혹은 False를 갖는 데이터 타입은 무엇인가?\\\n",
    "-> bool형"
   ]
  },
  {
   "cell_type": "code",
   "execution_count": 12,
   "id": "d80e152a",
   "metadata": {},
   "outputs": [
    {
     "name": "stdout",
     "output_type": "stream",
     "text": [
      "False\n"
     ]
    }
   ],
   "source": [
    "#102\n",
    "print(3 == 5)"
   ]
  },
  {
   "cell_type": "code",
   "execution_count": 13,
   "id": "5f5cd99e",
   "metadata": {},
   "outputs": [
    {
     "name": "stdout",
     "output_type": "stream",
     "text": [
      "True\n"
     ]
    }
   ],
   "source": [
    "#103\n",
    "print(3 < 5)"
   ]
  },
  {
   "cell_type": "code",
   "execution_count": 14,
   "id": "85432ed9",
   "metadata": {},
   "outputs": [
    {
     "name": "stdout",
     "output_type": "stream",
     "text": [
      "True\n"
     ]
    }
   ],
   "source": [
    "#104\n",
    "x = 4\n",
    "print(1 < x < 5)"
   ]
  },
  {
   "cell_type": "code",
   "execution_count": 15,
   "id": "63b8c494",
   "metadata": {},
   "outputs": [
    {
     "name": "stdout",
     "output_type": "stream",
     "text": [
      "True\n"
     ]
    }
   ],
   "source": [
    "#105\n",
    "print((3 == 3) and (4 != 3))"
   ]
  },
  {
   "cell_type": "code",
   "execution_count": 16,
   "id": "5f1df916",
   "metadata": {},
   "outputs": [
    {
     "ename": "SyntaxError",
     "evalue": "expression cannot contain assignment, perhaps you meant \"==\"? (14590772.py, line 2)",
     "output_type": "error",
     "traceback": [
      "\u001b[1;36m  Cell \u001b[1;32mIn[16], line 2\u001b[1;36m\u001b[0m\n\u001b[1;33m    print(3 => 4)\u001b[0m\n\u001b[1;37m          ^\u001b[0m\n\u001b[1;31mSyntaxError\u001b[0m\u001b[1;31m:\u001b[0m expression cannot contain assignment, perhaps you meant \"==\"?\n"
     ]
    }
   ],
   "source": [
    "#106\n",
    "print(3 => 4)\n",
    "#print(3 >= 4) 로 해야됨"
   ]
  },
  {
   "cell_type": "code",
   "execution_count": 17,
   "id": "d96f5c1f",
   "metadata": {},
   "outputs": [],
   "source": [
    "#107\n",
    "#False이고 else문 작성 안했기 때문에 아무것도 뜨지 않을것\n",
    "if 4 < 3:\n",
    "    print(\"Hello World\")"
   ]
  },
  {
   "cell_type": "code",
   "execution_count": 18,
   "id": "ed05f9f3",
   "metadata": {},
   "outputs": [
    {
     "name": "stdout",
     "output_type": "stream",
     "text": [
      "Hi, there\n"
     ]
    }
   ],
   "source": [
    "#108\n",
    "if 4 < 3:\n",
    "    print(\"Hello World\")\n",
    "else:\n",
    "    print(\"Hi, there\")"
   ]
  },
  {
   "cell_type": "code",
   "execution_count": 19,
   "id": "84cb579d",
   "metadata": {},
   "outputs": [
    {
     "name": "stdout",
     "output_type": "stream",
     "text": [
      "1\n",
      "2\n",
      "4\n"
     ]
    }
   ],
   "source": [
    "#109\n",
    "#예상:오류가 날 것 같다. 들여쓰기가 다르고 머가 True인지 지정하지 않았기 때문?\n",
    "#그냥 True니까 냅다 1, 2가 출력 되었고, 4는 조건문에 포함되지 않으므로 그냥 출력이군 \n",
    "if True:\n",
    "    print(\"1\")\n",
    "    print(\"2\")\n",
    "else:\n",
    "    print(\"3\")\n",
    "print(\"4\")"
   ]
  },
  {
   "cell_type": "code",
   "execution_count": 20,
   "id": "907a3084",
   "metadata": {},
   "outputs": [
    {
     "name": "stdout",
     "output_type": "stream",
     "text": [
      "3\n",
      "5\n"
     ]
    }
   ],
   "source": [
    "#110\n",
    "#예상:3, 5\n",
    "if True :\n",
    "    if False:\n",
    "        print(\"1\")\n",
    "        print(\"2\")\n",
    "    else:\n",
    "        print(\"3\")\n",
    "else :\n",
    "    print(\"4\")\n",
    "print(\"5\")"
   ]
  },
  {
   "cell_type": "code",
   "execution_count": 21,
   "id": "c3dda70c",
   "metadata": {},
   "outputs": [
    {
     "name": "stdout",
     "output_type": "stream",
     "text": [
      "안녕하세요안녕하세요\n"
     ]
    }
   ],
   "source": [
    "#111\n",
    "a = \"안녕하세요\"\n",
    "print(a*2)"
   ]
  },
  {
   "cell_type": "code",
   "execution_count": 22,
   "id": "a2a4a89b",
   "metadata": {},
   "outputs": [
    {
     "name": "stdout",
     "output_type": "stream",
     "text": [
      "입력:안녕하세요\n",
      "안녕하세요안녕하세요\n"
     ]
    }
   ],
   "source": [
    "user = input(\"입력:\")\n",
    "print(user*2)"
   ]
  },
  {
   "cell_type": "code",
   "execution_count": 25,
   "id": "2f9495cd",
   "metadata": {},
   "outputs": [
    {
     "name": "stdout",
     "output_type": "stream",
     "text": [
      "숫자를 입력하세요: 30\n",
      "40\n"
     ]
    }
   ],
   "source": [
    "#112\n",
    "math = int(input(\"숫자를 입력하세요: \"))\n",
    "print(math+10)"
   ]
  },
  {
   "cell_type": "code",
   "execution_count": 31,
   "id": "2c81d5f9",
   "metadata": {},
   "outputs": [
    {
     "name": "stdout",
     "output_type": "stream",
     "text": [
      "30\n",
      "짝수\n"
     ]
    }
   ],
   "source": [
    "#113\n",
    "a = int(input())\n",
    "if a%2 == 0:\n",
    "    print(\"짝수\")\n",
    "else:\n",
    "    print(\"홀수\")"
   ]
  },
  {
   "cell_type": "code",
   "execution_count": 36,
   "id": "9c561b90",
   "metadata": {},
   "outputs": [
    {
     "name": "stdout",
     "output_type": "stream",
     "text": [
      "입력값: 240\n",
      "255\n"
     ]
    }
   ],
   "source": [
    "#114\n",
    "a = input(\"입력값: \")\n",
    "if int(a)+20 <= 255:\n",
    "    print(int(a)+20)\n",
    "else:\n",
    "    print(255)"
   ]
  },
  {
   "cell_type": "code",
   "execution_count": 38,
   "id": "f134266a",
   "metadata": {},
   "outputs": [
    {
     "name": "stdout",
     "output_type": "stream",
     "text": [
      "입력값: 240\n",
      "255\n"
     ]
    }
   ],
   "source": [
    "user = input(\"입력값: \")\n",
    "num = int(user) + 20\n",
    "if num > 255:\n",
    "    print(255)\n",
    "else:\n",
    "    print(num)"
   ]
  },
  {
   "cell_type": "code",
   "execution_count": 41,
   "id": "f6a63381",
   "metadata": {},
   "outputs": [
    {
     "name": "stdout",
     "output_type": "stream",
     "text": [
      "입력값: 200\n",
      "180\n"
     ]
    }
   ],
   "source": [
    "#115\n",
    "user = input(\"입력값: \")\n",
    "num = int(user) - 20\n",
    "if num < 0:\n",
    "    print(0)\n",
    "elif num > 255:\n",
    "    print(255)\n",
    "else:\n",
    "    print(num)\n",
    "    "
   ]
  },
  {
   "cell_type": "code",
   "execution_count": 44,
   "id": "1f8e949b",
   "metadata": {},
   "outputs": [
    {
     "name": "stdout",
     "output_type": "stream",
     "text": [
      "현재시간: 20:10\n",
      "정각이 아닙니다.\n"
     ]
    }
   ],
   "source": [
    "#116\n",
    "user = input(\"현재시간: \")\n",
    "time = user[3:]\n",
    "if time == \"00\":\n",
    "    print(\"정각 입니다.\")\n",
    "else:\n",
    "    print(\"정각이 아닙니다.\")"
   ]
  },
  {
   "cell_type": "code",
   "execution_count": 46,
   "id": "bd779104",
   "metadata": {},
   "outputs": [
    {
     "name": "stdout",
     "output_type": "stream",
     "text": [
      "좋아하는 과일은? 메론\n",
      "오답입니다.\n"
     ]
    }
   ],
   "source": [
    "#117\n",
    "user = input(\"좋아하는 과일은? \")\n",
    "fruit = [\"사과\", \"포도\", \"홍시\"]\n",
    "if user in fruit:\n",
    "    print(\"정답입니다.\")\n",
    "else:\n",
    "    print(\"오답입니다.\")"
   ]
  },
  {
   "cell_type": "code",
   "execution_count": 48,
   "id": "907a935a",
   "metadata": {},
   "outputs": [
    {
     "name": "stdout",
     "output_type": "stream",
     "text": [
      "EST\n",
      "투자 경고 종목이 아닙니다.\n"
     ]
    }
   ],
   "source": [
    "#118\n",
    "warn_investment_list = [\"Microsoft\", \"Google\", \"Naver\", \"Kakao\", \"SAMSUNG\", \"LG\"]\n",
    "user = input(\"\")\n",
    "if user in warn_investment_list:\n",
    "    print(\"투자 경고 종목입니다.\")\n",
    "else:\n",
    "    print(\"투자 경고 종목이 아닙니다.\")"
   ]
  },
  {
   "cell_type": "code",
   "execution_count": 52,
   "id": "6035b1d8",
   "metadata": {},
   "outputs": [
    {
     "name": "stdout",
     "output_type": "stream",
     "text": [
      "제가 좋아하는 계절은: 여름\n",
      "정답입니다.\n"
     ]
    }
   ],
   "source": [
    "#119\n",
    "fruit = {\"봄\" : \"딸기\", \"여름\" : \"토마토\", \"가을\" : \"사과\"}\n",
    "user = input(\"제가 좋아하는 계절은: \")\n",
    "if user in fruit:\n",
    "    print(\"정답입니다.\")\n",
    "else:\n",
    "    print(\"오답입니다.\")"
   ]
  },
  {
   "cell_type": "code",
   "execution_count": 54,
   "id": "89e015cb",
   "metadata": {},
   "outputs": [
    {
     "name": "stdout",
     "output_type": "stream",
     "text": [
      "좋아하는 과일은? 토마토\n",
      "정답입니다.\n"
     ]
    }
   ],
   "source": [
    "#120\n",
    "user = input(\"좋아하는 과일은? \")\n",
    "v = fruit.values()\n",
    "if user in v:\n",
    "    print(\"정답입니다.\")\n",
    "else:\n",
    "    print(\"오답입니다.\")"
   ]
  },
  {
   "cell_type": "code",
   "execution_count": 57,
   "id": "d96e8d80",
   "metadata": {},
   "outputs": [
    {
     "name": "stdout",
     "output_type": "stream",
     "text": [
      "a\n",
      "A\n"
     ]
    }
   ],
   "source": [
    "#121\n",
    "user = input(\"\")\n",
    "if user.islower():\n",
    "    print(user.upper())\n",
    "else:\n",
    "    peint(user.lower())"
   ]
  },
  {
   "cell_type": "code",
   "execution_count": 61,
   "id": "13d773c0",
   "metadata": {},
   "outputs": [
    {
     "name": "stdout",
     "output_type": "stream",
     "text": [
      "score: 40\n",
      "grade is D\n"
     ]
    }
   ],
   "source": [
    "#122\n",
    "user = int(input(\"score: \"))\n",
    "if 0 <= user < 21:\n",
    "    print(\"grade is E\")\n",
    "elif 20 < user < 41:\n",
    "    print(\"grade is D\")\n",
    "elif 40 < user < 61:\n",
    "    print(\"grade is C\")\n",
    "elif 60 < user < 81:\n",
    "    print(\"grade is B\")\n",
    "elif 80 < user < 101:\n",
    "    print(\"grade is A\")\n",
    "else:\n",
    "    print(\"다시 입력하세요.\")"
   ]
  },
  {
   "cell_type": "code",
   "execution_count": 66,
   "id": "a2125471",
   "metadata": {},
   "outputs": [
    {
     "name": "stdout",
     "output_type": "stream",
     "text": [
      "입력: 100 달러\n",
      "116700.0 원\n"
     ]
    }
   ],
   "source": [
    "#123 ⭐⭐⭐\n",
    "user = input(\"입력: \")\n",
    "m = user[user.find(\" \"):]\n",
    "change = float(user[:user.find(\" \")])\n",
    "if m == \" 달러\":\n",
    "    print(change*1167,\"원\")\n",
    "elif m == \" 엔\":\n",
    "    print(change*1.096,\"원\")\n",
    "elif m == \" 유로\":\n",
    "    print(change*1268,\"원\")\n",
    "else:\n",
    "    print(change*171,\"원\")"
   ]
  },
  {
   "cell_type": "code",
   "execution_count": 71,
   "id": "39a0be9c",
   "metadata": {},
   "outputs": [
    {
     "name": "stdout",
     "output_type": "stream",
     "text": [
      "입력: 100 달러\n",
      "116700.0 원\n"
     ]
    }
   ],
   "source": [
    "환율 = {\"달러\":1167, \"엔\":1.096, \"유로\":1268, \"위안\":171}\n",
    "user = input(\"입력: \")\n",
    "num, currency = user.split()\n",
    "print(float(num)*환율[currency],\"원\")"
   ]
  },
  {
   "cell_type": "code",
   "execution_count": 8,
   "id": "238262ab",
   "metadata": {},
   "outputs": [
    {
     "name": "stdout",
     "output_type": "stream",
     "text": [
      "number1: 30\n",
      "number2: 2\n",
      "number3: 4\n",
      "30\n"
     ]
    }
   ],
   "source": [
    "#124\n",
    "num1 = input(\"number1: \")\n",
    "num2 = input(\"number2: \")\n",
    "num3 = input(\"number3: \")\n",
    "num1 = int(num1)\n",
    "num2 = int(num2)\n",
    "num3 = int(num3)\n",
    "\n",
    "if num1 >= num2 and num1 >= num2:\n",
    "    print(num1)\n",
    "elif num2 >= num1 and num2 >= num3:\n",
    "    print(num2)\n",
    "else:\n",
    "    print(num3)"
   ]
  },
  {
   "cell_type": "code",
   "execution_count": 15,
   "id": "9e7e92f6",
   "metadata": {},
   "outputs": [
    {
     "name": "stdout",
     "output_type": "stream",
     "text": [
      "휴대전화 번호 입력: 019-4365-4352\n",
      "당신은 LGU 사용자입니다.\n"
     ]
    }
   ],
   "source": [
    "#125\n",
    "num = {\"011\":\"SKT\", \"016\":\"KT\", \"019\":\"LGU\", \"010\":\"알수없음\"}\n",
    "user = input(\"휴대전화 번호 입력: \")\n",
    "a = user[:3]\n",
    "if a in num:\n",
    "    print(\"당신은\",num[a], \"사용자입니다.\")"
   ]
  },
  {
   "cell_type": "code",
   "execution_count": 19,
   "id": "395e252d",
   "metadata": {},
   "outputs": [
    {
     "name": "stdout",
     "output_type": "stream",
     "text": [
      "우편번호: 01945\n",
      "노원구\n"
     ]
    }
   ],
   "source": [
    "#126\n",
    "user = input(\"우편번호: \")\n",
    "a = int(user[2])\n",
    "if 0 <= a < 3:\n",
    "    print(\"강북구\")\n",
    "elif 3 < a < 6:\n",
    "    print(\"도봉구\")\n",
    "elif 5 < a <= 9:\n",
    "    print(\"노원구\")"
   ]
  },
  {
   "cell_type": "code",
   "execution_count": 22,
   "id": "0eb2f669",
   "metadata": {},
   "outputs": [
    {
     "name": "stdout",
     "output_type": "stream",
     "text": [
      "주민등록번호: 821010-1635210\n",
      "남자\n"
     ]
    }
   ],
   "source": [
    "#127\n",
    "user = input(\"주민등록번호: \")\n",
    "a = user[7]\n",
    "if a == \"1\" or a == \"3\":\n",
    "    print(\"남자\")\n",
    "else:\n",
    "    print(\"여자\")"
   ]
  },
  {
   "cell_type": "code",
   "execution_count": 27,
   "id": "d7a89525",
   "metadata": {},
   "outputs": [
    {
     "name": "stdout",
     "output_type": "stream",
     "text": [
      "주민등록번호: 861010-1015210\n",
      "서울 입니다.\n"
     ]
    }
   ],
   "source": [
    "#128\n",
    "user = input(\"주민등록번호: \")\n",
    "a = user.split(\"-\")[1]\n",
    "b = int(a[1:3])\n",
    "if 0 <= b <= 8:\n",
    "    print(\"서울 입니다.\")\n",
    "else:\n",
    "    print(\"서울이 아닙니다.\")"
   ]
  },
  {
   "cell_type": "code",
   "execution_count": 41,
   "id": "3f25f2ce",
   "metadata": {},
   "outputs": [
    {
     "name": "stdout",
     "output_type": "stream",
     "text": [
      "주민등록번호: 821010-1635210\n",
      "유효하지 않음\n"
     ]
    }
   ],
   "source": [
    "#129\n",
    "user = input(\"주민등록번호: \")\n",
    "a, b = user.split(\"-\")\n",
    "a = list(map(int, a))\n",
    "b = list(map(int, b))\n",
    "\n",
    "cal1 = (a[0]*2) + (a[1]*3) + (a[2]*4) + (a[3]*5) + (a[4]*6) + (a[5]*7) + (b[0]*8) + (b[1]*9) + (b[2]*2) + (b[3]*3) + (b[4]*4) + (b[5]*5)\n",
    "cal2 = cal1 % 11\n",
    "result = 11 - cal2\n",
    "\n",
    "if result == int(user[-1]):\n",
    "    print(\"유효\")\n",
    "else:\n",
    "    print(\"유효하지 않음\")"
   ]
  },
  {
   "cell_type": "code",
   "execution_count": 47,
   "id": "ef1502d1",
   "metadata": {},
   "outputs": [
    {
     "name": "stdout",
     "output_type": "stream",
     "text": [
      "상승장\n"
     ]
    }
   ],
   "source": [
    "#130\n",
    "import requests\n",
    "btc = requests.get(\"https://api.bithumb.com/public/ticker/\").json()['data']\n",
    "변동폭 = int(btc[\"max_price\"]) - int(btc[\"min_price\"])\n",
    "if int(btc[\"opening_price\"]) + 변동폭 > int(btc[\"closing_price\"]):\n",
    "    print(\"상승장\")\n",
    "else:\n",
    "    print(\"하락장\")"
   ]
  },
  {
   "cell_type": "code",
   "execution_count": null,
   "id": "fd96210f",
   "metadata": {},
   "outputs": [],
   "source": []
  }
 ],
 "metadata": {
  "kernelspec": {
   "display_name": "Python 3 (ipykernel)",
   "language": "python",
   "name": "python3"
  },
  "language_info": {
   "codemirror_mode": {
    "name": "ipython",
    "version": 3
   },
   "file_extension": ".py",
   "mimetype": "text/x-python",
   "name": "python",
   "nbconvert_exporter": "python",
   "pygments_lexer": "ipython3",
   "version": "3.11.5"
  }
 },
 "nbformat": 4,
 "nbformat_minor": 5
}
