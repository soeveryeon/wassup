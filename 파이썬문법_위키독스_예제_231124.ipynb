{
 "cells": [
  {
   "cell_type": "markdown",
   "id": "c4451be8",
   "metadata": {},
   "source": [
    "## 001~010 파이썬 시작하기"
   ]
  },
  {
   "cell_type": "code",
   "execution_count": 6,
   "id": "75016950",
   "metadata": {},
   "outputs": [
    {
     "name": "stdout",
     "output_type": "stream",
     "text": [
      "Hello World\n"
     ]
    }
   ],
   "source": [
    "print('Hello World')"
   ]
  },
  {
   "cell_type": "code",
   "execution_count": 7,
   "id": "d283abf5",
   "metadata": {},
   "outputs": [
    {
     "name": "stdout",
     "output_type": "stream",
     "text": [
      "Mary's cosmetics\n"
     ]
    }
   ],
   "source": [
    "print(\"Mary's cosmetics\")"
   ]
  },
  {
   "cell_type": "code",
   "execution_count": 8,
   "id": "480d1ce3",
   "metadata": {},
   "outputs": [
    {
     "name": "stdout",
     "output_type": "stream",
     "text": [
      "신씨가 소리질렀다. \"도둑이야\"\n"
     ]
    }
   ],
   "source": [
    "print('신씨가 소리질렀다. \"도둑이야\"')"
   ]
  },
  {
   "cell_type": "code",
   "execution_count": 9,
   "id": "f5dccea7",
   "metadata": {},
   "outputs": [
    {
     "name": "stdout",
     "output_type": "stream",
     "text": [
      "C:\\Windows\n"
     ]
    }
   ],
   "source": [
    "print('C:\\Windows')"
   ]
  },
  {
   "cell_type": "code",
   "execution_count": 12,
   "id": "4ac18443",
   "metadata": {},
   "outputs": [
    {
     "name": "stdout",
     "output_type": "stream",
     "text": [
      "안녕하세요.\n",
      "만나서\t\t반갑습니다.\n"
     ]
    }
   ],
   "source": [
    "print(\"안녕하세요.\\n만나서\\t\\t반갑습니다.\")"
   ]
  },
  {
   "cell_type": "markdown",
   "id": "9463b0ea",
   "metadata": {},
   "source": [
    "* \\n은 줄바꿈\n",
    "* \\t는 tab"
   ]
  },
  {
   "cell_type": "code",
   "execution_count": 13,
   "id": "260de029",
   "metadata": {},
   "outputs": [
    {
     "name": "stdout",
     "output_type": "stream",
     "text": [
      "오늘은 일요일\n"
     ]
    }
   ],
   "source": [
    "print(\"오늘은\", \"일요일\")"
   ]
  },
  {
   "cell_type": "code",
   "execution_count": 14,
   "id": "f9212764",
   "metadata": {},
   "outputs": [
    {
     "name": "stdout",
     "output_type": "stream",
     "text": [
      "naver;kakao;sk;samsung\n"
     ]
    }
   ],
   "source": [
    "print('naver','kakao','sk','samsung',sep=';')"
   ]
  },
  {
   "cell_type": "code",
   "execution_count": 15,
   "id": "934cafe0",
   "metadata": {},
   "outputs": [
    {
     "name": "stdout",
     "output_type": "stream",
     "text": [
      "naver/kakao/sk/samsung\n"
     ]
    }
   ],
   "source": [
    "print('naver','kakao','sk','samsung',sep='/')"
   ]
  },
  {
   "cell_type": "code",
   "execution_count": 19,
   "id": "a68501cd",
   "metadata": {},
   "outputs": [
    {
     "name": "stdout",
     "output_type": "stream",
     "text": [
      "firstsecond\n"
     ]
    }
   ],
   "source": [
    "print(\"first\", end=\"\");print(\"second\")"
   ]
  },
  {
   "cell_type": "code",
   "execution_count": 21,
   "id": "3c9b6d0c",
   "metadata": {},
   "outputs": [
    {
     "name": "stdout",
     "output_type": "stream",
     "text": [
      "1.6666666666666667\n"
     ]
    }
   ],
   "source": [
    "print(5/3)"
   ]
  },
  {
   "cell_type": "markdown",
   "id": "2f46090b",
   "metadata": {},
   "source": [
    "## 011~020 변수"
   ]
  },
  {
   "cell_type": "code",
   "execution_count": 23,
   "id": "7b8611b4",
   "metadata": {},
   "outputs": [
    {
     "name": "stdout",
     "output_type": "stream",
     "text": [
      "500000\n"
     ]
    }
   ],
   "source": [
    "삼성전자=50000\n",
    "총평가금액=삼성전자*10\n",
    "print(총평가금액)"
   ]
  },
  {
   "cell_type": "code",
   "execution_count": 25,
   "id": "0fe34f57",
   "metadata": {},
   "outputs": [
    {
     "name": "stdout",
     "output_type": "stream",
     "text": [
      "29800000000 <class 'int'>\n",
      "50000 <class 'int'>\n",
      "15.79 <class 'float'>\n"
     ]
    }
   ],
   "source": [
    "시가총액=29800000000\n",
    "현재가=50000\n",
    "PER=15.79\n",
    "print(시가총액, type(시가총액))\n",
    "print(현재가, type(현재가))\n",
    "print(PER, type(PER))"
   ]
  },
  {
   "cell_type": "code",
   "execution_count": 30,
   "id": "2c3a65dc",
   "metadata": {},
   "outputs": [
    {
     "name": "stdout",
     "output_type": "stream",
     "text": [
      "hello! python\n"
     ]
    }
   ],
   "source": [
    "s = \"hello\"\n",
    "t = \"python\"\n",
    "print(s+'! '+t)"
   ]
  },
  {
   "cell_type": "code",
   "execution_count": 31,
   "id": "538f3873",
   "metadata": {},
   "outputs": [
    {
     "name": "stdout",
     "output_type": "stream",
     "text": [
      "<class 'str'>\n"
     ]
    }
   ],
   "source": [
    "a=\"132\"\n",
    "print(type(a))"
   ]
  },
  {
   "cell_type": "code",
   "execution_count": 34,
   "id": "d8377a6b",
   "metadata": {},
   "outputs": [
    {
     "name": "stdout",
     "output_type": "stream",
     "text": [
      "720 <class 'int'>\n",
      "721 <class 'int'>\n"
     ]
    }
   ],
   "source": [
    "num_str = \"720\"\n",
    "num_int = int(num_str)\n",
    "print(num_int,type(num_int))\n",
    "print(num_int+1, type(num_int))"
   ]
  },
  {
   "cell_type": "code",
   "execution_count": 36,
   "id": "97f90d5b",
   "metadata": {},
   "outputs": [
    {
     "name": "stdout",
     "output_type": "stream",
     "text": [
      "100 <class 'str'>\n"
     ]
    }
   ],
   "source": [
    "num = 100\n",
    "num_str = str(num)\n",
    "print(num_str,type(num_str))"
   ]
  },
  {
   "cell_type": "code",
   "execution_count": 38,
   "id": "9aeb28a3",
   "metadata": {},
   "outputs": [
    {
     "name": "stdout",
     "output_type": "stream",
     "text": [
      "15.79 <class 'float'>\n"
     ]
    }
   ],
   "source": [
    "str = \"15.79\"\n",
    "num_float = float(str)\n",
    "print(num_float,type(num_float))"
   ]
  },
  {
   "cell_type": "code",
   "execution_count": 39,
   "id": "03e57982",
   "metadata": {},
   "outputs": [
    {
     "name": "stdout",
     "output_type": "stream",
     "text": [
      "2020\n",
      "2019\n",
      "2018\n"
     ]
    }
   ],
   "source": [
    "year = \"2020\"\n",
    "data = int(year)\n",
    "print(data)\n",
    "print(data-1)\n",
    "print(data-2)"
   ]
  },
  {
   "cell_type": "code",
   "execution_count": 41,
   "id": "2e8bc6b1",
   "metadata": {},
   "outputs": [
    {
     "name": "stdout",
     "output_type": "stream",
     "text": [
      "40616224\n"
     ]
    }
   ],
   "source": [
    "월금액 = 48584\n",
    "총금액 = 월금액*836\n",
    "print(총금액)"
   ]
  },
  {
   "cell_type": "markdown",
   "id": "cbb246ab",
   "metadata": {},
   "source": [
    "## 021~050 문자열"
   ]
  },
  {
   "cell_type": "code",
   "execution_count": 46,
   "id": "99c74a95",
   "metadata": {},
   "outputs": [
    {
     "name": "stdout",
     "output_type": "stream",
     "text": [
      "p t\n"
     ]
    }
   ],
   "source": [
    "letters = 'python'\n",
    "print(letters[0],letters[2])"
   ]
  },
  {
   "cell_type": "code",
   "execution_count": 49,
   "id": "78b85e96",
   "metadata": {},
   "outputs": [
    {
     "data": {
      "text/plain": [
       "'2210'"
      ]
     },
     "execution_count": 49,
     "metadata": {},
     "output_type": "execute_result"
    }
   ],
   "source": [
    "a = \"24가 2210\"\n",
    "a[4:]"
   ]
  },
  {
   "cell_type": "code",
   "execution_count": 55,
   "id": "845b4d29",
   "metadata": {},
   "outputs": [
    {
     "name": "stdout",
     "output_type": "stream",
     "text": [
      "홀홀홀\n"
     ]
    }
   ],
   "source": [
    "s = \"홀짝홀짝홀짝\"\n",
    "print(s[::2])"
   ]
  },
  {
   "cell_type": "code",
   "execution_count": 59,
   "id": "ea650555",
   "metadata": {},
   "outputs": [
    {
     "name": "stdout",
     "output_type": "stream",
     "text": [
      "NOHTYP\n"
     ]
    }
   ],
   "source": [
    "string = \"PYTHON\"\n",
    "print(string[::-1])"
   ]
  },
  {
   "cell_type": "code",
   "execution_count": 68,
   "id": "aa67dfc9",
   "metadata": {},
   "outputs": [
    {
     "name": "stdout",
     "output_type": "stream",
     "text": [
      "010 1111 2222\n"
     ]
    }
   ],
   "source": [
    "p = \"010-1111-2222\"\n",
    "print(p.replace(\"-\",\" \"))"
   ]
  },
  {
   "cell_type": "code",
   "execution_count": 69,
   "id": "61b1e11d",
   "metadata": {},
   "outputs": [
    {
     "name": "stdout",
     "output_type": "stream",
     "text": [
      "01011112222\n"
     ]
    }
   ],
   "source": [
    "print(p.replace(\"-\",\"\"))"
   ]
  },
  {
   "cell_type": "code",
   "execution_count": 70,
   "id": "41950540",
   "metadata": {},
   "outputs": [
    {
     "name": "stdout",
     "output_type": "stream",
     "text": [
      "kr\n"
     ]
    }
   ],
   "source": [
    "url = \"http://sharebook.kr\"\n",
    "a = url.split('.')\n",
    "print(a[-1])"
   ]
  },
  {
   "cell_type": "code",
   "execution_count": 71,
   "id": "810cc465",
   "metadata": {},
   "outputs": [
    {
     "ename": "TypeError",
     "evalue": "'str' object does not support item assignment",
     "output_type": "error",
     "traceback": [
      "\u001b[1;31m---------------------------------------------------------------------------\u001b[0m",
      "\u001b[1;31mTypeError\u001b[0m                                 Traceback (most recent call last)",
      "Cell \u001b[1;32mIn[71], line 2\u001b[0m\n\u001b[0;32m      1\u001b[0m lang \u001b[38;5;241m=\u001b[39m \u001b[38;5;124m'\u001b[39m\u001b[38;5;124mpython\u001b[39m\u001b[38;5;124m'\u001b[39m\n\u001b[1;32m----> 2\u001b[0m lang[\u001b[38;5;241m0\u001b[39m] \u001b[38;5;241m=\u001b[39m \u001b[38;5;124m'\u001b[39m\u001b[38;5;124mP\u001b[39m\u001b[38;5;124m'\u001b[39m\n\u001b[0;32m      3\u001b[0m \u001b[38;5;28mprint\u001b[39m(lang)\n",
      "\u001b[1;31mTypeError\u001b[0m: 'str' object does not support item assignment"
     ]
    }
   ],
   "source": [
    "lang = 'python'\n",
    "lang[0] = 'P'\n",
    "print(lang)"
   ]
  },
  {
   "cell_type": "markdown",
   "id": "ebe30a00",
   "metadata": {},
   "source": [
    "* 오류가 난다. 문자열은 변경 불가능한 자료형"
   ]
  },
  {
   "cell_type": "code",
   "execution_count": 72,
   "id": "2ce9a905",
   "metadata": {},
   "outputs": [
    {
     "name": "stdout",
     "output_type": "stream",
     "text": [
      "Abcdfe2a354a32a\n"
     ]
    }
   ],
   "source": [
    "string = 'abcdfe2a354a32a'\n",
    "print('A'+string[1:])"
   ]
  },
  {
   "cell_type": "code",
   "execution_count": 74,
   "id": "39b4f2df",
   "metadata": {},
   "outputs": [
    {
     "name": "stdout",
     "output_type": "stream",
     "text": [
      "Abcdfe2A354A32A\n"
     ]
    }
   ],
   "source": [
    "string = 'abcdfe2a354a32a'\n",
    "print(string.replace('a','A'))"
   ]
  },
  {
   "cell_type": "code",
   "execution_count": 75,
   "id": "ae730d3c",
   "metadata": {},
   "outputs": [
    {
     "name": "stdout",
     "output_type": "stream",
     "text": [
      "abcd\n"
     ]
    }
   ],
   "source": [
    "string = 'abcd'\n",
    "string.replace('b','B')\n",
    "print(string)"
   ]
  },
  {
   "cell_type": "code",
   "execution_count": 76,
   "id": "9ef0eb3a",
   "metadata": {},
   "outputs": [
    {
     "name": "stdout",
     "output_type": "stream",
     "text": [
      "aBcd\n"
     ]
    }
   ],
   "source": [
    "string = 'abcd'\n",
    "print(string.replace('b','B'))"
   ]
  },
  {
   "cell_type": "code",
   "execution_count": 77,
   "id": "c3b787c0",
   "metadata": {},
   "outputs": [
    {
     "name": "stdout",
     "output_type": "stream",
     "text": [
      "34\n"
     ]
    }
   ],
   "source": [
    "a = \"3\"\n",
    "b = \"4\"\n",
    "print(a + b)"
   ]
  },
  {
   "cell_type": "code",
   "execution_count": 78,
   "id": "e4adfbaf",
   "metadata": {},
   "outputs": [
    {
     "name": "stdout",
     "output_type": "stream",
     "text": [
      "HiHiHi\n"
     ]
    }
   ],
   "source": [
    "print(\"Hi\" * 3)"
   ]
  },
  {
   "cell_type": "code",
   "execution_count": 79,
   "id": "1198235a",
   "metadata": {},
   "outputs": [
    {
     "name": "stdout",
     "output_type": "stream",
     "text": [
      "--------------------------------------------------------------------------------\n"
     ]
    }
   ],
   "source": [
    "print(\"-\" * 80)"
   ]
  },
  {
   "cell_type": "code",
   "execution_count": 81,
   "id": "56b53d3a",
   "metadata": {},
   "outputs": [
    {
     "name": "stdout",
     "output_type": "stream",
     "text": [
      "python java python java python java python java \n"
     ]
    }
   ],
   "source": [
    "t1 = 'python'\n",
    "t2 = 'java'\n",
    "plus = t1+' '+t2+' '\n",
    "print(plus*4)"
   ]
  },
  {
   "cell_type": "code",
   "execution_count": 88,
   "id": "3eda2168",
   "metadata": {},
   "outputs": [
    {
     "name": "stdout",
     "output_type": "stream",
     "text": [
      "이름: 김민수 나이: 10\n",
      "이름: 이철희 나이: 13\n"
     ]
    }
   ],
   "source": [
    "name1 = \"김민수\" \n",
    "age1 = 10\n",
    "name2 = \"이철희\"\n",
    "age2 = 13\n",
    "print(\"이름: %s 나이: %d\" %(name1, age1))\n",
    "print(\"이름: %s 나이: %d\" %(name2, age2))"
   ]
  },
  {
   "cell_type": "code",
   "execution_count": 91,
   "id": "fae15625",
   "metadata": {},
   "outputs": [
    {
     "name": "stdout",
     "output_type": "stream",
     "text": [
      "이름: 김민수 나이: 10\n",
      "이름: 이철희 나이: 13\n"
     ]
    }
   ],
   "source": [
    "print(\"이름: {} 나이: {}\".format(name1,age1))\n",
    "print(\"이름: {} 나이: {}\".format(name2,age2))"
   ]
  },
  {
   "cell_type": "code",
   "execution_count": 93,
   "id": "669baac4",
   "metadata": {},
   "outputs": [
    {
     "name": "stdout",
     "output_type": "stream",
     "text": [
      "이름: 김민수 나이: 10\n",
      "이름: 이철희 나이: 13\n"
     ]
    }
   ],
   "source": [
    "print(f\"이름: {name1} 나이: {age1}\")\n",
    "print(f\"이름: {name2} 나이: {age2}\")"
   ]
  },
  {
   "cell_type": "code",
   "execution_count": 99,
   "id": "41a3b525",
   "metadata": {},
   "outputs": [
    {
     "name": "stdout",
     "output_type": "stream",
     "text": [
      "5969782550 <class 'int'>\n"
     ]
    }
   ],
   "source": [
    "상장주식수 = \"5,969,782,550\"\n",
    "a = 상장주식수.replace(',','')\n",
    "b = int(a)\n",
    "print(b, type(b))"
   ]
  },
  {
   "cell_type": "code",
   "execution_count": 101,
   "id": "b9b57cad",
   "metadata": {},
   "outputs": [
    {
     "data": {
      "text/plain": [
       "'2020/03'"
      ]
     },
     "execution_count": 101,
     "metadata": {},
     "output_type": "execute_result"
    }
   ],
   "source": [
    "분기 = \"2020/03(E) (IFRS연결)\"\n",
    "분기[:7]"
   ]
  },
  {
   "cell_type": "code",
   "execution_count": 104,
   "id": "03ee49ad",
   "metadata": {},
   "outputs": [
    {
     "name": "stdout",
     "output_type": "stream",
     "text": [
      "삼성전자\n"
     ]
    }
   ],
   "source": [
    "data = \"   삼성전자    \"\n",
    "print(data.strip())"
   ]
  },
  {
   "cell_type": "code",
   "execution_count": 105,
   "id": "44134468",
   "metadata": {},
   "outputs": [
    {
     "data": {
      "text/plain": [
       "'BTC_KRW'"
      ]
     },
     "execution_count": 105,
     "metadata": {},
     "output_type": "execute_result"
    }
   ],
   "source": [
    "ticker = \"btc_krw\"\n",
    "ticker.upper()"
   ]
  },
  {
   "cell_type": "code",
   "execution_count": 106,
   "id": "371ef972",
   "metadata": {},
   "outputs": [
    {
     "data": {
      "text/plain": [
       "'btc_krw'"
      ]
     },
     "execution_count": 106,
     "metadata": {},
     "output_type": "execute_result"
    }
   ],
   "source": [
    "ticker = \"BTC_KRW\"\n",
    "ticker.lower()"
   ]
  },
  {
   "cell_type": "code",
   "execution_count": 107,
   "id": "c60aafa6",
   "metadata": {},
   "outputs": [
    {
     "data": {
      "text/plain": [
       "'Hello'"
      ]
     },
     "execution_count": 107,
     "metadata": {},
     "output_type": "execute_result"
    }
   ],
   "source": [
    "a=\"hello\"\n",
    "a.capitalize()"
   ]
  },
  {
   "cell_type": "code",
   "execution_count": 109,
   "id": "aee64fe4",
   "metadata": {},
   "outputs": [
    {
     "data": {
      "text/plain": [
       "True"
      ]
     },
     "execution_count": 109,
     "metadata": {},
     "output_type": "execute_result"
    }
   ],
   "source": [
    "file_name = \"보고서.xlsx\"\n",
    "file_name.endswith(\"xlsx\")"
   ]
  },
  {
   "cell_type": "code",
   "execution_count": 112,
   "id": "7b358b3d",
   "metadata": {},
   "outputs": [
    {
     "data": {
      "text/plain": [
       "True"
      ]
     },
     "execution_count": 112,
     "metadata": {},
     "output_type": "execute_result"
    }
   ],
   "source": [
    "file_name = \"보고서.xlsx\"\n",
    "file_name.endswith((\"xlsx\", \"xls\"))"
   ]
  },
  {
   "cell_type": "code",
   "execution_count": 113,
   "id": "c9243338",
   "metadata": {},
   "outputs": [
    {
     "data": {
      "text/plain": [
       "True"
      ]
     },
     "execution_count": 113,
     "metadata": {},
     "output_type": "execute_result"
    }
   ],
   "source": [
    "file_name = \"2020_보고서.xlsx\"\n",
    "file_name.startswith(\"2020\")"
   ]
  },
  {
   "cell_type": "code",
   "execution_count": 115,
   "id": "28b2ad7c",
   "metadata": {},
   "outputs": [
    {
     "data": {
      "text/plain": [
       "['hello', 'world']"
      ]
     },
     "execution_count": 115,
     "metadata": {},
     "output_type": "execute_result"
    }
   ],
   "source": [
    "a = \"hello world\"\n",
    "a.split()"
   ]
  },
  {
   "cell_type": "code",
   "execution_count": 116,
   "id": "25ab36ff",
   "metadata": {},
   "outputs": [
    {
     "data": {
      "text/plain": [
       "['btc', 'krw']"
      ]
     },
     "execution_count": 116,
     "metadata": {},
     "output_type": "execute_result"
    }
   ],
   "source": [
    "ticker = \"btc_krw\"\n",
    "ticker.split('_')"
   ]
  },
  {
   "cell_type": "code",
   "execution_count": 118,
   "id": "dbbab647",
   "metadata": {},
   "outputs": [
    {
     "data": {
      "text/plain": [
       "['2020', '05', '01']"
      ]
     },
     "execution_count": 118,
     "metadata": {},
     "output_type": "execute_result"
    }
   ],
   "source": [
    "date = \"2020-05-01\"\n",
    "date.split('-')"
   ]
  },
  {
   "cell_type": "code",
   "execution_count": 119,
   "id": "268b67da",
   "metadata": {},
   "outputs": [
    {
     "data": {
      "text/plain": [
       "'039490'"
      ]
     },
     "execution_count": 119,
     "metadata": {},
     "output_type": "execute_result"
    }
   ],
   "source": [
    "data = \"039490     \"\n",
    "data.strip()"
   ]
  },
  {
   "cell_type": "markdown",
   "id": "56cacd78",
   "metadata": {},
   "source": [
    "## 051~070 리스트"
   ]
  },
  {
   "cell_type": "code",
   "execution_count": 120,
   "id": "d7a6b0bc",
   "metadata": {},
   "outputs": [],
   "source": [
    "movie_rank = [\"닥터 스트레인지\", \"스플릿\", \"럭키\"]"
   ]
  },
  {
   "cell_type": "code",
   "execution_count": 126,
   "id": "03dbb887",
   "metadata": {},
   "outputs": [
    {
     "data": {
      "text/plain": [
       "['닥터 스트레인지', '스플릿', '럭키']"
      ]
     },
     "execution_count": 126,
     "metadata": {},
     "output_type": "execute_result"
    }
   ],
   "source": [
    "movie_rank\n",
    "del movie_rank[-1]\n",
    "movie_rank"
   ]
  },
  {
   "cell_type": "code",
   "execution_count": 127,
   "id": "32911de8",
   "metadata": {},
   "outputs": [
    {
     "data": {
      "text/plain": [
       "['닥터 스트레인지', '스플릿', '럭키', '베트맨']"
      ]
     },
     "execution_count": 127,
     "metadata": {},
     "output_type": "execute_result"
    }
   ],
   "source": [
    "movie_rank.append(\"베트맨\")\n",
    "movie_rank"
   ]
  },
  {
   "cell_type": "code",
   "execution_count": 128,
   "id": "5614bbe4",
   "metadata": {},
   "outputs": [
    {
     "name": "stdout",
     "output_type": "stream",
     "text": [
      "['닥터 스트레인지', '슈퍼맨', '스플릿', '럭키', '베트맨']\n"
     ]
    }
   ],
   "source": [
    "movie_rank.insert(1,\"슈퍼맨\")\n",
    "print(movie_rank)"
   ]
  },
  {
   "cell_type": "code",
   "execution_count": 129,
   "id": "8203fdb7",
   "metadata": {},
   "outputs": [
    {
     "name": "stdout",
     "output_type": "stream",
     "text": [
      "['닥터 스트레인지', '슈퍼맨', '스플릿', '베트맨']\n"
     ]
    }
   ],
   "source": [
    "del movie_rank[-2]\n",
    "print(movie_rank)"
   ]
  },
  {
   "cell_type": "code",
   "execution_count": 130,
   "id": "2264d832",
   "metadata": {},
   "outputs": [
    {
     "name": "stdout",
     "output_type": "stream",
     "text": [
      "['닥터 스트레인지', '슈퍼맨']\n"
     ]
    }
   ],
   "source": [
    "del movie_rank[2:]\n",
    "print(movie_rank)"
   ]
  },
  {
   "cell_type": "code",
   "execution_count": 131,
   "id": "7c146b84",
   "metadata": {},
   "outputs": [
    {
     "name": "stdout",
     "output_type": "stream",
     "text": [
      "['C', 'C++', 'JAVA', 'Python', 'Go', 'C#']\n"
     ]
    }
   ],
   "source": [
    "lang1 = [\"C\", \"C++\", \"JAVA\"]\n",
    "lang2 = [\"Python\", \"Go\", \"C#\"]\n",
    "langs=lang1+lang2\n",
    "print(langs)"
   ]
  },
  {
   "cell_type": "code",
   "execution_count": 134,
   "id": "c765bba8",
   "metadata": {},
   "outputs": [
    {
     "name": "stdout",
     "output_type": "stream",
     "text": [
      "min:  1\n",
      "max:  7\n"
     ]
    }
   ],
   "source": [
    "nums = [1, 2, 3, 4, 5, 6, 7]\n",
    "print(\"min: \",min(nums))\n",
    "print(\"max: \",max(nums))"
   ]
  },
  {
   "cell_type": "code",
   "execution_count": 135,
   "id": "920ba9cf",
   "metadata": {},
   "outputs": [
    {
     "name": "stdout",
     "output_type": "stream",
     "text": [
      "15\n"
     ]
    }
   ],
   "source": [
    "nums = [1, 2, 3, 4, 5]\n",
    "print(sum(nums))"
   ]
  },
  {
   "cell_type": "code",
   "execution_count": 138,
   "id": "8cd6deb1",
   "metadata": {},
   "outputs": [
    {
     "name": "stdout",
     "output_type": "stream",
     "text": [
      "12\n"
     ]
    }
   ],
   "source": [
    "cook = [\"피자\", \"김밥\", \"만두\", \"양념치킨\", \"족발\", \"피자\", \"김치만두\", \"쫄면\", \"소시지\", \"라면\", \"팥빙수\", \"김치전\"]\n",
    "print(len(cook))"
   ]
  },
  {
   "cell_type": "code",
   "execution_count": 141,
   "id": "306fd350",
   "metadata": {},
   "outputs": [
    {
     "name": "stdout",
     "output_type": "stream",
     "text": [
      "3.0\n"
     ]
    }
   ],
   "source": [
    "nums = [1, 2, 3, 4, 5]\n",
    "ave = sum(nums)/len(nums)\n",
    "print(ave)"
   ]
  },
  {
   "cell_type": "code",
   "execution_count": 142,
   "id": "f1ad55b0",
   "metadata": {},
   "outputs": [
    {
     "data": {
      "text/plain": [
       "[130, 140, 150, 160, 170]"
      ]
     },
     "execution_count": 142,
     "metadata": {},
     "output_type": "execute_result"
    }
   ],
   "source": [
    "price = ['20180728', 100, 130, 140, 150, 160, 170]\n",
    "price[2:]"
   ]
  },
  {
   "cell_type": "code",
   "execution_count": 143,
   "id": "4bd6fe61",
   "metadata": {},
   "outputs": [
    {
     "name": "stdout",
     "output_type": "stream",
     "text": [
      "[1, 3, 5, 7, 9]\n"
     ]
    }
   ],
   "source": [
    "nums = [1, 2, 3, 4, 5, 6, 7, 8, 9, 10]\n",
    "print(nums[::2])"
   ]
  },
  {
   "cell_type": "code",
   "execution_count": 144,
   "id": "c09df271",
   "metadata": {},
   "outputs": [
    {
     "name": "stdout",
     "output_type": "stream",
     "text": [
      "[2, 4, 6, 8, 10]\n"
     ]
    }
   ],
   "source": [
    "print(nums[1::2])"
   ]
  },
  {
   "cell_type": "code",
   "execution_count": 145,
   "id": "c85d8f1b",
   "metadata": {},
   "outputs": [
    {
     "name": "stdout",
     "output_type": "stream",
     "text": [
      "[5, 4, 3, 2, 1]\n"
     ]
    }
   ],
   "source": [
    "nums = [1, 2, 3, 4, 5]\n",
    "print(nums[::-1])"
   ]
  },
  {
   "cell_type": "code",
   "execution_count": 146,
   "id": "e68274dc",
   "metadata": {},
   "outputs": [
    {
     "name": "stdout",
     "output_type": "stream",
     "text": [
      "삼성전자 Naver\n"
     ]
    }
   ],
   "source": [
    "interest = ['삼성전자', 'LG전자', 'Naver']\n",
    "print(interest[0],interest[2])"
   ]
  },
  {
   "cell_type": "code",
   "execution_count": 148,
   "id": "2d2e797d",
   "metadata": {},
   "outputs": [
    {
     "name": "stdout",
     "output_type": "stream",
     "text": [
      "삼성전자 LG전자 Naver SK하이닉스 미래에셋대우\n"
     ]
    }
   ],
   "source": [
    "interest = ['삼성전자', 'LG전자', 'Naver', 'SK하이닉스', '미래에셋대우']\n",
    "a=' '.join(interest)\n",
    "print(a)"
   ]
  },
  {
   "cell_type": "code",
   "execution_count": 149,
   "id": "99a9d64c",
   "metadata": {},
   "outputs": [
    {
     "name": "stdout",
     "output_type": "stream",
     "text": [
      "삼성전자/LG전자/Naver/SK하이닉스/미래에셋대우\n"
     ]
    }
   ],
   "source": [
    "interest = ['삼성전자', 'LG전자', 'Naver', 'SK하이닉스', '미래에셋대우']\n",
    "a='/'.join(interest)\n",
    "print(a)"
   ]
  },
  {
   "cell_type": "code",
   "execution_count": 150,
   "id": "2b6d49e6",
   "metadata": {},
   "outputs": [
    {
     "name": "stdout",
     "output_type": "stream",
     "text": [
      "삼성전자\n",
      "LG전자\n",
      "Naver\n",
      "SK하이닉스\n",
      "미래에셋대우\n"
     ]
    }
   ],
   "source": [
    "a='\\n'.join(interest)\n",
    "print(a)"
   ]
  },
  {
   "cell_type": "code",
   "execution_count": 152,
   "id": "14b32d53",
   "metadata": {},
   "outputs": [
    {
     "data": {
      "text/plain": [
       "['삼성전자', 'LG전자', 'Naver']"
      ]
     },
     "execution_count": 152,
     "metadata": {},
     "output_type": "execute_result"
    }
   ],
   "source": [
    "string = \"삼성전자/LG전자/Naver\"\n",
    "string.split(\"/\")"
   ]
  },
  {
   "cell_type": "code",
   "execution_count": 154,
   "id": "d3b80ecd",
   "metadata": {},
   "outputs": [
    {
     "data": {
      "text/plain": [
       "[1, 2, 3, 4, 5, 9, 10]"
      ]
     },
     "execution_count": 154,
     "metadata": {},
     "output_type": "execute_result"
    }
   ],
   "source": [
    "data = [2, 4, 3, 1, 5, 10, 9]\n",
    "data.sort()\n",
    "data"
   ]
  },
  {
   "cell_type": "markdown",
   "id": "41180de0",
   "metadata": {},
   "source": [
    "## 071~080 튜플"
   ]
  },
  {
   "cell_type": "code",
   "execution_count": 156,
   "id": "cac6e3e7",
   "metadata": {},
   "outputs": [
    {
     "name": "stdout",
     "output_type": "stream",
     "text": [
      "<class 'tuple'>\n"
     ]
    }
   ],
   "source": [
    "my_variable = ()\n",
    "print(type(my_variable))"
   ]
  },
  {
   "cell_type": "code",
   "execution_count": 158,
   "id": "fd7aef16",
   "metadata": {},
   "outputs": [
    {
     "name": "stdout",
     "output_type": "stream",
     "text": [
      "<class 'tuple'>\n"
     ]
    }
   ],
   "source": [
    "movie_rank=(\"닥터 스트레인지\", \"스플릿\", \"럭키\")\n",
    "print(type(movie_rank))"
   ]
  },
  {
   "cell_type": "code",
   "execution_count": 160,
   "id": "0e0c7263",
   "metadata": {},
   "outputs": [
    {
     "name": "stdout",
     "output_type": "stream",
     "text": [
      "<class 'tuple'>\n"
     ]
    }
   ],
   "source": [
    "t=(1,)\n",
    "print(type(t))"
   ]
  },
  {
   "cell_type": "code",
   "execution_count": 161,
   "id": "9377bece",
   "metadata": {},
   "outputs": [
    {
     "ename": "TypeError",
     "evalue": "'tuple' object does not support item assignment",
     "output_type": "error",
     "traceback": [
      "\u001b[1;31m---------------------------------------------------------------------------\u001b[0m",
      "\u001b[1;31mTypeError\u001b[0m                                 Traceback (most recent call last)",
      "Cell \u001b[1;32mIn[161], line 2\u001b[0m\n\u001b[0;32m      1\u001b[0m t \u001b[38;5;241m=\u001b[39m (\u001b[38;5;241m1\u001b[39m, \u001b[38;5;241m2\u001b[39m, \u001b[38;5;241m3\u001b[39m)\n\u001b[1;32m----> 2\u001b[0m t[\u001b[38;5;241m0\u001b[39m] \u001b[38;5;241m=\u001b[39m \u001b[38;5;124m'\u001b[39m\u001b[38;5;124ma\u001b[39m\u001b[38;5;124m'\u001b[39m\n",
      "\u001b[1;31mTypeError\u001b[0m: 'tuple' object does not support item assignment"
     ]
    }
   ],
   "source": [
    "t = (1, 2, 3)\n",
    "t[0] = 'a'"
   ]
  },
  {
   "cell_type": "markdown",
   "id": "f14af9c2",
   "metadata": {},
   "source": [
    "* 튜플형은 요소값의 삭제, 변경 안됨"
   ]
  },
  {
   "cell_type": "code",
   "execution_count": 162,
   "id": "c8ed1343",
   "metadata": {},
   "outputs": [
    {
     "name": "stdout",
     "output_type": "stream",
     "text": [
      "<class 'tuple'>\n"
     ]
    }
   ],
   "source": [
    "t = 1, 2, 3, 4\n",
    "print(type(t))"
   ]
  },
  {
   "cell_type": "code",
   "execution_count": 163,
   "id": "86b1e894",
   "metadata": {},
   "outputs": [
    {
     "name": "stdout",
     "output_type": "stream",
     "text": [
      "<class 'list'>\n"
     ]
    }
   ],
   "source": [
    "interest = ('삼성전자', 'LG전자', 'SK Hynix')\n",
    "a = list(interest)\n",
    "print(type(a))"
   ]
  },
  {
   "cell_type": "code",
   "execution_count": 164,
   "id": "17f31920",
   "metadata": {},
   "outputs": [
    {
     "name": "stdout",
     "output_type": "stream",
     "text": [
      "<class 'tuple'>\n"
     ]
    }
   ],
   "source": [
    "interest = ['삼성전자', 'LG전자', 'SK Hynix']\n",
    "a = tuple(interest)\n",
    "print(type(a))"
   ]
  },
  {
   "cell_type": "code",
   "execution_count": 165,
   "id": "4af55c41",
   "metadata": {},
   "outputs": [
    {
     "name": "stdout",
     "output_type": "stream",
     "text": [
      "apple banana cake\n"
     ]
    }
   ],
   "source": [
    "temp = ('apple', 'banana', 'cake')\n",
    "a, b, c = temp\n",
    "print(a, b, c)"
   ]
  },
  {
   "cell_type": "code",
   "execution_count": 166,
   "id": "f8730c6b",
   "metadata": {},
   "outputs": [
    {
     "name": "stdout",
     "output_type": "stream",
     "text": [
      "(2, 4, 6, 8, 10, 12, 14, 16, 18, 20, 22, 24, 26, 28, 30, 32, 34, 36, 38, 40, 42, 44, 46, 48, 50, 52, 54, 56, 58, 60, 62, 64, 66, 68, 70, 72, 74, 76, 78, 80, 82, 84, 86, 88, 90, 92, 94, 96, 98)\n"
     ]
    }
   ],
   "source": [
    "data = tuple(range(2, 100, 2))\n",
    "print(data)"
   ]
  },
  {
   "cell_type": "code",
   "execution_count": 167,
   "id": "7efcf0fa",
   "metadata": {},
   "outputs": [
    {
     "name": "stdout",
     "output_type": "stream",
     "text": [
      "[2, 5, 8, 11, 14, 17, 20, 23, 26, 29, 32, 35, 38, 41, 44, 47, 50, 53, 56, 59, 62, 65, 68, 71, 74, 77, 80, 83, 86, 89, 92, 95, 98]\n"
     ]
    }
   ],
   "source": [
    "data = list(range(2, 100, 3))\n",
    "print(data)"
   ]
  },
  {
   "cell_type": "markdown",
   "id": "d782243f",
   "metadata": {},
   "source": [
    "# HAPPY WEEKEND~!!!"
   ]
  }
 ],
 "metadata": {
  "kernelspec": {
   "display_name": "Python 3 (ipykernel)",
   "language": "python",
   "name": "python3"
  },
  "language_info": {
   "codemirror_mode": {
    "name": "ipython",
    "version": 3
   },
   "file_extension": ".py",
   "mimetype": "text/x-python",
   "name": "python",
   "nbconvert_exporter": "python",
   "pygments_lexer": "ipython3",
   "version": "3.11.5"
  }
 },
 "nbformat": 4,
 "nbformat_minor": 5
}
