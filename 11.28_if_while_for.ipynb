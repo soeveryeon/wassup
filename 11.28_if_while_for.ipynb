{
 "cells": [
  {
   "cell_type": "markdown",
   "id": "68c8c13f",
   "metadata": {},
   "source": [
    "# if문"
   ]
  },
  {
   "cell_type": "code",
   "execution_count": 31,
   "id": "4496f001",
   "metadata": {
    "ExecuteTime": {
     "end_time": "2023-11-28T00:33:59.586141Z",
     "start_time": "2023-11-28T00:33:59.581637Z"
    }
   },
   "outputs": [
    {
     "data": {
      "text/plain": [
       "True"
      ]
     },
     "execution_count": 31,
     "metadata": {},
     "output_type": "execute_result"
    }
   ],
   "source": [
    "x = 3\n",
    "y = 2\n",
    "x > y"
   ]
  },
  {
   "cell_type": "code",
   "execution_count": 32,
   "id": "da89ecfa",
   "metadata": {
    "ExecuteTime": {
     "end_time": "2023-11-28T00:32:37.222468Z",
     "start_time": "2023-11-28T00:32:37.219049Z"
    }
   },
   "outputs": [
    {
     "name": "stdout",
     "output_type": "stream",
     "text": [
      "걸어가\n"
     ]
    }
   ],
   "source": [
    "money = 2000\n",
    "\n",
    "if money >= 3000:\n",
    "    print('택시타고가')\n",
    "else:\n",
    "    print('걸어가')"
   ]
  },
  {
   "cell_type": "code",
   "execution_count": 33,
   "id": "415bd9a1",
   "metadata": {
    "ExecuteTime": {
     "end_time": "2023-11-28T00:38:48.313544Z",
     "start_time": "2023-11-28T00:38:48.310507Z"
    }
   },
   "outputs": [
    {
     "name": "stdout",
     "output_type": "stream",
     "text": [
      "걸어가라\n"
     ]
    }
   ],
   "source": [
    "money = 2000\n",
    "card = True\n",
    "if money >= 3000 | card:\n",
    "     print(\"택시를 타고 가라\")\n",
    "else:\n",
    "     print(\"걸어가라\")"
   ]
  },
  {
   "cell_type": "code",
   "execution_count": 34,
   "id": "62be8338",
   "metadata": {
    "ExecuteTime": {
     "end_time": "2023-11-28T00:39:49.054220Z",
     "start_time": "2023-11-28T00:39:49.051220Z"
    }
   },
   "outputs": [
    {
     "name": "stdout",
     "output_type": "stream",
     "text": [
      "택시를 타고 가라\n"
     ]
    }
   ],
   "source": [
    "pocket = ['paper', 'cellphone', 'money']\n",
    "if 'money' in pocket:\n",
    "    print(\"택시를 타고 가라\")\n",
    "else:\n",
    "    print(\"걸어가라\")"
   ]
  },
  {
   "cell_type": "code",
   "execution_count": 36,
   "id": "910ae192",
   "metadata": {
    "ExecuteTime": {
     "end_time": "2023-11-28T00:40:13.702136Z",
     "start_time": "2023-11-28T00:40:13.699475Z"
    }
   },
   "outputs": [],
   "source": [
    "pocket = ['paper', 'money', 'cellphone']\n",
    "if 'money' in pocket:\n",
    "    pass \n",
    "else:\n",
    "    print(\"카드를 꺼내라\")"
   ]
  },
  {
   "cell_type": "code",
   "execution_count": 37,
   "id": "899ce944",
   "metadata": {
    "ExecuteTime": {
     "end_time": "2023-11-28T00:40:58.538171Z",
     "start_time": "2023-11-28T00:40:58.535170Z"
    }
   },
   "outputs": [
    {
     "name": "stdout",
     "output_type": "stream",
     "text": [
      "택시를 타고가라\n"
     ]
    }
   ],
   "source": [
    "pocket = ['paper', 'cellphone']\n",
    "card = True\n",
    "if 'money' in pocket:\n",
    "    print(\"택시를 타고가라\")\n",
    "else:\n",
    "    if card:\n",
    "        print(\"택시를 타고가라\")\n",
    "    else:\n",
    "        print(\"걸어가라\")"
   ]
  },
  {
   "cell_type": "code",
   "execution_count": 38,
   "id": "b51a62ed",
   "metadata": {
    "ExecuteTime": {
     "end_time": "2023-11-28T00:45:15.108786Z",
     "start_time": "2023-11-28T00:45:15.105185Z"
    }
   },
   "outputs": [
    {
     "name": "stdout",
     "output_type": "stream",
     "text": [
      "택시를 타고가라\n"
     ]
    }
   ],
   "source": [
    "pocket = ['paper', 'cellphone']\n",
    "card = True\n",
    "if 'money' in pocket:\n",
    "     print(\"택시를 타고가라\")\n",
    "elif card: \n",
    "     print(\"택시를 타고가라\")\n",
    "else:\n",
    "     print(\"걸어가라\")"
   ]
  },
  {
   "cell_type": "code",
   "execution_count": 39,
   "id": "fbe28248",
   "metadata": {
    "ExecuteTime": {
     "end_time": "2023-11-28T01:12:09.225390Z",
     "start_time": "2023-11-28T01:12:09.221882Z"
    }
   },
   "outputs": [
    {
     "name": "stdout",
     "output_type": "stream",
     "text": [
      "sucess\n"
     ]
    }
   ],
   "source": [
    "score = 80\n",
    "if score >= 60:\n",
    "    massage = 'sucess'\n",
    "else:\n",
    "    massage = 'failure'\n",
    "\n",
    "print(massage)"
   ]
  },
  {
   "cell_type": "markdown",
   "id": "5cf411ae",
   "metadata": {},
   "source": [
    "# While문"
   ]
  },
  {
   "cell_type": "code",
   "execution_count": 40,
   "id": "86e26f87",
   "metadata": {
    "ExecuteTime": {
     "end_time": "2023-11-28T01:26:28.450830Z",
     "start_time": "2023-11-28T01:26:28.448125Z"
    }
   },
   "outputs": [
    {
     "name": "stdout",
     "output_type": "stream",
     "text": [
      "나무 1번 찍었다.\n",
      "나무 2번 찍었다.\n",
      "나무 3번 찍었다.\n",
      "나무 4번 찍었다.\n",
      "나무 5번 찍었다.\n",
      "나무 6번 찍었다.\n",
      "나무 7번 찍었다.\n",
      "나무 8번 찍었다.\n",
      "나무 9번 찍었다.\n",
      "나무 10번 찍었다.\n",
      "나무 넘어간다\n"
     ]
    }
   ],
   "source": [
    "treeHit = 0\n",
    "while treeHit < 10:\n",
    "    treeHit = treeHit +1\n",
    "    print('나무 %d번 찍었다.'% treeHit)\n",
    "    if treeHit == 10:\n",
    "        print('나무 넘어간다')"
   ]
  },
  {
   "cell_type": "code",
   "execution_count": 41,
   "id": "dcc8942e",
   "metadata": {
    "ExecuteTime": {
     "end_time": "2023-11-28T01:29:15.139578Z",
     "start_time": "2023-11-28T01:29:15.136222Z"
    }
   },
   "outputs": [
    {
     "name": "stdout",
     "output_type": "stream",
     "text": [
      "나무 1번 찍었다\n",
      "나무 2번 찍었다\n",
      "나무 3번 찍었다\n",
      "나무 4번 찍었다\n",
      "나무 5번 찍었다\n",
      "나무 6번 찍었다\n",
      "나무 7번 찍었다\n",
      "나무 8번 찍었다\n",
      "나무 9번 찍었다\n",
      "나무 10번 찍었다\n",
      "나무 넘어간다\n"
     ]
    }
   ],
   "source": [
    "# += 로 값 추가, f문자열 사용, while 끝나고 나서 print\n",
    "\n",
    "treeHit = 0\n",
    "while treeHit < 10:\n",
    "    treeHit += 1 # -= 1\n",
    "    print(f'나무 {treeHit}번 찍었다')\n",
    "print('나무 넘어간다')"
   ]
  },
  {
   "cell_type": "code",
   "execution_count": 42,
   "id": "16d4061d",
   "metadata": {
    "ExecuteTime": {
     "end_time": "2023-11-28T01:34:33.324290Z",
     "start_time": "2023-11-28T01:34:33.321784Z"
    }
   },
   "outputs": [],
   "source": [
    "prompt = '''\n",
    "1. Add\n",
    "2. Del\n",
    "3. List\n",
    "4. Quit\n",
    "\n",
    "Enter number'''"
   ]
  },
  {
   "cell_type": "code",
   "execution_count": 43,
   "id": "cdd32a44",
   "metadata": {
    "ExecuteTime": {
     "end_time": "2023-11-28T01:34:59.841206Z",
     "start_time": "2023-11-28T01:34:58.581066Z"
    }
   },
   "outputs": [
    {
     "name": "stdout",
     "output_type": "stream",
     "text": [
      "\n",
      "1. Add\n",
      "2. Del\n",
      "3. List\n",
      "4. Quit\n",
      "\n",
      "Enter number\n"
     ]
    }
   ],
   "source": [
    "number = 0\n",
    "while number != 4:\n",
    "    print(prompt)\n",
    "    number = int(input())"
   ]
  },
  {
   "cell_type": "code",
   "execution_count": 44,
   "id": "3c35cfdd",
   "metadata": {
    "ExecuteTime": {
     "end_time": "2023-11-28T01:41:15.908342Z",
     "start_time": "2023-11-28T01:41:15.905031Z"
    }
   },
   "outputs": [
    {
     "name": "stdout",
     "output_type": "stream",
     "text": [
      "300원받았다 커피준다\n",
      "남은 커피는 9개 남았다\n",
      "300원받았다 커피준다\n",
      "남은 커피는 8개 남았다\n",
      "300원받았다 커피준다\n",
      "남은 커피는 7개 남았다\n",
      "300원받았다 커피준다\n",
      "남은 커피는 6개 남았다\n",
      "300원받았다 커피준다\n",
      "남은 커피는 5개 남았다\n",
      "300원받았다 커피준다\n",
      "남은 커피는 4개 남았다\n",
      "300원받았다 커피준다\n",
      "남은 커피는 3개 남았다\n",
      "300원받았다 커피준다\n",
      "남은 커피는 2개 남았다\n",
      "300원받았다 커피준다\n",
      "남은 커피는 1개 남았다\n",
      "300원받았다 커피준다\n",
      "남은 커피는 0개 남았다\n",
      "커피 없다. 판매 중지한다\n"
     ]
    }
   ],
   "source": [
    "coffee = 10\n",
    "money = 300\n",
    "while money:\n",
    "    print('%d원받았다 커피준다'% money)\n",
    "    coffee = coffee - 1\n",
    "    print('남은 커피는 %d개 남았다'% coffee)\n",
    "    if coffee == 0:\n",
    "        print('커피 없다. 판매 중지한다')\n",
    "        break"
   ]
  },
  {
   "cell_type": "code",
   "execution_count": 2,
   "id": "cec4d352",
   "metadata": {
    "ExecuteTime": {
     "end_time": "2023-11-28T05:02:11.548888Z",
     "start_time": "2023-11-28T05:01:34.519248Z"
    }
   },
   "outputs": [
    {
     "name": "stdout",
     "output_type": "stream",
     "text": [
      "Python Coffee machine\n",
      "나가기:1004입력\n",
      "\n",
      "요청:돈을 넣어라: 500\n",
      "응답:잔돈 200준다 커피도 준다\n",
      "남은커피 9잔 남았다\n",
      "\n",
      "Python Coffee machine\n",
      "나가기:1004입력\n",
      "\n",
      "요청:돈을 넣어라: 1004\n",
      "종료:잘가\n"
     ]
    }
   ],
   "source": [
    "# coffee.py 여러가지 기능 추가할 수 있음\n",
    "coffee = 10\n",
    "while True:\n",
    "    print('Python Coffee machine\\n나가기:1004입력\\n')\n",
    "    try:\n",
    "        money = int(input('요청:돈을 넣어라: '))\n",
    "    except ValueError:\n",
    "        print('응답:돈만 넣어라\\n')\n",
    "        continue\n",
    "    if money == 300:\n",
    "        print('응답:커피준다')\n",
    "        coffee -= 1\n",
    "        print(f'남은커피 {coffee}잔 남았다\\n')\n",
    "    elif money == 1004:\n",
    "        print('종료:잘가')\n",
    "        break\n",
    "    elif money > 300:\n",
    "        print(f'응답:잔돈 {money - 300}준다 커피도 준다')\n",
    "        coffee -= 1\n",
    "        print(f'남은커피 {coffee}잔 남았다\\n')\n",
    "    else:\n",
    "        print('응답:돈 부족하다. 커피 안준다')\n",
    "        print(f'남은커피 {coffee}잔 남았다\\n')\n",
    "    if coffee == 0:\n",
    "        print('종료:남은커피 없다. 커피 안판다')\n",
    "        break"
   ]
  },
  {
   "cell_type": "code",
   "execution_count": 46,
   "id": "7fd1a03c",
   "metadata": {
    "ExecuteTime": {
     "end_time": "2023-11-28T02:06:47.279390Z",
     "start_time": "2023-11-28T02:06:47.276373Z"
    }
   },
   "outputs": [
    {
     "name": "stdout",
     "output_type": "stream",
     "text": [
      "1\n",
      "3\n",
      "5\n",
      "7\n",
      "9\n"
     ]
    }
   ],
   "source": [
    "a = 0\n",
    "while a < 10:\n",
    "    a += 1\n",
    "    if a % 2 == 0:\n",
    "        continue\n",
    "    print(a)"
   ]
  },
  {
   "cell_type": "markdown",
   "id": "c3938b12",
   "metadata": {},
   "source": [
    "# for 문"
   ]
  },
  {
   "cell_type": "code",
   "execution_count": 47,
   "id": "20bd0afc",
   "metadata": {
    "ExecuteTime": {
     "end_time": "2023-11-28T02:25:29.918673Z",
     "start_time": "2023-11-28T02:25:29.915078Z"
    }
   },
   "outputs": [
    {
     "name": "stdout",
     "output_type": "stream",
     "text": [
      "one\n",
      "two\n",
      "three\n"
     ]
    }
   ],
   "source": [
    "test_list = ['one', 'two', 'three']\n",
    "for i in test_list:\n",
    "    print(i)"
   ]
  },
  {
   "cell_type": "code",
   "execution_count": 52,
   "id": "c050dd79",
   "metadata": {
    "ExecuteTime": {
     "end_time": "2023-11-28T02:27:53.508342Z",
     "start_time": "2023-11-28T02:27:53.505257Z"
    }
   },
   "outputs": [
    {
     "name": "stdout",
     "output_type": "stream",
     "text": [
      "1 2\n",
      "3 4\n",
      "5 6\n"
     ]
    }
   ],
   "source": [
    "a = [(1,2), (3,4), (5,6)]\n",
    "for (x, y) in a:\n",
    "    print(x, y)"
   ]
  },
  {
   "cell_type": "code",
   "execution_count": 53,
   "id": "d1d64377",
   "metadata": {
    "ExecuteTime": {
     "end_time": "2023-11-28T02:34:09.890115Z",
     "start_time": "2023-11-28T02:34:09.887169Z"
    }
   },
   "outputs": [
    {
     "name": "stdout",
     "output_type": "stream",
     "text": [
      "1학생 합격\n",
      "2학생 불합격\n",
      "3학생 합격\n",
      "4학생 불합격\n",
      "5학생 합격\n"
     ]
    }
   ],
   "source": [
    "# marks.py\n",
    "marks = [90, 25, 67, 45, 80]\n",
    "number = 0\n",
    "for x in marks:\n",
    "    number += 1\n",
    "    if x >= 60:\n",
    "        print(f'{number}학생 합격')\n",
    "    elif x < 60:\n",
    "        print(f'{number}학생 불합격')"
   ]
  },
  {
   "cell_type": "code",
   "execution_count": 54,
   "id": "1663a717",
   "metadata": {
    "ExecuteTime": {
     "end_time": "2023-11-28T02:39:38.706148Z",
     "start_time": "2023-11-28T02:39:38.702781Z"
    }
   },
   "outputs": [
    {
     "name": "stdout",
     "output_type": "stream",
     "text": [
      "김민수합격. 축하\n",
      "정광용탈락. 분발하자\n",
      "이용주합격. 축하\n",
      "강현석탈락. 분발하자\n",
      "이재율합격. 축하\n"
     ]
    }
   ],
   "source": [
    "#marks_dict.py\n",
    "marks = {'김민수':90, '정광용':25, '이용주':67, '강현석':45, '이재율':80}\n",
    "\n",
    "for key, value in marks.items():\n",
    "    if value >= 60:\n",
    "        print(f'{key}합격. 축하')\n",
    "    elif value < 60:\n",
    "        print(f'{key}탈락. 분발하자')"
   ]
  },
  {
   "cell_type": "code",
   "execution_count": 55,
   "id": "9e348884",
   "metadata": {
    "ExecuteTime": {
     "end_time": "2023-11-28T02:42:33.385457Z",
     "start_time": "2023-11-28T02:42:33.381696Z"
    }
   },
   "outputs": [
    {
     "data": {
      "text/plain": [
       "(0, 2, 4, 6, 8, 10, 12, 14, 16, 18)"
      ]
     },
     "execution_count": 55,
     "metadata": {},
     "output_type": "execute_result"
    }
   ],
   "source": [
    "# range(a, b, c) a부터(a포함) b전까지(b미포함) c간격으로\n",
    "\n",
    "tuple(range(0, 20, 2)) # 20까지 포함하고싶으면 21을 넣을것"
   ]
  },
  {
   "cell_type": "code",
   "execution_count": 56,
   "id": "019ddbe1",
   "metadata": {
    "ExecuteTime": {
     "end_time": "2023-11-28T05:05:27.461001Z",
     "start_time": "2023-11-28T05:05:27.457425Z"
    }
   },
   "outputs": [
    {
     "name": "stdout",
     "output_type": "stream",
     "text": [
      "1x2= 2,1x3= 3,1x4= 4,1x5= 5,1x6= 6,1x7= 7,1x8= 8,1x9= 9,\n",
      "2x2= 4,2x3= 6,2x4= 8,2x5= 10,2x6= 12,2x7= 14,2x8= 16,2x9= 18,\n",
      "3x2= 6,3x3= 9,3x4= 12,3x5= 15,3x6= 18,3x7= 21,3x8= 24,3x9= 27,\n",
      "4x2= 8,4x3= 12,4x4= 16,4x5= 20,4x6= 24,4x7= 28,4x8= 32,4x9= 36,\n",
      "5x2= 10,5x3= 15,5x4= 20,5x5= 25,5x6= 30,5x7= 35,5x8= 40,5x9= 45,\n",
      "6x2= 12,6x3= 18,6x4= 24,6x5= 30,6x6= 36,6x7= 42,6x8= 48,6x9= 54,\n",
      "7x2= 14,7x3= 21,7x4= 28,7x5= 35,7x6= 42,7x7= 49,7x8= 56,7x9= 63,\n",
      "8x2= 16,8x3= 24,8x4= 32,8x5= 40,8x6= 48,8x7= 56,8x8= 64,8x9= 72,\n",
      "9x2= 18,9x3= 27,9x4= 36,9x5= 45,9x6= 54,9x7= 63,9x8= 72,9x9= 81,\n"
     ]
    }
   ],
   "source": [
    "for i in range(1,10):\n",
    "    for j in range(2,10):\n",
    "        print(f'{i}x{j}=',i*j, end=\",\")\n",
    "    print('')"
   ]
  },
  {
   "cell_type": "code",
   "execution_count": 58,
   "id": "9a57e731",
   "metadata": {
    "ExecuteTime": {
     "end_time": "2023-11-28T04:44:04.445956Z",
     "start_time": "2023-11-28T04:44:04.442005Z"
    }
   },
   "outputs": [
    {
     "name": "stdout",
     "output_type": "stream",
     "text": [
      "키\n",
      "[180, 173, 164, 151]\n",
      "몸무게\n",
      "[72, 103, 56, 48]\n",
      "BMI지수\n",
      "[22.22, 34.41, 20.82, 21.05]\n"
     ]
    }
   ],
   "source": [
    "# 리스트 컴프리헨션\n",
    "# BMI수치 구하기\n",
    "bodys = {180:72, 173:103, 164:56, 151:48}\n",
    "\n",
    "heights = [h for h in bodys.keys()]\n",
    "print(f'키\\n{heights}')\n",
    "weights = [w for w in bodys.values()]\n",
    "print(f'몸무게\\n{weights}')\n",
    "\n",
    "# zip을 사용하여 두개의 리스트를 연산한 새로운 리스트 만들기\n",
    "BMI = [round((w / (h/100)**2), 2) for w, h in zip(weights, heights)]\n",
    "print(f'BMI지수\\n{BMI}')"
   ]
  },
  {
   "cell_type": "code",
   "execution_count": null,
   "id": "abbdd6c8",
   "metadata": {},
   "outputs": [],
   "source": []
  }
 ],
 "metadata": {
  "kernelspec": {
   "display_name": "Python 3 (ipykernel)",
   "language": "python",
   "name": "python3"
  },
  "language_info": {
   "codemirror_mode": {
    "name": "ipython",
    "version": 3
   },
   "file_extension": ".py",
   "mimetype": "text/x-python",
   "name": "python",
   "nbconvert_exporter": "python",
   "pygments_lexer": "ipython3",
   "version": "3.11.5"
  },
  "toc": {
   "base_numbering": 1,
   "nav_menu": {},
   "number_sections": true,
   "sideBar": true,
   "skip_h1_title": false,
   "title_cell": "Table of Contents",
   "title_sidebar": "Contents",
   "toc_cell": false,
   "toc_position": {},
   "toc_section_display": true,
   "toc_window_display": false
  }
 },
 "nbformat": 4,
 "nbformat_minor": 5
}
