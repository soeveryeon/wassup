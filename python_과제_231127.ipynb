{
 "cells": [
  {
   "cell_type": "markdown",
   "id": "8b34edfe",
   "metadata": {},
   "source": [
    "# 위키독스"
   ]
  },
  {
   "cell_type": "markdown",
   "id": "9207555b",
   "metadata": {},
   "source": [
    "## 081 ~ 100 딕셔너리"
   ]
  },
  {
   "cell_type": "code",
   "execution_count": 11,
   "id": "a1877855",
   "metadata": {},
   "outputs": [
    {
     "ename": "ValueError",
     "evalue": "too many values to unpack (expected 3)",
     "output_type": "error",
     "traceback": [
      "\u001b[1;31m---------------------------------------------------------------------------\u001b[0m",
      "\u001b[1;31mValueError\u001b[0m                                Traceback (most recent call last)",
      "Cell \u001b[1;32mIn[11], line 1\u001b[0m\n\u001b[1;32m----> 1\u001b[0m a, b, c \u001b[38;5;241m=\u001b[39m (\u001b[38;5;241m0\u001b[39m, \u001b[38;5;241m1\u001b[39m, \u001b[38;5;241m2\u001b[39m, \u001b[38;5;241m3\u001b[39m, \u001b[38;5;241m4\u001b[39m, \u001b[38;5;241m5\u001b[39m)\n\u001b[0;32m      2\u001b[0m a\n",
      "\u001b[1;31mValueError\u001b[0m: too many values to unpack (expected 3)"
     ]
    }
   ],
   "source": [
    "a, b, c = (0, 1, 2, 3, 4, 5)\n",
    "a"
   ]
  },
  {
   "cell_type": "code",
   "execution_count": 12,
   "id": "a8fbd3ba",
   "metadata": {},
   "outputs": [
    {
     "data": {
      "text/plain": [
       "[0, 1, 2, 3]"
      ]
     },
     "execution_count": 12,
     "metadata": {},
     "output_type": "execute_result"
    }
   ],
   "source": [
    "*a, b, c = (0, 1, 2, 3, 4, 5)\n",
    "a"
   ]
  },
  {
   "cell_type": "code",
   "execution_count": 13,
   "id": "798cd155",
   "metadata": {},
   "outputs": [
    {
     "name": "stdout",
     "output_type": "stream",
     "text": [
      "[8.8, 8.9, 8.7, 9.2, 9.3, 9.7, 9.9, 9.5]\n"
     ]
    }
   ],
   "source": [
    "scores = [8.8, 8.9, 8.7, 9.2, 9.3, 9.7, 9.9, 9.5, 7.8, 9.4]\n",
    "*valid_score, _, _,=scores\n",
    "print(valid_score)"
   ]
  },
  {
   "cell_type": "code",
   "execution_count": 14,
   "id": "8fb438a0",
   "metadata": {},
   "outputs": [
    {
     "name": "stdout",
     "output_type": "stream",
     "text": [
      "[8.7, 9.2, 9.3, 9.7, 9.9, 9.5, 7.8, 9.4]\n"
     ]
    }
   ],
   "source": [
    "_, _, *valid_score = scores\n",
    "print(valid_score)"
   ]
  },
  {
   "cell_type": "code",
   "execution_count": 15,
   "id": "9d229bca",
   "metadata": {},
   "outputs": [
    {
     "name": "stdout",
     "output_type": "stream",
     "text": [
      "[8.9, 8.7, 9.2, 9.3, 9.7, 9.9, 9.5, 7.8]\n"
     ]
    }
   ],
   "source": [
    "a, *valid_score, b = scores\n",
    "print(valid_score)"
   ]
  },
  {
   "cell_type": "code",
   "execution_count": 19,
   "id": "abdacff5",
   "metadata": {},
   "outputs": [
    {
     "name": "stdout",
     "output_type": "stream",
     "text": [
      "{}\n"
     ]
    }
   ],
   "source": [
    "temp = { }\n",
    "print(temp)"
   ]
  },
  {
   "cell_type": "code",
   "execution_count": 20,
   "id": "d18a84fb",
   "metadata": {},
   "outputs": [
    {
     "name": "stdout",
     "output_type": "stream",
     "text": [
      "{'메로나': 1000, '폴라포': 1200, '빵빠레': 1800}\n"
     ]
    }
   ],
   "source": [
    "아이스크림 = {'메로나':1000,'폴라포':1200,'빵빠레':1800}\n",
    "print(아이스크림)"
   ]
  },
  {
   "cell_type": "code",
   "execution_count": 21,
   "id": "1430fa95",
   "metadata": {},
   "outputs": [
    {
     "name": "stdout",
     "output_type": "stream",
     "text": [
      "{'메로나': 1000, '폴라포': 1200, '빵빠레': 1800, '죠스바': 1200, '월드콘': 1500}\n"
     ]
    }
   ],
   "source": [
    "아이스크림['죠스바'] = 1200\n",
    "아이스크림['월드콘'] = 1500\n",
    "print(아이스크림)"
   ]
  },
  {
   "cell_type": "code",
   "execution_count": 22,
   "id": "90c77902",
   "metadata": {},
   "outputs": [
    {
     "data": {
      "text/plain": [
       "1000"
      ]
     },
     "execution_count": 22,
     "metadata": {},
     "output_type": "execute_result"
    }
   ],
   "source": [
    "아이스크림['메로나']"
   ]
  },
  {
   "cell_type": "code",
   "execution_count": 23,
   "id": "3cd7461b",
   "metadata": {},
   "outputs": [
    {
     "ename": "SyntaxError",
     "evalue": "invalid syntax (4006318656.py, line 1)",
     "output_type": "error",
     "traceback": [
      "\u001b[1;36m  Cell \u001b[1;32mIn[23], line 1\u001b[1;36m\u001b[0m\n\u001b[1;33m    메로나 가격: print(아이스크림['메로나'])\u001b[0m\n\u001b[1;37m        ^\u001b[0m\n\u001b[1;31mSyntaxError\u001b[0m\u001b[1;31m:\u001b[0m invalid syntax\n"
     ]
    }
   ],
   "source": [
    "메로나 가격: print(아이스크림['메로나'])"
   ]
  },
  {
   "cell_type": "code",
   "execution_count": 33,
   "id": "828c5b35",
   "metadata": {},
   "outputs": [
    {
     "name": "stdout",
     "output_type": "stream",
     "text": [
      "메로나 가격: 1000\n"
     ]
    }
   ],
   "source": [
    "print('메로나 가격:', 아이스크림['메로나'])"
   ]
  },
  {
   "cell_type": "code",
   "execution_count": 34,
   "id": "d83ba22a",
   "metadata": {},
   "outputs": [
    {
     "name": "stdout",
     "output_type": "stream",
     "text": [
      "{'폴라포': 1200, '빵빠레': 1800, '죠스바': 1200, '월드콘': 1500, '메로나': 1300}\n"
     ]
    }
   ],
   "source": [
    "del 아이스크림['메로나']\n",
    "아이스크림['메로나'] = 1300\n",
    "print(아이스크림)"
   ]
  },
  {
   "cell_type": "code",
   "execution_count": 35,
   "id": "e6f57235",
   "metadata": {},
   "outputs": [
    {
     "name": "stdout",
     "output_type": "stream",
     "text": [
      "{'폴라포': 1200, '빵빠레': 1800, '죠스바': 1200, '월드콘': 1500, '메로나': 1000}\n"
     ]
    }
   ],
   "source": [
    "아이스크림['메로나']=1000\n",
    "print(아이스크림)"
   ]
  },
  {
   "cell_type": "code",
   "execution_count": 36,
   "id": "d39e1f05",
   "metadata": {},
   "outputs": [
    {
     "name": "stdout",
     "output_type": "stream",
     "text": [
      "{'폴라포': 1200, '빵빠레': 1800, '죠스바': 1200, '월드콘': 1500, '메로나': 1300}\n"
     ]
    }
   ],
   "source": [
    "아이스크림['메로나']=1300\n",
    "print(아이스크림)"
   ]
  },
  {
   "cell_type": "code",
   "execution_count": 37,
   "id": "9c4d3dbc",
   "metadata": {},
   "outputs": [
    {
     "name": "stdout",
     "output_type": "stream",
     "text": [
      "{'폴라포': 1200, '빵빠레': 1800, '죠스바': 1200, '월드콘': 1500}\n"
     ]
    }
   ],
   "source": [
    "del 아이스크림['메로나']\n",
    "print(아이스크림)"
   ]
  },
  {
   "cell_type": "code",
   "execution_count": 39,
   "id": "4a8dfaf1",
   "metadata": {},
   "outputs": [
    {
     "ename": "KeyError",
     "evalue": "'누가바'",
     "output_type": "error",
     "traceback": [
      "\u001b[1;31m---------------------------------------------------------------------------\u001b[0m",
      "\u001b[1;31mKeyError\u001b[0m                                  Traceback (most recent call last)",
      "Cell \u001b[1;32mIn[39], line 1\u001b[0m\n\u001b[1;32m----> 1\u001b[0m 아이스크림[\u001b[38;5;124m'\u001b[39m\u001b[38;5;124m누가바\u001b[39m\u001b[38;5;124m'\u001b[39m]\n",
      "\u001b[1;31mKeyError\u001b[0m: '누가바'"
     ]
    }
   ],
   "source": [
    "아이스크림['누가바']"
   ]
  },
  {
   "cell_type": "markdown",
   "id": "246d22d8",
   "metadata": {},
   "source": [
    "* '누가바'라는 Key가 없음"
   ]
  },
  {
   "cell_type": "code",
   "execution_count": 40,
   "id": "fbd72c07",
   "metadata": {},
   "outputs": [
    {
     "name": "stdout",
     "output_type": "stream",
     "text": [
      "{'메로나': [300, 20], '비비빅': [400, 3], '죠스바': [250, 100]}\n"
     ]
    }
   ],
   "source": [
    "inventory = {'메로나':[300,20],'비비빅':[400,3],'죠스바':[250,100]}\n",
    "print(inventory)"
   ]
  },
  {
   "cell_type": "code",
   "execution_count": 48,
   "id": "948b6cee",
   "metadata": {},
   "outputs": [
    {
     "name": "stdout",
     "output_type": "stream",
     "text": [
      "300  원\n"
     ]
    }
   ],
   "source": [
    "print(inventory['메로나'][0],' 원')"
   ]
  },
  {
   "cell_type": "code",
   "execution_count": 49,
   "id": "a1933c35",
   "metadata": {},
   "outputs": [
    {
     "name": "stdout",
     "output_type": "stream",
     "text": [
      "20  개\n"
     ]
    }
   ],
   "source": [
    "print(inventory['메로나'][1],' 개')"
   ]
  },
  {
   "cell_type": "code",
   "execution_count": 50,
   "id": "229a04f3",
   "metadata": {},
   "outputs": [
    {
     "name": "stdout",
     "output_type": "stream",
     "text": [
      "{'메로나': [300, 20], '비비빅': [400, 3], '죠스바': [250, 100], '월드콘': [500, 7]}\n"
     ]
    }
   ],
   "source": [
    "inventory['월드콘']=[500,7]\n",
    "print(inventory)"
   ]
  },
  {
   "cell_type": "code",
   "execution_count": 51,
   "id": "fbf74289",
   "metadata": {},
   "outputs": [],
   "source": [
    "icecream = {'탱크보이': 1200, '폴라포': 1200, '빵빠레': 1800, '월드콘': 1500, '메로나': 1000}"
   ]
  },
  {
   "cell_type": "code",
   "execution_count": 54,
   "id": "ec85e1ef",
   "metadata": {},
   "outputs": [
    {
     "name": "stdout",
     "output_type": "stream",
     "text": [
      "['탱크보이', '폴라포', '빵빠레', '월드콘', '메로나']\n"
     ]
    }
   ],
   "source": [
    "ice=list(icecream.keys())\n",
    "print(ice)"
   ]
  },
  {
   "cell_type": "code",
   "execution_count": 55,
   "id": "0c037b4d",
   "metadata": {},
   "outputs": [
    {
     "name": "stdout",
     "output_type": "stream",
     "text": [
      "[1200, 1200, 1800, 1500, 1000]\n"
     ]
    }
   ],
   "source": [
    "ice_v=list(icecream.values())\n",
    "print(ice_v)"
   ]
  },
  {
   "cell_type": "code",
   "execution_count": 56,
   "id": "479b6c00",
   "metadata": {},
   "outputs": [
    {
     "name": "stdout",
     "output_type": "stream",
     "text": [
      "6700\n"
     ]
    }
   ],
   "source": [
    "print(sum(ice_v))"
   ]
  },
  {
   "cell_type": "code",
   "execution_count": 62,
   "id": "8bb738fe",
   "metadata": {},
   "outputs": [
    {
     "name": "stdout",
     "output_type": "stream",
     "text": [
      "{'탱크보이': 1200, '폴라포': 1200, '빵빠레': 1800, '월드콘': 1500, '메로나': 1000, '팥빙수': 2700, '아맛나': 1000}\n"
     ]
    }
   ],
   "source": [
    "new_product = {'팥빙수':2700, '아맛나':1000}\n",
    "icecream.update(new_product)\n",
    "print(icecream)"
   ]
  },
  {
   "cell_type": "code",
   "execution_count": 67,
   "id": "48ae6c26",
   "metadata": {},
   "outputs": [
    {
     "name": "stdout",
     "output_type": "stream",
     "text": [
      "{'apple': 300, 'pear': 250, 'peach': 400}\n"
     ]
    }
   ],
   "source": [
    "keys = (\"apple\", \"pear\", \"peach\")\n",
    "vals = (300, 250, 400)\n",
    "result = dict(zip(keys, vals))\n",
    "print(result)"
   ]
  },
  {
   "cell_type": "code",
   "execution_count": 68,
   "id": "55bb12ee",
   "metadata": {
    "scrolled": true
   },
   "outputs": [
    {
     "name": "stdout",
     "output_type": "stream",
     "text": [
      "{'09/05': 10500, '09/06': 10300, '09/07': 10100, '09/08': 10800, '09/09': 11000}\n"
     ]
    }
   ],
   "source": [
    "date = ['09/05', '09/06', '09/07', '09/08', '09/09']\n",
    "close_price = [10500, 10300, 10100, 10800, 11000]\n",
    "close_table = dict(zip(date, close_price))\n",
    "print(close_table)"
   ]
  },
  {
   "cell_type": "markdown",
   "id": "10329cc6",
   "metadata": {},
   "source": [
    "# 01_자료형_변수_연습문제_실습용"
   ]
  },
  {
   "cell_type": "markdown",
   "id": "3a18fbff",
   "metadata": {
    "id": "P7z4Artlbeza"
   },
   "source": [
    "## Q1.홍길동 씨의 과목별 점수는 다음과 같다. 홍길동 씨의 평균 점수를 구해보자.\n",
    "\n",
    "|과목|점수|\n",
    "|----|:---:|\n",
    "|국어|80|\n",
    "|영어|75|\n",
    "|수학|55|"
   ]
  },
  {
   "cell_type": "code",
   "execution_count": 5,
   "id": "b5ec9759",
   "metadata": {
    "id": "NiD3GmFCp49j"
   },
   "outputs": [
    {
     "name": "stdout",
     "output_type": "stream",
     "text": [
      "70.0\n"
     ]
    }
   ],
   "source": [
    "홍길동 = {'국어' : 80, '영어' : 75, '수학' : 55}\n",
    "print(sum(홍길동.values())/len(홍길동.values()))"
   ]
  },
  {
   "cell_type": "markdown",
   "id": "d9721e48",
   "metadata": {
    "id": "3TafgBl9dPiZ"
   },
   "source": [
    "## Q2. 자연수 13이 홀수인지 짝수인지 판별할 수 있는 방법에 대해 말해보자."
   ]
  },
  {
   "cell_type": "code",
   "execution_count": 13,
   "id": "5a301aec",
   "metadata": {
    "id": "z7p-E4bRp49k"
   },
   "outputs": [
    {
     "name": "stdout",
     "output_type": "stream",
     "text": [
      "짝수 입니다.\n"
     ]
    }
   ],
   "source": [
    "if 13 // 2 > 0 :\n",
    "    print(\"짝수 입니다.\")"
   ]
  },
  {
   "cell_type": "markdown",
   "id": "43998acb",
   "metadata": {
    "id": "7T8b-FHDdPgI"
   },
   "source": [
    "## Q3. 홍길동 씨의 주민등록번호는 881120-1068234이다.   \n",
    "홍길동씨의 주민등록번호를 연월일(YYYYMMDD)부분과 그 뒤의 숫자 부분으로 나누어 출력해보자.\n",
    "```\n",
    "pin = '881120-1068234'\n",
    "yyyymmdd = # 입력\n",
    "num =  # 입력\n",
    "print() # 연월일 부분 출력\n",
    "print() # 숫자부분 출력\n",
    "```"
   ]
  },
  {
   "cell_type": "code",
   "execution_count": 26,
   "id": "8df3c7ba",
   "metadata": {
    "id": "v9EjmVT7p49l"
   },
   "outputs": [
    {
     "name": "stdout",
     "output_type": "stream",
     "text": [
      "1988년11월20일\n",
      "1068234\n"
     ]
    }
   ],
   "source": [
    "pin = '881120-1068234'\n",
    "ymd = pin[:6]\n",
    "y = ymd[:2]\n",
    "m = ymd[2:4]\n",
    "d = ymd[4:]\n",
    "num = pin[7:]\n",
    "print(19,y,\"년\",m,\"월\",d,\"일\",sep=\"\")\n",
    "print(num)"
   ]
  },
  {
   "cell_type": "markdown",
   "id": "acc97973",
   "metadata": {
    "id": "AtioTrtJdPd4"
   },
   "source": [
    "## Q4. 주민등록번호 뒷자리의 맨 첫 번째 숫자는 성별을 나타낸다.   \n",
    "주민등록번호에서 성별을 나타내는 숫자를 출력해보자.\n",
    "```\n",
    "pin = \"881120-1068234\"\n",
    "print( )\n",
    "```"
   ]
  },
  {
   "cell_type": "code",
   "execution_count": 27,
   "id": "d295b69b",
   "metadata": {
    "id": "qo8AcMyip49l"
   },
   "outputs": [
    {
     "name": "stdout",
     "output_type": "stream",
     "text": [
      "1\n"
     ]
    }
   ],
   "source": [
    "print(pin[7])"
   ]
  },
  {
   "cell_type": "markdown",
   "id": "b461d6a6",
   "metadata": {
    "id": "XaXv7gsrdPbb"
   },
   "source": [
    "## Q5. 다음과 같은 문자열 a:b:c:d가 있다.   \n",
    "문자열의 replace 함수를 사용하여 a#b#c#d로 바꿔서 출력해보자.\n",
    "```\n",
    "a = \"a:b:c:d\"\n",
    "b =\n",
    "print(b)\n",
    "```"
   ]
  },
  {
   "cell_type": "code",
   "execution_count": 8,
   "id": "b06f94ec",
   "metadata": {
    "id": "wH3gpY3-p49m"
   },
   "outputs": [
    {
     "name": "stdout",
     "output_type": "stream",
     "text": [
      "a#b#c#d\n"
     ]
    }
   ],
   "source": [
    "a = \"a:b:c:d\"\n",
    "b = a.replace(\":\",\"#\")\n",
    "print(b)"
   ]
  },
  {
   "cell_type": "markdown",
   "id": "82fde486",
   "metadata": {
    "id": "-fANvuSaj8-C"
   },
   "source": [
    "## Q6. [1, 3, 5, 4, 2] 리스트를 [5, 4, 3, 2, 1]로 만들어 보자.\n",
    "```\n",
    "a = [1, 3, 5, 4, 2]\n",
    "a.\n",
    "a.\n",
    "print()\n",
    "```"
   ]
  },
  {
   "cell_type": "code",
   "execution_count": 30,
   "id": "ea17c1a7",
   "metadata": {
    "id": "qZ-i5aiRp49n"
   },
   "outputs": [
    {
     "name": "stdout",
     "output_type": "stream",
     "text": [
      "[5, 4, 3, 2, 1]\n"
     ]
    }
   ],
   "source": [
    "a = [1, 3, 5, 4, 2]\n",
    "a.sort()\n",
    "a.reverse()\n",
    "print(a)"
   ]
  },
  {
   "cell_type": "markdown",
   "id": "0e045255",
   "metadata": {
    "id": "6lES5LRAdPY4"
   },
   "source": [
    "## Q7. ['Life', 'is', 'too', 'short'] 리스트를 Life is too short 문자열로 만들어 출력해보자.\n",
    "```\n",
    "a = ['Life', 'is', 'too', 'short']\n",
    "result =\n",
    "print(result)\n",
    "```"
   ]
  },
  {
   "cell_type": "code",
   "execution_count": 41,
   "id": "886188d7",
   "metadata": {
    "id": "oJ7ze-x6p49n"
   },
   "outputs": [
    {
     "name": "stdout",
     "output_type": "stream",
     "text": [
      "Life is too short\n"
     ]
    }
   ],
   "source": [
    "a = ['Life', 'is', 'too', 'short']\n",
    "result = \" \".join(a)\n",
    "print(result)"
   ]
  },
  {
   "cell_type": "markdown",
   "id": "a7142964",
   "metadata": {
    "id": "PqSrz8p8dPU6"
   },
   "source": [
    "## Q8. (1,2,3) 튜플에 값 4를 추가하여 (1,2,3,4)를 만들어 출력해 보자.\n",
    "```\n",
    "a = (1, 2, 3)\n",
    "a =\n",
    "print(a)\n",
    "```"
   ]
  },
  {
   "cell_type": "code",
   "execution_count": 43,
   "id": "a7a78706",
   "metadata": {
    "id": "eV0ZiH_-p49n"
   },
   "outputs": [
    {
     "name": "stdout",
     "output_type": "stream",
     "text": [
      "(1, 2, 3, 4)\n"
     ]
    }
   ],
   "source": [
    "a = (1, 2, 3)\n",
    "b = (4, )\n",
    "c = a + b\n",
    "print(c)"
   ]
  },
  {
   "cell_type": "code",
   "execution_count": 45,
   "id": "bb18b7d0",
   "metadata": {},
   "outputs": [
    {
     "name": "stdout",
     "output_type": "stream",
     "text": [
      "(1, 2, 3, 4)\n"
     ]
    }
   ],
   "source": [
    "a = (1, 2, 3)\n",
    "a = (1, 2, 3, 4)\n",
    "print(a)"
   ]
  },
  {
   "cell_type": "markdown",
   "id": "0a1f3f6a",
   "metadata": {
    "id": "qmTUwfF3luRo"
   },
   "source": [
    "## Q9. 다음과 같은 딕셔너리 a가 있다.\n",
    "```\n",
    ">>> a = dict()\n",
    ">>> a\n",
    "{}\n",
    "```\n",
    "다음 중 오류가 발생하는 경우를 고르고, 그 이유를 설명해 보자.   \n",
    "1. a['name'] = 'python'\n",
    "2. a[('a',)] = 'python'\n",
    "3. a[[1]] = 'python'\n",
    "4. a[250] = 'python'"
   ]
  },
  {
   "cell_type": "markdown",
   "id": "f613ee58",
   "metadata": {},
   "source": [
    "* 리스트는 mutable하기 때문에 key가 될 수 없다."
   ]
  },
  {
   "cell_type": "code",
   "execution_count": 47,
   "id": "b6dfba61",
   "metadata": {
    "id": "lccjjP_up49o"
   },
   "outputs": [
    {
     "data": {
      "text/plain": [
       "{'name': 'python'}"
      ]
     },
     "execution_count": 47,
     "metadata": {},
     "output_type": "execute_result"
    }
   ],
   "source": [
    "a = dict()\n",
    "a['name'] = 'python'\n",
    "a"
   ]
  },
  {
   "cell_type": "code",
   "execution_count": 48,
   "id": "c71efe99",
   "metadata": {},
   "outputs": [
    {
     "data": {
      "text/plain": [
       "{'name': 'python', ('a',): 'python'}"
      ]
     },
     "execution_count": 48,
     "metadata": {},
     "output_type": "execute_result"
    }
   ],
   "source": [
    "a[('a',)] = 'python'\n",
    "a"
   ]
  },
  {
   "cell_type": "code",
   "execution_count": 49,
   "id": "d257cdf7",
   "metadata": {},
   "outputs": [
    {
     "ename": "TypeError",
     "evalue": "unhashable type: 'list'",
     "output_type": "error",
     "traceback": [
      "\u001b[1;31m---------------------------------------------------------------------------\u001b[0m",
      "\u001b[1;31mTypeError\u001b[0m                                 Traceback (most recent call last)",
      "Cell \u001b[1;32mIn[49], line 1\u001b[0m\n\u001b[1;32m----> 1\u001b[0m a[[\u001b[38;5;241m1\u001b[39m]] \u001b[38;5;241m=\u001b[39m \u001b[38;5;124m'\u001b[39m\u001b[38;5;124mpython\u001b[39m\u001b[38;5;124m'\u001b[39m\n\u001b[0;32m      2\u001b[0m a\n",
      "\u001b[1;31mTypeError\u001b[0m: unhashable type: 'list'"
     ]
    }
   ],
   "source": [
    "a[[1]] = 'python'\n",
    "a"
   ]
  },
  {
   "cell_type": "code",
   "execution_count": 50,
   "id": "a2340aef",
   "metadata": {},
   "outputs": [
    {
     "data": {
      "text/plain": [
       "{'name': 'python', ('a',): 'python', 250: 'python'}"
      ]
     },
     "execution_count": 50,
     "metadata": {},
     "output_type": "execute_result"
    }
   ],
   "source": [
    "a[250] = 'python'\n",
    "a"
   ]
  },
  {
   "cell_type": "markdown",
   "id": "7b15ee33",
   "metadata": {
    "id": "I9jnR3JXm_9r"
   },
   "source": [
    "## Q10. 딕셔너리 a에서 'B'에 해당되는 값을 추출해 보자.\n",
    "```\n",
    "a = {'A':90, 'B':80, 'C':70}\n",
    "result =\n",
    "print(a)\n",
    "print(result)\n",
    "```"
   ]
  },
  {
   "cell_type": "code",
   "execution_count": 11,
   "id": "973cc814",
   "metadata": {
    "id": "iU4C4JT-p49o"
   },
   "outputs": [
    {
     "name": "stdout",
     "output_type": "stream",
     "text": [
      "{'A': 90, 'B': 80, 'C': 70}\n",
      "80\n"
     ]
    }
   ],
   "source": [
    "a = {'A':90, 'B':80, 'C':70}\n",
    "result = a['B']\n",
    "print(a)\n",
    "print(result)"
   ]
  },
  {
   "cell_type": "markdown",
   "id": "40a02ca8",
   "metadata": {
    "id": "nN3vmxD-nUZC"
   },
   "source": [
    "## Q11. a 리스트에서 중복 숫자를 제거해 보자.\n",
    "```\n",
    "a = [1, 1, 1, 2, 2, 3, 3, 3, 4, 4, 5]\n",
    "aSet =\n",
    "b =\n",
    "print(b)\n",
    "```"
   ]
  },
  {
   "cell_type": "code",
   "execution_count": 54,
   "id": "5b0a94fd",
   "metadata": {
    "id": "md_gELw4p49o"
   },
   "outputs": [
    {
     "name": "stdout",
     "output_type": "stream",
     "text": [
      "[1, 2, 3, 4, 5]\n"
     ]
    }
   ],
   "source": [
    "a = [1, 1, 1, 2, 2, 3, 3, 3, 4, 4, 5]\n",
    "aSet = set(a)\n",
    "b = list(aSet)\n",
    "print(b)"
   ]
  },
  {
   "cell_type": "markdown",
   "id": "c448fb33",
   "metadata": {
    "id": "noodmU5Mnv5Z"
   },
   "source": [
    "## Q12. 파이썬은 다음처럼 동일한 값에 여러 개의 변수를 선언할 수 있다.   \n",
    "다음과 같이 a, b 변수를 선언한 후 a의 두 번째 요솟값을 변경하면 b 값은 어떻게될까?   \n",
    "그리고 이런 결과가 나오는 이유에 대해 설명해보자.\n",
    "```\n",
    ">>> a = b = [1, 2, 3]\n",
    ">>> a[1] = 4\n",
    ">>> print(b)\n",
    "```"
   ]
  },
  {
   "cell_type": "markdown",
   "id": "fa0275f4",
   "metadata": {},
   "source": [
    "* 똑같은 객체이기 때문!"
   ]
  },
  {
   "cell_type": "code",
   "execution_count": 55,
   "id": "c99a6bc8",
   "metadata": {
    "id": "H2l5YyTwp49o"
   },
   "outputs": [
    {
     "name": "stdout",
     "output_type": "stream",
     "text": [
      "[1, 4, 3]\n"
     ]
    }
   ],
   "source": [
    "a = b = [1, 2, 3]\n",
    "a[1] = 4\n",
    "print(b)"
   ]
  },
  {
   "cell_type": "code",
   "execution_count": 56,
   "id": "e4b9b625",
   "metadata": {},
   "outputs": [
    {
     "data": {
      "text/plain": [
       "True"
      ]
     },
     "execution_count": 56,
     "metadata": {},
     "output_type": "execute_result"
    }
   ],
   "source": [
    "a is b"
   ]
  },
  {
   "cell_type": "code",
   "execution_count": 58,
   "id": "fa26c15f",
   "metadata": {},
   "outputs": [
    {
     "data": {
      "text/plain": [
       "1724649449024"
      ]
     },
     "execution_count": 58,
     "metadata": {},
     "output_type": "execute_result"
    }
   ],
   "source": [
    "id(a)"
   ]
  },
  {
   "cell_type": "code",
   "execution_count": 59,
   "id": "555ca5ac",
   "metadata": {},
   "outputs": [
    {
     "data": {
      "text/plain": [
       "1724649449024"
      ]
     },
     "execution_count": 59,
     "metadata": {},
     "output_type": "execute_result"
    }
   ],
   "source": [
    "id(b)"
   ]
  },
  {
   "cell_type": "markdown",
   "id": "07d12592",
   "metadata": {
    "id": "YTuIYpyhp49p"
   },
   "source": [
    "```\n",
    "\"서두르지 마라, 그러나 멈추지도 마라.\"\n",
    "- 요한 볼프강 폰 괴테\n",
    "```"
   ]
  }
 ],
 "metadata": {
  "kernelspec": {
   "display_name": "Python 3 (ipykernel)",
   "language": "python",
   "name": "python3"
  },
  "language_info": {
   "codemirror_mode": {
    "name": "ipython",
    "version": 3
   },
   "file_extension": ".py",
   "mimetype": "text/x-python",
   "name": "python",
   "nbconvert_exporter": "python",
   "pygments_lexer": "ipython3",
   "version": "3.11.5"
  }
 },
 "nbformat": 4,
 "nbformat_minor": 5
}
