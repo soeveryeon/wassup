{
 "cells": [
  {
   "cell_type": "markdown",
   "metadata": {
    "id": "--4OkJRjoPgo"
   },
   "source": [
    "# 전화번호 프로그램 만들기\n",
    "\n",
    "* 홍길동 010-123-4567\n",
    "* 기능1 : 연락처 추가\n",
    "* 기능2 : 연락처 전체 보기\n",
    "* 기능3 : 검색, 이름을 입력받아서 전화번호 조회\n",
    "* 기능4 : 수정, 이름을 입력받아서 전화번호 입력수정\n",
    "* 기능5 : 삭제, 이름 입력받아서 삭제\n",
    "* 기능6 : 프로그램 종료"
   ]
  },
  {
   "cell_type": "code",
   "execution_count": 2,
   "metadata": {
    "id": "bNves5CLoPgs"
   },
   "outputs": [
    {
     "name": "stdout",
     "output_type": "stream",
     "text": [
      "연락처 추가:홍길동 010-123-4567\n",
      "홍길동 010-123-4567\n"
     ]
    }
   ],
   "source": [
    "연락처 = []\n",
    "연락처 = input(\"연락처 추가:\")\n",
    "print(연락처)"
   ]
  },
  {
   "cell_type": "code",
   "execution_count": 7,
   "metadata": {
    "id": "J3B08XTroX4b"
   },
   "outputs": [
    {
     "name": "stdout",
     "output_type": "stream",
     "text": [
      "이름 입력: 홍길동\n",
      "전화번호 입력: 010-123-4567\n",
      "찾을 이름 입력: 홍길동\n"
     ]
    },
    {
     "ename": "NameError",
     "evalue": "name 'search' is not defined",
     "output_type": "error",
     "traceback": [
      "\u001b[1;31m---------------------------------------------------------------------------\u001b[0m",
      "\u001b[1;31mNameError\u001b[0m                                 Traceback (most recent call last)",
      "Cell \u001b[1;32mIn[7], line 7\u001b[0m\n\u001b[0;32m      5\u001b[0m 연락처[name] \u001b[38;5;241m=\u001b[39m phone\n\u001b[0;32m      6\u001b[0m seach \u001b[38;5;241m=\u001b[39m \u001b[38;5;28minput\u001b[39m(\u001b[38;5;124m\"\u001b[39m\u001b[38;5;124m찾을 이름 입력: \u001b[39m\u001b[38;5;124m\"\u001b[39m)\n\u001b[1;32m----> 7\u001b[0m \u001b[38;5;28;01mif\u001b[39;00m search\u001b[38;5;241m.\u001b[39mlower() \u001b[38;5;241m==\u001b[39m \u001b[38;5;124m'\u001b[39m\u001b[38;5;124mexit\u001b[39m\u001b[38;5;124m'\u001b[39m:\n\u001b[0;32m      8\u001b[0m     \u001b[38;5;28;01mbreak\u001b[39;00m\n\u001b[0;32m      9\u001b[0m result \u001b[38;5;241m=\u001b[39m [search \u001b[38;5;28;01mfor\u001b[39;00m search \u001b[38;5;129;01min\u001b[39;00m 연락처]\n",
      "\u001b[1;31mNameError\u001b[0m: name 'search' is not defined"
     ]
    }
   ],
   "source": [
    "연락처 = {}\n",
    "while True:\n",
    "    name = input(\"이름 입력: \")\n",
    "    phone = input(\"전화번호 입력: \")\n",
    "    연락처[name] = phone\n",
    "    seach = input(\"찾을 이름 입력: \")\n",
    "    if search.lower() == 'exit':\n",
    "        break\n",
    "    result = [search for search in 연락처]\n",
    "print(\"전화번호부:\", 연락처)"
   ]
  },
  {
   "cell_type": "markdown",
   "metadata": {},
   "source": [
    "## 요구사항 분석 및 설계\n",
    "* 요구사항 분석 (구체적인 동작 정의)\n",
    "* 홍길동, 010-123-4567 -> 딕셔너리\n",
    "* input 받기, str\n",
    "* 프로그램: while\n",
    "* 기능 1~5 : if - 숫자 입력시 기능 동작\n",
    "* 기능1: 연락처 추가 -> dict 추가 (dict[key]=value)\n",
    "* 기능2: 보기 -> for문 돌려서 전체 출력\n",
    "* 기능3: 조회 -> 이름 입력시 전화번호 출력 (dict[key])\n",
    "* 기능4: 수정 -> dict[key]=value\n",
    "* 기능5: 삭제 -> del\n",
    "* 기능6: 종료 -> break\n",
    "* 예외처리"
   ]
  },
  {
   "cell_type": "code",
   "execution_count": 14,
   "metadata": {},
   "outputs": [
    {
     "name": "stdout",
     "output_type": "stream",
     "text": [
      "---- 전화번호부 프로그램 실행 ----\n",
      "1.추가    2.보기    3.검색    4.수정    5.삭제    9.종료\n",
      "메뉴선택9\n",
      "연락처 종료 작업 실행\n"
     ]
    }
   ],
   "source": [
    "contact = {}\n",
    "while True:\n",
    "    print('---- 전화번호부 프로그램 실행 ----')\n",
    "    print('1.추가    2.보기    3.검색    4.수정    5.삭제    9.종료')\n",
    "    \n",
    "    menu = int(input('메뉴선택'))\n",
    "    if menu == 1:\n",
    "        print('연락처 추가 작업 실행')\n",
    "        n_name = input('이름: ')\n",
    "        n_tel = input('전화번호: ')\n",
    "        contact.setdefault(n_name, n_tel)\n",
    "        \n",
    "    elif menu == 2:\n",
    "        print('연락처 보기 작업 실행')\n",
    "        for name, tel in contact.items():\n",
    "            print(name,\":\", tel)\n",
    "        \n",
    "    elif menu == 3:\n",
    "        print('연락처 검색 작업 실행')\n",
    "        search_name = input('검색할 이름: ')\n",
    "        print(contact.get(search_name, '없는 이름입니다.'))\n",
    "        \n",
    "        \n",
    "    elif menu == 4:\n",
    "        print('연락처 수정 작업 실행')\n",
    "        mod_name = input(\"수정할 이름: \")\n",
    "        #연락처 안에 이름 검색 후 있으면, 전화번호 수정하고 없으면 '없는 이름입니다.' 출력하기.\n",
    "        if mod_name in contact:\n",
    "            mod_tel = input('새전화번호: ')\n",
    "            contact[mod_name] = mod_tel\n",
    "        else:\n",
    "            print(\"없는 이름입니다.\")\n",
    "        \n",
    "    elif menu == 5:\n",
    "        print('연락처 삭제 작업 실행')\n",
    "        del_name = input(\"삭제할 이름: \")\n",
    "        #연락처 안에 이름 검색 후 있으면, 삭제하고 없으면 '없는 이름입니다.' 출력하기.\n",
    "        if del_name in contact:\n",
    "            del contact[del_name]\n",
    "        else:\n",
    "            print(\"없는 이름입니다.\")\n",
    "        \n",
    "    elif menu == 9:\n",
    "        print('연락처 종료 작업 실행')\n",
    "        break\n",
    "        \n",
    "    else:\n",
    "        print('잘못된 메뉴 선택입니다.')"
   ]
  },
  {
   "cell_type": "code",
   "execution_count": null,
   "metadata": {},
   "outputs": [],
   "source": []
  }
 ],
 "metadata": {
  "colab": {
   "provenance": []
  },
  "kernelspec": {
   "display_name": "Python 3 (ipykernel)",
   "language": "python",
   "name": "python3"
  },
  "language_info": {
   "codemirror_mode": {
    "name": "ipython",
    "version": 3
   },
   "file_extension": ".py",
   "mimetype": "text/x-python",
   "name": "python",
   "nbconvert_exporter": "python",
   "pygments_lexer": "ipython3",
   "version": "3.11.5"
  },
  "toc": {
   "base_numbering": 1,
   "nav_menu": {},
   "number_sections": true,
   "sideBar": true,
   "skip_h1_title": false,
   "title_cell": "Table of Contents",
   "title_sidebar": "Contents",
   "toc_cell": false,
   "toc_position": {},
   "toc_section_display": true,
   "toc_window_display": false
  },
  "varInspector": {
   "cols": {
    "lenName": 16,
    "lenType": 16,
    "lenVar": 40
   },
   "kernels_config": {
    "python": {
     "delete_cmd_postfix": "",
     "delete_cmd_prefix": "del ",
     "library": "var_list.py",
     "varRefreshCmd": "print(var_dic_list())"
    },
    "r": {
     "delete_cmd_postfix": ") ",
     "delete_cmd_prefix": "rm(",
     "library": "var_list.r",
     "varRefreshCmd": "cat(var_dic_list()) "
    }
   },
   "types_to_exclude": [
    "module",
    "function",
    "builtin_function_or_method",
    "instance",
    "_Feature"
   ],
   "window_display": false
  }
 },
 "nbformat": 4,
 "nbformat_minor": 1
}
