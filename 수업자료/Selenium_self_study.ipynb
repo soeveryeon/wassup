{
 "cells": [
  {
   "cell_type": "code",
   "execution_count": 7,
   "id": "8ffb5cc6",
   "metadata": {},
   "outputs": [],
   "source": [
    "import pandas as pd\n",
    "from selenium import webdriver #크롬 창 조종 모듈\n",
    "from selenium.webdriver.common.by import By #웹사이트의 구성요소 선택을 위한 모듈\n",
    "from selenium.webdriver.chrome.options import Options\n",
    "from selenium.webdriver.support.ui import WebDriverWait #웹페이지가 전부 로드될때까지 기다리는 기능의 모듈\n",
    "from selenium.webdriver.support import expected_conditions as EC # 크롬의 부분 상태 확인 모듈\n",
    "import time\n",
    "\n",
    "#selenium 패키지 안에 있는 모듈을 따로 불러온 이유는 매번 모듈을 사용할때마다 코드 작성하기 불편하기 때문\n",
    "#전체 패키지를 불러올 경우 속도가 느려짐\n",
    "\n",
    "options = Options()\n",
    "options.add_experimental_option(\"detach\", True) \n",
    "#특정함수안에서  드라이버 생성시 함수종료될 때 브라우저 같이 종료되는 문제 대응"
   ]
  },
  {
   "cell_type": "code",
   "execution_count": 9,
   "id": "0c0c4f34",
   "metadata": {},
   "outputs": [],
   "source": [
    "driver = webdriver.Chrome(options=options)\n",
    "driver.get(\"https://map.naver.com/p/search/양천구 반려동물용품\")"
   ]
  },
  {
   "cell_type": "code",
   "execution_count": 10,
   "id": "ce5b961e",
   "metadata": {},
   "outputs": [],
   "source": [
    "driver.switch_to.frame(\"searchIframe\")\n",
    "\n",
    "fnm = ''\n",
    "brk = 1\n",
    "res = pd.DataFrame()\n",
    "empty = '//*[@id=\"_pcmap_list_scroll_container\"]'\n",
    "\n",
    "while brk:\n",
    "    driver.find_element(By.XPATH, empty)\n",
    "    \n",
    "    for i in range(1,51):\n",
    "        nm = ['NA']\n",
    "        addr = ['NA']\n",
    "        \n",
    "        driver.find_element(By.XPATH, empty)\n",
    "        \n",
    "        nm = driver.find_elements(By.XPATH, f'//*[@id=\"_pcmap_list_scroll_container\"]/ul/li[1]/div[1]/div[2]/a[1]/div/div/span[1]')\n",
    "        addr = driver.find_elements(By.XPATH, f'//*[@id=\"_pcmap_list_scroll_container\"]/ul/li[1]/div[1]/div[2]/div/div/span[2]/a/span[1]')\n",
    "        \n",
    "        if nm != []:\n",
    "            addr = addr[0].text\n",
    "            if any(i in addr for i in ['양천구']):\n",
    "                res = pd.concat([res, pd.DataFrame([nm[0].text, addr]).T])\n",
    "                res.to_csv('./res_naver.csv', index=False)\n",
    "        if i == 1:\n",
    "            if fnm == nm:\n",
    "                brk = 0\n",
    "                break\n",
    "            \n",
    "            else:\n",
    "                fnm = nm\n",
    "    driver.find_element(By.XPATH,'//*[@id=\"app-root\"]/div/div[2]/div[2]')     \n",
    "    driver.find_element(By.XPATH,'//*[@id=\"app-root\"]/div/div[2]/div[2]/a[4]').click()\n",
    "    time.sleep(2)\n"
   ]
  },
  {
   "cell_type": "code",
   "execution_count": null,
   "id": "d3370767",
   "metadata": {},
   "outputs": [],
   "source": []
  }
 ],
 "metadata": {
  "kernelspec": {
   "display_name": "Python 3 (ipykernel)",
   "language": "python",
   "name": "python3"
  },
  "language_info": {
   "codemirror_mode": {
    "name": "ipython",
    "version": 3
   },
   "file_extension": ".py",
   "mimetype": "text/x-python",
   "name": "python",
   "nbconvert_exporter": "python",
   "pygments_lexer": "ipython3",
   "version": "3.11.5"
  }
 },
 "nbformat": 4,
 "nbformat_minor": 5
}
