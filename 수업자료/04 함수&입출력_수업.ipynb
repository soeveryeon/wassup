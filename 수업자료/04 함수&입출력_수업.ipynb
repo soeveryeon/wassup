{
 "cells": [
  {
   "cell_type": "markdown",
   "id": "0db889f2",
   "metadata": {},
   "source": [
    "## 04 함수_입출력"
   ]
  },
  {
   "cell_type": "code",
   "execution_count": 1,
   "id": "b13f834b",
   "metadata": {},
   "outputs": [],
   "source": [
    "f = open(\"새파일.txt\",'w')\n",
    "f.close()"
   ]
  },
  {
   "cell_type": "code",
   "execution_count": 4,
   "id": "91c954c9",
   "metadata": {},
   "outputs": [],
   "source": [
    "f = open(\"C:\\workspace\\wassup\\새파일.txt\",'w')\n",
    "for i in range(1, 11):\n",
    "    data = \"%d번째 줄입니다.\\n\" % i\n",
    "    f.write(data)\n",
    "f.close()"
   ]
  },
  {
   "cell_type": "code",
   "execution_count": 5,
   "id": "f7fb4917",
   "metadata": {},
   "outputs": [
    {
     "name": "stdout",
     "output_type": "stream",
     "text": [
      "1번째 줄입니다.\n",
      "\n"
     ]
    }
   ],
   "source": [
    "f = open(\"C:\\workspace\\wassup\\새파일.txt\",'r')\n",
    "line = f.readline()\n",
    "print(line)\n",
    "f.close()"
   ]
  },
  {
   "cell_type": "code",
   "execution_count": 6,
   "id": "3229be55",
   "metadata": {},
   "outputs": [
    {
     "name": "stdout",
     "output_type": "stream",
     "text": [
      "1번째 줄입니다.\n",
      "2번째 줄입니다.\n",
      "3번째 줄입니다.\n",
      "4번째 줄입니다.\n",
      "5번째 줄입니다.\n",
      "6번째 줄입니다.\n",
      "7번째 줄입니다.\n",
      "8번째 줄입니다.\n",
      "9번째 줄입니다.\n",
      "10번째 줄입니다.\n",
      "\n"
     ]
    },
    {
     "data": {
      "text/plain": [
       "<function TextIOWrapper.close()>"
      ]
     },
     "execution_count": 6,
     "metadata": {},
     "output_type": "execute_result"
    }
   ],
   "source": [
    "f = open(\"C:\\workspace\\wassup\\새파일.txt\",'r')\n",
    "data = f.read()\n",
    "print(data)\n",
    "f.close"
   ]
  },
  {
   "cell_type": "code",
   "execution_count": 7,
   "id": "7d8baaac",
   "metadata": {},
   "outputs": [
    {
     "data": {
      "text/plain": [
       "str"
      ]
     },
     "execution_count": 7,
     "metadata": {},
     "output_type": "execute_result"
    }
   ],
   "source": [
    "type(data)"
   ]
  },
  {
   "cell_type": "code",
   "execution_count": 9,
   "id": "0c8cdd3f",
   "metadata": {},
   "outputs": [
    {
     "data": {
      "text/plain": [
       "'1번째 줄입니다.\\n2번째 줄입니다.\\n3번째 줄입니다.\\n4번째 줄입니다.\\n5번째 줄입니다.\\n6번째 줄입니다.\\n7번째 줄입니다.\\n8번째 줄입니다.\\n9번째 줄입니다.\\n10번째 줄입니다.\\n'"
      ]
     },
     "execution_count": 9,
     "metadata": {},
     "output_type": "execute_result"
    }
   ],
   "source": [
    "data"
   ]
  },
  {
   "cell_type": "code",
   "execution_count": 11,
   "id": "2e4a56cf",
   "metadata": {},
   "outputs": [],
   "source": [
    "f = open(\"C:\\workspace\\wassup\\새파일.txt\",'a')\n",
    "for i in range(11,20):\n",
    "    data = \"%d번째 줄입니다.\\n\" %i\n",
    "    f.write(data)\n",
    "f.close()"
   ]
  },
  {
   "cell_type": "code",
   "execution_count": 16,
   "id": "f88e0fa2",
   "metadata": {},
   "outputs": [],
   "source": [
    "with open(\"새파일.txt\",'a') as f:\n",
    "    for i in range(10):\n",
    "        data = \"%d번째 줄입니다.\\n\" %i\n",
    "        f.write(data)"
   ]
  },
  {
   "cell_type": "markdown",
   "id": "4580d60b",
   "metadata": {},
   "source": [
    "## 05 클래스"
   ]
  },
  {
   "cell_type": "code",
   "execution_count": 17,
   "id": "7145c125",
   "metadata": {},
   "outputs": [
    {
     "name": "stdout",
     "output_type": "stream",
     "text": [
      "3\n",
      "7\n"
     ]
    }
   ],
   "source": [
    "result = 0\n",
    "\n",
    "def add(num):\n",
    "    global result\n",
    "    result += num\n",
    "    return result\n",
    "\n",
    "print(add(3))\n",
    "print(add(4))"
   ]
  },
  {
   "cell_type": "code",
   "execution_count": 18,
   "id": "7746d4ed",
   "metadata": {},
   "outputs": [
    {
     "name": "stdout",
     "output_type": "stream",
     "text": [
      "3\n",
      "10\n",
      "3\n",
      "13\n"
     ]
    }
   ],
   "source": [
    "result1 = 0\n",
    "result2 = 0\n",
    "\n",
    "def add1(num):\n",
    "    global result1\n",
    "    result1 += num\n",
    "    return result1\n",
    "\n",
    "def add2(num):\n",
    "    global result2\n",
    "    result2 += num\n",
    "    return result2\n",
    "\n",
    "print(add1(3))\n",
    "print(add1(7))\n",
    "\n",
    "print(add2(3))\n",
    "print(add2(10))"
   ]
  },
  {
   "cell_type": "code",
   "execution_count": 24,
   "id": "6c6f69bf",
   "metadata": {},
   "outputs": [
    {
     "name": "stdout",
     "output_type": "stream",
     "text": [
      "3\n",
      "7\n",
      "3\n",
      "10\n",
      "3\n"
     ]
    }
   ],
   "source": [
    "class calculator:\n",
    "    def __init__(self):\n",
    "        self.result = 0\n",
    "        \n",
    "    def add(self, num):\n",
    "        self.result += num\n",
    "        return self.result\n",
    "    \n",
    "    def sub(self, num):\n",
    "        self.result -= num\n",
    "        return self.result\n",
    "    \n",
    "cal1 = calculator()\n",
    "cal2 = calculator()\n",
    "\n",
    "print(cal1.add(3))\n",
    "print(cal1.add(4))\n",
    "print(cal2.add(3))\n",
    "print(cal2.add(7))\n",
    "print(cal2.sub(7))"
   ]
  },
  {
   "cell_type": "markdown",
   "id": "b9559c07",
   "metadata": {},
   "source": [
    "클래스 - 과자 틀\n",
    "객체 - 과자\n",
    "인스턴스 -> 관계 위주의 설명\n",
    "\n",
    "과자는 객체입니다.\n",
    "과자는 과자틀의 인스턴스입니다."
   ]
  },
  {
   "cell_type": "code",
   "execution_count": 26,
   "id": "550db4cf",
   "metadata": {},
   "outputs": [],
   "source": [
    "class fourCal:\n",
    "    pass\n",
    "#pass는 아무것도 수행하지 않는 문장으로 임시로 코드를 작성할 때 주로 사용함"
   ]
  },
  {
   "cell_type": "code",
   "execution_count": 27,
   "id": "09c3641d",
   "metadata": {},
   "outputs": [
    {
     "data": {
      "text/plain": [
       "__main__.fourCal"
      ]
     },
     "execution_count": 27,
     "metadata": {},
     "output_type": "execute_result"
    }
   ],
   "source": [
    "a = fourCal()\n",
    "type(a)"
   ]
  },
  {
   "cell_type": "code",
   "execution_count": 44,
   "id": "1e804b1f",
   "metadata": {},
   "outputs": [],
   "source": [
    "class fourCal:\n",
    "    def setdata(self, first, second): #메서드의 매개변수\n",
    "        self.first = first #메서드의 수행문\n",
    "        self.second = second #메서드의 수행문\n",
    "        \n",
    "    def add(self):\n",
    "        result = self.first + self.second\n",
    "        return result\n",
    "    \n",
    "    def mul(self):\n",
    "        result = self.first * self.second\n",
    "        return result\n",
    "    \n",
    "    def sub(self):\n",
    "        result = self.first - self.second\n",
    "        return result\n",
    "    \n",
    "    def div(self):\n",
    "        result = self.first / self.second\n",
    "        return result"
   ]
  },
  {
   "cell_type": "code",
   "execution_count": 54,
   "id": "f0ecf2b8",
   "metadata": {},
   "outputs": [
    {
     "data": {
      "text/plain": [
       "2"
      ]
     },
     "execution_count": 54,
     "metadata": {},
     "output_type": "execute_result"
    }
   ],
   "source": [
    "a = fourCal()\n",
    "b = fourCal()\n",
    "a.setdata(4, 2)\n",
    "b.setdata(3, 8)\n",
    "\n",
    "a.add()\n",
    "a.mul()\n",
    "b.add()\n",
    "b.sub()\n",
    "\n",
    "a.first\n",
    "a.second"
   ]
  },
  {
   "cell_type": "code",
   "execution_count": 1,
   "id": "ade60df9",
   "metadata": {},
   "outputs": [],
   "source": [
    "class fourCal:\n",
    "    def __init__(self, first, second):\n",
    "        self.first = first\n",
    "        self.second = second  \n",
    "\n",
    "    def setdata(self, first, second): #메서드의 매개변수\n",
    "        self.first = first #메서드의 수행문\n",
    "        self.second = second #메서드의 수행문\n",
    "        \n",
    "    def add(self):\n",
    "        result = self.first + self.second\n",
    "        return result\n",
    "    \n",
    "    def mul(self):\n",
    "        result = self.first * self.second\n",
    "        return result\n",
    "    \n",
    "    def sub(self):\n",
    "        result = self.first - self.second\n",
    "        return result\n",
    "    \n",
    "    def div(self):\n",
    "        result = self.first / self.second\n",
    "        return result"
   ]
  },
  {
   "cell_type": "code",
   "execution_count": 2,
   "id": "db87c40a",
   "metadata": {},
   "outputs": [],
   "source": [
    "class MoreFourCal(fourCal):\n",
    "    pass"
   ]
  },
  {
   "cell_type": "code",
   "execution_count": 3,
   "id": "3cff8b3f",
   "metadata": {},
   "outputs": [
    {
     "data": {
      "text/plain": [
       "2.0"
      ]
     },
     "execution_count": 3,
     "metadata": {},
     "output_type": "execute_result"
    }
   ],
   "source": [
    "a = MoreFourCal(4, 2)\n",
    "a.add()\n",
    "a.mul()\n",
    "a.sub()\n",
    "a.div()"
   ]
  },
  {
   "cell_type": "code",
   "execution_count": 5,
   "id": "bf1fee5a",
   "metadata": {},
   "outputs": [],
   "source": [
    "class MoreFourCal(fourCal):\n",
    "    def pow(self):\n",
    "        result = self.first ** self.second\n",
    "        return result"
   ]
  },
  {
   "cell_type": "code",
   "execution_count": 6,
   "id": "74453a05",
   "metadata": {
    "scrolled": true
   },
   "outputs": [
    {
     "data": {
      "text/plain": [
       "16"
      ]
     },
     "execution_count": 6,
     "metadata": {},
     "output_type": "execute_result"
    }
   ],
   "source": [
    "a = MoreFourCal(4, 2)\n",
    "a.pow()"
   ]
  },
  {
   "cell_type": "code",
   "execution_count": 8,
   "id": "9d20b2d4",
   "metadata": {},
   "outputs": [
    {
     "ename": "ZeroDivisionError",
     "evalue": "division by zero",
     "output_type": "error",
     "traceback": [
      "\u001b[1;31m---------------------------------------------------------------------------\u001b[0m",
      "\u001b[1;31mZeroDivisionError\u001b[0m                         Traceback (most recent call last)",
      "Cell \u001b[1;32mIn[8], line 3\u001b[0m\n\u001b[0;32m      1\u001b[0m \u001b[38;5;66;03m#메서드 오버라이딩 = 덮어쓰기\u001b[39;00m\n\u001b[0;32m      2\u001b[0m a \u001b[38;5;241m=\u001b[39m fourCal(\u001b[38;5;241m4\u001b[39m, \u001b[38;5;241m0\u001b[39m)\n\u001b[1;32m----> 3\u001b[0m a\u001b[38;5;241m.\u001b[39mdiv()\n",
      "Cell \u001b[1;32mIn[1], line 23\u001b[0m, in \u001b[0;36mfourCal.div\u001b[1;34m(self)\u001b[0m\n\u001b[0;32m     22\u001b[0m \u001b[38;5;28;01mdef\u001b[39;00m \u001b[38;5;21mdiv\u001b[39m(\u001b[38;5;28mself\u001b[39m):\n\u001b[1;32m---> 23\u001b[0m     result \u001b[38;5;241m=\u001b[39m \u001b[38;5;28mself\u001b[39m\u001b[38;5;241m.\u001b[39mfirst \u001b[38;5;241m/\u001b[39m \u001b[38;5;28mself\u001b[39m\u001b[38;5;241m.\u001b[39msecond\n\u001b[0;32m     24\u001b[0m     \u001b[38;5;28;01mreturn\u001b[39;00m result\n",
      "\u001b[1;31mZeroDivisionError\u001b[0m: division by zero"
     ]
    }
   ],
   "source": [
    "#메서드 오버라이딩 = 덮어쓰기\n",
    "a = fourCal(4, 0)\n",
    "a.div()"
   ]
  },
  {
   "cell_type": "code",
   "execution_count": 9,
   "id": "0826e06f",
   "metadata": {},
   "outputs": [],
   "source": [
    "class SafeF_cal(fourCal):\n",
    "    def div(self):\n",
    "        if self.second == 0:\n",
    "            return 0\n",
    "        else:\n",
    "            return self.first / self.second"
   ]
  },
  {
   "cell_type": "code",
   "execution_count": 11,
   "id": "34e11448",
   "metadata": {},
   "outputs": [
    {
     "data": {
      "text/plain": [
       "0"
      ]
     },
     "execution_count": 11,
     "metadata": {},
     "output_type": "execute_result"
    }
   ],
   "source": [
    "a = SafeF_cal(4, 0)\n",
    "a.div()"
   ]
  },
  {
   "cell_type": "code",
   "execution_count": 14,
   "id": "d0eca230",
   "metadata": {},
   "outputs": [
    {
     "ename": "AttributeError",
     "evalue": "'SafeF_cal' object has no attribute 'pow'",
     "output_type": "error",
     "traceback": [
      "\u001b[1;31m---------------------------------------------------------------------------\u001b[0m",
      "\u001b[1;31mAttributeError\u001b[0m                            Traceback (most recent call last)",
      "Cell \u001b[1;32mIn[14], line 2\u001b[0m\n\u001b[0;32m      1\u001b[0m a \u001b[38;5;241m=\u001b[39m SafeF_cal(\u001b[38;5;241m4\u001b[39m, \u001b[38;5;241m1\u001b[39m)\n\u001b[1;32m----> 2\u001b[0m a\u001b[38;5;241m.\u001b[39mpow()\n",
      "\u001b[1;31mAttributeError\u001b[0m: 'SafeF_cal' object has no attribute 'pow'"
     ]
    }
   ],
   "source": [
    "a = SafeF_cal(4, 1)\n",
    "a.pow()"
   ]
  },
  {
   "cell_type": "code",
   "execution_count": 15,
   "id": "480f3df6",
   "metadata": {},
   "outputs": [],
   "source": [
    "#클래스변수\n",
    "class Family:\n",
    "    lastname = \"김\""
   ]
  },
  {
   "cell_type": "code",
   "execution_count": 16,
   "id": "2f99f509",
   "metadata": {},
   "outputs": [
    {
     "data": {
      "text/plain": [
       "'김'"
      ]
     },
     "execution_count": 16,
     "metadata": {},
     "output_type": "execute_result"
    }
   ],
   "source": [
    "a = Family()\n",
    "b = Family()\n",
    "a.lastname"
   ]
  },
  {
   "cell_type": "code",
   "execution_count": 17,
   "id": "8f997600",
   "metadata": {},
   "outputs": [
    {
     "data": {
      "text/plain": [
       "'김'"
      ]
     },
     "execution_count": 17,
     "metadata": {},
     "output_type": "execute_result"
    }
   ],
   "source": [
    "b.lastname"
   ]
  },
  {
   "cell_type": "code",
   "execution_count": 18,
   "id": "2112439c",
   "metadata": {},
   "outputs": [
    {
     "data": {
      "text/plain": [
       "'최'"
      ]
     },
     "execution_count": 18,
     "metadata": {},
     "output_type": "execute_result"
    }
   ],
   "source": [
    "a.lastname = \"최\"\n",
    "a.lastname"
   ]
  },
  {
   "cell_type": "code",
   "execution_count": 20,
   "id": "f6860469",
   "metadata": {},
   "outputs": [
    {
     "data": {
      "text/plain": [
       "'김'"
      ]
     },
     "execution_count": 20,
     "metadata": {},
     "output_type": "execute_result"
    }
   ],
   "source": [
    "Family.lastname"
   ]
  },
  {
   "cell_type": "markdown",
   "id": "d59b8698",
   "metadata": {},
   "source": [
    "## 예제) 은행 예금출금 클래스를 만들어보자\n",
    "input : 계좌번호, 계좌소유자명, 잔액\n",
    "기능1 : 입금 -> 금액 더하기\n",
    "기능2 : 출금 -> 금액 빼기\n",
    "기능3 : 조회 -> 전체 금액 보여주기\n"
   ]
  },
  {
   "cell_type": "code",
   "execution_count": null,
   "id": "f3ecfd57",
   "metadata": {},
   "outputs": [],
   "source": [
    "\n",
    "class account:\n",
    "    def __init__(self, no, name):\n",
    "        self.no = no\n",
    "        self.name = name  \n",
    "        deposit = 0\n",
    "    \n",
    "    def deposit(money):\n",
    "        result = deposit + money\n",
    "        return result\n",
    "    \n",
    "    def withdarw(money):\n",
    "        result = deposit - money\n",
    "        return result\n",
    "    \n",
    "    def "
   ]
  },
  {
   "cell_type": "markdown",
   "id": "564bc6d7",
   "metadata": {},
   "source": [
    "## 예외처리"
   ]
  },
  {
   "cell_type": "code",
   "execution_count": 21,
   "id": "1b2c49d3",
   "metadata": {},
   "outputs": [
    {
     "name": "stdout",
     "output_type": "stream",
     "text": [
      "division by zero\n"
     ]
    }
   ],
   "source": [
    "try:\n",
    "    4 / 0\n",
    "except ZeroDivisionError as e:\n",
    "    print(e)"
   ]
  },
  {
   "cell_type": "code",
   "execution_count": 22,
   "id": "2485cc6e",
   "metadata": {},
   "outputs": [
    {
     "name": "stdout",
     "output_type": "stream",
     "text": [
      "인덱싱 할 수 없습니다.\n"
     ]
    }
   ],
   "source": [
    "try:\n",
    "    a = [1,2]\n",
    "    print(a[3])\n",
    "    4/0\n",
    "except ZeroDivisionError:\n",
    "    print(\"0으로 나눌 수 없습니다.\")\n",
    "except IndexError:\n",
    "    print(\"인덱싱 할 수 없습니다.\")"
   ]
  },
  {
   "cell_type": "code",
   "execution_count": 24,
   "id": "86a3aa49",
   "metadata": {},
   "outputs": [
    {
     "name": "stdout",
     "output_type": "stream",
     "text": [
      "list index out of range\n"
     ]
    }
   ],
   "source": [
    "try:\n",
    "    a = [1,2]\n",
    "    print(a[3])\n",
    "    4/0\n",
    "except (ZeroDivisionError, IndexError) as e:\n",
    "    print(e)"
   ]
  },
  {
   "cell_type": "code",
   "execution_count": 27,
   "id": "4d5fb004",
   "metadata": {},
   "outputs": [
    {
     "name": "stdout",
     "output_type": "stream",
     "text": [
      "나이를 입력하세요: 20\n",
      "환영합니다.\n"
     ]
    }
   ],
   "source": [
    "try:\n",
    "    age=int(input('나이를 입력하세요: '))\n",
    "except:\n",
    "    print('입력이 정확하지 않습니다.')\n",
    "else:\n",
    "    if age <= 18:\n",
    "        print('미성년자는 출입금지입니다.')\n",
    "    else:\n",
    "        print('환영합니다.')"
   ]
  },
  {
   "cell_type": "code",
   "execution_count": 28,
   "id": "d89e4c1f",
   "metadata": {},
   "outputs": [],
   "source": [
    "#오류회피\n",
    "try:\n",
    "    f = open(\"나없는파일\", 'r')\n",
    "except FileNotFoundError:\n",
    "    pass"
   ]
  },
  {
   "cell_type": "markdown",
   "id": "0843fe2c",
   "metadata": {},
   "source": [
    "## 내장 함수"
   ]
  },
  {
   "cell_type": "markdown",
   "id": "7d9678f2",
   "metadata": {},
   "source": [
    "filter와 map 정말 많이 쓴다~~ 외워두자!\n",
    "filter -> 참인것만 걸러서 적용 (조건)\n",
    "map -> 전체 적용"
   ]
  },
  {
   "cell_type": "code",
   "execution_count": 29,
   "id": "dc1f3170",
   "metadata": {},
   "outputs": [
    {
     "name": "stdout",
     "output_type": "stream",
     "text": [
      "[2, 4, 6, 8]\n"
     ]
    }
   ],
   "source": [
    "def two_times(numberList):\n",
    "    result = []\n",
    "    for number in numberList:\n",
    "        result.append(number*2)\n",
    "    return result\n",
    "\n",
    "result = two_times([1,2,3,4])\n",
    "print(result)"
   ]
  },
  {
   "cell_type": "code",
   "execution_count": 30,
   "id": "44c2e1be",
   "metadata": {},
   "outputs": [
    {
     "data": {
      "text/plain": [
       "[2, 4, 6, 8]"
      ]
     },
     "execution_count": 30,
     "metadata": {},
     "output_type": "execute_result"
    }
   ],
   "source": [
    "def two_times(x):\n",
    "    return x*2\n",
    "\n",
    "list(map(two_times,[1,2,3,4]))"
   ]
  },
  {
   "cell_type": "code",
   "execution_count": 31,
   "id": "cf1142a3",
   "metadata": {},
   "outputs": [
    {
     "data": {
      "text/plain": [
       "[2, 4, 6, 8]"
      ]
     },
     "execution_count": 31,
     "metadata": {},
     "output_type": "execute_result"
    }
   ],
   "source": [
    "list(map(lambda a: a*2, [1, 2, 3, 4]))"
   ]
  },
  {
   "cell_type": "code",
   "execution_count": null,
   "id": "74ad7d83",
   "metadata": {},
   "outputs": [],
   "source": []
  }
 ],
 "metadata": {
  "kernelspec": {
   "display_name": "Python 3 (ipykernel)",
   "language": "python",
   "name": "python3"
  },
  "language_info": {
   "codemirror_mode": {
    "name": "ipython",
    "version": 3
   },
   "file_extension": ".py",
   "mimetype": "text/x-python",
   "name": "python",
   "nbconvert_exporter": "python",
   "pygments_lexer": "ipython3",
   "version": "3.11.5"
  }
 },
 "nbformat": 4,
 "nbformat_minor": 5
}
