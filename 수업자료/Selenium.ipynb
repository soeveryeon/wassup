{
 "cells": [
  {
   "cell_type": "code",
   "execution_count": 1,
   "id": "69c27e75",
   "metadata": {},
   "outputs": [
    {
     "name": "stdout",
     "output_type": "stream",
     "text": [
      "Collecting selenium\n",
      "  Obtaining dependency information for selenium from https://files.pythonhosted.org/packages/dc/72/96b5afa16908f9abc7c24b70adfd3a46c9740eb728ddfeab28379e38eaf9/selenium-4.16.0-py3-none-any.whl.metadata\n",
      "  Downloading selenium-4.16.0-py3-none-any.whl.metadata (6.9 kB)\n",
      "Requirement already satisfied: urllib3[socks]<3,>=1.26 in c:\\users\\soyeon\\anaconda3\\lib\\site-packages (from selenium) (1.26.16)\n",
      "Collecting trio~=0.17 (from selenium)\n",
      "  Obtaining dependency information for trio~=0.17 from https://files.pythonhosted.org/packages/39/46/620fbe56f41fa3ccdda2136d947fb9bacce3d1eb163f057f0262a0ddf5e0/trio-0.23.1-py3-none-any.whl.metadata\n",
      "  Downloading trio-0.23.1-py3-none-any.whl.metadata (4.9 kB)\n",
      "Collecting trio-websocket~=0.9 (from selenium)\n",
      "  Obtaining dependency information for trio-websocket~=0.9 from https://files.pythonhosted.org/packages/48/be/a9ae5f50cad5b6f85bd2574c2c923730098530096e170c1ce7452394d7aa/trio_websocket-0.11.1-py3-none-any.whl.metadata\n",
      "  Downloading trio_websocket-0.11.1-py3-none-any.whl.metadata (4.7 kB)\n",
      "Requirement already satisfied: certifi>=2021.10.8 in c:\\users\\soyeon\\anaconda3\\lib\\site-packages (from selenium) (2023.7.22)\n",
      "Requirement already satisfied: attrs>=20.1.0 in c:\\users\\soyeon\\anaconda3\\lib\\site-packages (from trio~=0.17->selenium) (22.1.0)\n",
      "Requirement already satisfied: sortedcontainers in c:\\users\\soyeon\\anaconda3\\lib\\site-packages (from trio~=0.17->selenium) (2.4.0)\n",
      "Requirement already satisfied: idna in c:\\users\\soyeon\\anaconda3\\lib\\site-packages (from trio~=0.17->selenium) (3.4)\n",
      "Collecting outcome (from trio~=0.17->selenium)\n",
      "  Obtaining dependency information for outcome from https://files.pythonhosted.org/packages/55/8b/5ab7257531a5d830fc8000c476e63c935488d74609b50f9384a643ec0a62/outcome-1.3.0.post0-py2.py3-none-any.whl.metadata\n",
      "  Downloading outcome-1.3.0.post0-py2.py3-none-any.whl.metadata (2.6 kB)\n",
      "Collecting sniffio>=1.3.0 (from trio~=0.17->selenium)\n",
      "  Downloading sniffio-1.3.0-py3-none-any.whl (10 kB)\n",
      "Requirement already satisfied: cffi>=1.14 in c:\\users\\soyeon\\anaconda3\\lib\\site-packages (from trio~=0.17->selenium) (1.15.1)\n",
      "Collecting wsproto>=0.14 (from trio-websocket~=0.9->selenium)\n",
      "  Downloading wsproto-1.2.0-py3-none-any.whl (24 kB)\n",
      "Requirement already satisfied: PySocks!=1.5.7,<2.0,>=1.5.6 in c:\\users\\soyeon\\anaconda3\\lib\\site-packages (from urllib3[socks]<3,>=1.26->selenium) (1.7.1)\n",
      "Requirement already satisfied: pycparser in c:\\users\\soyeon\\anaconda3\\lib\\site-packages (from cffi>=1.14->trio~=0.17->selenium) (2.21)\n",
      "Collecting h11<1,>=0.9.0 (from wsproto>=0.14->trio-websocket~=0.9->selenium)\n",
      "  Downloading h11-0.14.0-py3-none-any.whl (58 kB)\n",
      "     ---------------------------------------- 0.0/58.3 kB ? eta -:--:--\n",
      "     ---------------------------------------- 58.3/58.3 kB 3.0 MB/s eta 0:00:00\n",
      "Downloading selenium-4.16.0-py3-none-any.whl (10.0 MB)\n",
      "   ---------------------------------------- 0.0/10.0 MB ? eta -:--:--\n",
      "   - -------------------------------------- 0.3/10.0 MB 8.6 MB/s eta 0:00:02\n",
      "   -- ------------------------------------- 0.6/10.0 MB 8.1 MB/s eta 0:00:02\n",
      "   ---- ----------------------------------- 1.0/10.0 MB 7.9 MB/s eta 0:00:02\n",
      "   ----- ---------------------------------- 1.3/10.0 MB 7.6 MB/s eta 0:00:02\n",
      "   ------ --------------------------------- 1.6/10.0 MB 7.3 MB/s eta 0:00:02\n",
      "   ------- -------------------------------- 1.9/10.0 MB 7.2 MB/s eta 0:00:02\n",
      "   --------- ------------------------------ 2.3/10.0 MB 7.3 MB/s eta 0:00:02\n",
      "   ---------- ----------------------------- 2.6/10.0 MB 7.3 MB/s eta 0:00:02\n",
      "   ----------- ---------------------------- 3.0/10.0 MB 7.3 MB/s eta 0:00:01\n",
      "   ------------- -------------------------- 3.3/10.0 MB 7.2 MB/s eta 0:00:01\n",
      "   -------------- ------------------------- 3.6/10.0 MB 7.1 MB/s eta 0:00:01\n",
      "   --------------- ------------------------ 3.9/10.0 MB 7.1 MB/s eta 0:00:01\n",
      "   ----------------- ---------------------- 4.3/10.0 MB 7.2 MB/s eta 0:00:01\n",
      "   ------------------ --------------------- 4.6/10.0 MB 7.1 MB/s eta 0:00:01\n",
      "   ------------------- -------------------- 4.8/10.0 MB 7.2 MB/s eta 0:00:01\n",
      "   -------------------- ------------------- 5.2/10.0 MB 7.2 MB/s eta 0:00:01\n",
      "   ---------------------- ----------------- 5.5/10.0 MB 7.2 MB/s eta 0:00:01\n",
      "   ----------------------- ---------------- 5.8/10.0 MB 7.1 MB/s eta 0:00:01\n",
      "   ------------------------ --------------- 6.1/10.0 MB 7.1 MB/s eta 0:00:01\n",
      "   ------------------------- -------------- 6.4/10.0 MB 7.1 MB/s eta 0:00:01\n",
      "   --------------------------- ------------ 6.8/10.0 MB 7.1 MB/s eta 0:00:01\n",
      "   ---------------------------- ----------- 7.1/10.0 MB 7.1 MB/s eta 0:00:01\n",
      "   ----------------------------- ---------- 7.3/10.0 MB 7.1 MB/s eta 0:00:01\n",
      "   ------------------------------ --------- 7.6/10.0 MB 6.9 MB/s eta 0:00:01\n",
      "   ------------------------------- -------- 7.9/10.0 MB 7.0 MB/s eta 0:00:01\n",
      "   --------------------------------- ------ 8.3/10.0 MB 7.0 MB/s eta 0:00:01\n",
      "   ---------------------------------- ----- 8.6/10.0 MB 6.9 MB/s eta 0:00:01\n",
      "   ----------------------------------- ---- 8.8/10.0 MB 7.0 MB/s eta 0:00:01\n",
      "   ------------------------------------ --- 9.1/10.0 MB 6.8 MB/s eta 0:00:01\n",
      "   ------------------------------------- -- 9.4/10.0 MB 6.9 MB/s eta 0:00:01\n",
      "   ---------------------------------------  9.7/10.0 MB 6.9 MB/s eta 0:00:01\n",
      "   ---------------------------------------  10.0/10.0 MB 6.8 MB/s eta 0:00:01\n",
      "   ---------------------------------------- 10.0/10.0 MB 6.6 MB/s eta 0:00:00\n",
      "Downloading trio-0.23.1-py3-none-any.whl (448 kB)\n",
      "   ---------------------------------------- 0.0/448.3 kB ? eta -:--:--\n",
      "   ---------- ----------------------------- 122.9/448.3 kB 3.6 MB/s eta 0:00:01\n",
      "   --------------------- ------------------ 235.5/448.3 kB 2.9 MB/s eta 0:00:01\n",
      "   ---------------------- ----------------- 256.0/448.3 kB 2.6 MB/s eta 0:00:01\n",
      "   ---------------------------------- ----- 389.1/448.3 kB 2.2 MB/s eta 0:00:01\n",
      "   ---------------------------------------- 448.3/448.3 kB 2.2 MB/s eta 0:00:00\n",
      "Downloading trio_websocket-0.11.1-py3-none-any.whl (17 kB)\n",
      "Downloading outcome-1.3.0.post0-py2.py3-none-any.whl (10 kB)\n",
      "Installing collected packages: sniffio, outcome, h11, wsproto, trio, trio-websocket, selenium\n",
      "  Attempting uninstall: sniffio\n",
      "    Found existing installation: sniffio 1.2.0\n",
      "    Uninstalling sniffio-1.2.0:\n",
      "      Successfully uninstalled sniffio-1.2.0\n",
      "Successfully installed h11-0.14.0 outcome-1.3.0.post0 selenium-4.16.0 sniffio-1.3.0 trio-0.23.1 trio-websocket-0.11.1 wsproto-1.2.0\n"
     ]
    }
   ],
   "source": [
    "!pip install selenium"
   ]
  },
  {
   "cell_type": "code",
   "execution_count": 3,
   "id": "723ce7f9",
   "metadata": {},
   "outputs": [],
   "source": [
    "from selenium import webdriver\n",
    "from selenium.webdriver.common.by import By\n",
    "from selenium.webdriver.chrome.options import Options\n",
    "import time\n",
    "\n",
    "options = Options()\n",
    "# options.add_argument(\"--start-maximized\")\n",
    "# options.add_argument(\"--headless=new\") \n",
    "options.add_experimental_option(\"detach\", True) \n",
    "#특정함수안에서  드라이버 생성시 함수종료될 때 브라우저 같이 종료되는 문제 대응"
   ]
  },
  {
   "cell_type": "code",
   "execution_count": 5,
   "id": "88668520",
   "metadata": {},
   "outputs": [],
   "source": [
    "url= 'http://naver.com'\n",
    "driver = webdriver.Chrome(options=options)\n",
    "driver.get(url)\n",
    "time.sleep(2)"
   ]
  },
  {
   "cell_type": "code",
   "execution_count": 6,
   "id": "73d7d1b5",
   "metadata": {},
   "outputs": [],
   "source": [
    "driver.back()"
   ]
  },
  {
   "cell_type": "code",
   "execution_count": 7,
   "id": "38961c2c",
   "metadata": {},
   "outputs": [],
   "source": [
    "driver.forward()"
   ]
  },
  {
   "cell_type": "code",
   "execution_count": 8,
   "id": "cc4cec38",
   "metadata": {},
   "outputs": [],
   "source": [
    "driver.refresh()"
   ]
  },
  {
   "cell_type": "code",
   "execution_count": 9,
   "id": "dadbcefc",
   "metadata": {},
   "outputs": [
    {
     "name": "stdout",
     "output_type": "stream",
     "text": [
      "NAVER https://www.naver.com/ DE7E3114F7A1EC501A70F8CC350A04B1\n"
     ]
    }
   ],
   "source": [
    "title = driver.title\n",
    "url = driver.current_url\n",
    "handle = driver.current_window_handle\n",
    "print(title, url, handle)"
   ]
  },
  {
   "cell_type": "markdown",
   "id": "236c0a17",
   "metadata": {},
   "source": [
    "NAVER https://www.naver.com/ \n",
    "DE7E3114F7A1EC501A70F8CC350A04B1 <- 브라우저의 아이디, 여러개 띄울 수 있음, 창마다 아이디 부여"
   ]
  },
  {
   "cell_type": "code",
   "execution_count": 10,
   "id": "61d827fe",
   "metadata": {},
   "outputs": [],
   "source": [
    "driver.find_element?"
   ]
  },
  {
   "cell_type": "code",
   "execution_count": 11,
   "id": "e9e01e2f",
   "metadata": {},
   "outputs": [
    {
     "data": {
      "text/plain": [
       "<selenium.webdriver.remote.webelement.WebElement (session=\"b8973d2749cecf18f4f53b6d799429dd\", element=\"BEF2071DDD893465B06B599168D20ECA_element_1098\")>"
      ]
     },
     "execution_count": 11,
     "metadata": {},
     "output_type": "execute_result"
    }
   ],
   "source": [
    "driver.find_element(By.ID, \"query\")"
   ]
  },
  {
   "cell_type": "code",
   "execution_count": 12,
   "id": "613a4a02",
   "metadata": {},
   "outputs": [],
   "source": [
    "driver.find_element(By.ID, \"query\").send_keys('푸꾸옥')"
   ]
  },
  {
   "cell_type": "code",
   "execution_count": 14,
   "id": "0ab78e33",
   "metadata": {},
   "outputs": [],
   "source": [
    "driver.find_element(By.CLASS_NAME, \"search_input\").send_keys('나트랑')"
   ]
  },
  {
   "cell_type": "code",
   "execution_count": 15,
   "id": "6a8ead0c",
   "metadata": {},
   "outputs": [],
   "source": [
    "driver.find_element(By.CSS_SELECTOR, \".search_input\").send_keys('하노이')"
   ]
  },
  {
   "cell_type": "code",
   "execution_count": 16,
   "id": "b95ca1fe",
   "metadata": {},
   "outputs": [],
   "source": [
    "driver.find_element(By.CSS_SELECTOR, \"[title='검색어를 입력해 주세요.']\").send_keys('트와이스')"
   ]
  },
  {
   "cell_type": "code",
   "execution_count": 17,
   "id": "21723589",
   "metadata": {},
   "outputs": [],
   "source": [
    "driver.find_element(By.CSS_SELECTOR, \"[placeholder='검색어를 입력해 주세요.']\").send_keys('베트남')"
   ]
  },
  {
   "cell_type": "code",
   "execution_count": 22,
   "id": "fa96b99e",
   "metadata": {},
   "outputs": [],
   "source": [
    "driver.find_element(By.XPATH , \"//*[@id='query']\").send_keys('BTS')"
   ]
  },
  {
   "cell_type": "markdown",
   "id": "ecfa6311",
   "metadata": {},
   "source": [
    "* XPATH - 경로를 위해 만들어진 구문\n",
    "* CSS셀렉터 - 관계지향 -> 스타일을 위해 만들어짐\n",
    "\n",
    "//*[@id='query'] <상대경로"
   ]
  },
  {
   "cell_type": "code",
   "execution_count": 26,
   "id": "8d4f62f5",
   "metadata": {},
   "outputs": [],
   "source": [
    "driver.find_element(By.LINK_TEXT, '쇼핑').click()"
   ]
  },
  {
   "cell_type": "markdown",
   "id": "c79eaf68",
   "metadata": {},
   "source": [
    ".LINK_TEXT - 특정텍스트를 가지고 있는 페이지를 찾아줘~"
   ]
  },
  {
   "cell_type": "code",
   "execution_count": 27,
   "id": "b17dd006",
   "metadata": {},
   "outputs": [],
   "source": [
    "links = driver.find_elements(By.CSS_SELECTOR, '.link_service')"
   ]
  },
  {
   "cell_type": "code",
   "execution_count": 28,
   "id": "a0a39ade",
   "metadata": {},
   "outputs": [
    {
     "name": "stdout",
     "output_type": "stream",
     "text": [
      "<a href=\"https://mail.naver.com\" class=\"link_service\" target=\"_blank\"><span class=\"service_icon type_mail\"></span><span class=\"service_name\">메일</span></a>\n",
      "\n",
      "<a href=\"https://cafe.naver.com\" class=\"link_service\" target=\"_blank\"><span class=\"service_icon type_cafe\"></span><span class=\"service_name\">카페</span></a>\n",
      "\n",
      "<a href=\"https://blog.naver.com\" class=\"link_service\" target=\"_blank\"><span class=\"service_icon type_blog\"></span><span class=\"service_name\">블로그</span></a>\n",
      "\n",
      "<a href=\"https://shopping.naver.com/home\" class=\"link_service\" target=\"_blank\"><span class=\"service_icon type_shopping\"></span><span class=\"service_name\">쇼핑</span></a>\n",
      "\n",
      "<a href=\"https://news.naver.com/\" class=\"link_service\" target=\"_blank\"><span class=\"service_icon type_news\"></span><span class=\"service_name\">뉴스</span></a>\n",
      "\n",
      "<a href=\"https://finance.naver.com/\" class=\"link_service\" target=\"_blank\"><span class=\"service_icon type_stock\"></span><span class=\"service_name\">증권</span></a>\n",
      "\n",
      "<a href=\"https://land.naver.com/\" class=\"link_service\" target=\"_blank\"><span class=\"service_icon type_real\"></span><span class=\"service_name\">부동산</span></a>\n",
      "\n",
      "<a href=\"https://map.naver.com\" class=\"link_service\" target=\"_blank\"><span class=\"service_icon type_map\"></span><span class=\"service_name\">지도</span></a>\n",
      "\n",
      "<a href=\"https://comic.naver.com\" class=\"link_service\" target=\"_blank\"><span class=\"service_icon type_webtoon\"></span><span class=\"service_name\">웹툰</span></a>\n",
      "\n",
      "<a href=\"#\" class=\"link_service\" role=\"button\"><span class=\"service_icon type_more\"></span><span class=\"blind\">바로가기 펼침</span></a>\n",
      "\n"
     ]
    }
   ],
   "source": [
    "for link in links:\n",
    "    print(link.get_attribute(\"outerHTML\"))\n",
    "    print()"
   ]
  },
  {
   "cell_type": "code",
   "execution_count": 29,
   "id": "4603b190",
   "metadata": {},
   "outputs": [],
   "source": [
    "url = 'file:///C:\\workspace\\wassup\\수업자료\\sample\\signin.html'\n",
    "driver = webdriver.Chrome(options=options)\n",
    "driver.get(url)\n",
    "time.sleep(2)"
   ]
  },
  {
   "cell_type": "code",
   "execution_count": 30,
   "id": "46ff771a",
   "metadata": {},
   "outputs": [],
   "source": [
    "username = driver.find_element(By.NAME, \"username\")\n",
    "username.send_keys('korea')"
   ]
  },
  {
   "cell_type": "code",
   "execution_count": 40,
   "id": "431e5b0d",
   "metadata": {},
   "outputs": [],
   "source": [
    "username = driver.find_element(By.NAME, \"password\")\n",
    "username.send_keys('1004')"
   ]
  },
  {
   "cell_type": "code",
   "execution_count": 43,
   "id": "223b82bc",
   "metadata": {},
   "outputs": [],
   "source": [
    "driver.find_element(By.XPATH, '//*[@id=\"loginForm\"]/input[3]').click()"
   ]
  },
  {
   "cell_type": "code",
   "execution_count": 44,
   "id": "fcffd372",
   "metadata": {},
   "outputs": [],
   "source": [
    "driver.back()"
   ]
  },
  {
   "cell_type": "code",
   "execution_count": 45,
   "id": "332025e7",
   "metadata": {},
   "outputs": [],
   "source": [
    "driver.find_element(By.NAME, \"username\").clear()"
   ]
  },
  {
   "cell_type": "code",
   "execution_count": 47,
   "id": "90ac4624",
   "metadata": {},
   "outputs": [
    {
     "data": {
      "text/plain": [
       "'Are you sure you want to do this?'"
      ]
     },
     "execution_count": 47,
     "metadata": {},
     "output_type": "execute_result"
    }
   ],
   "source": [
    "driver.find_element(By.TAG_NAME, 'p').text"
   ]
  },
  {
   "cell_type": "code",
   "execution_count": 48,
   "id": "ef8860c1",
   "metadata": {},
   "outputs": [
    {
     "data": {
      "text/plain": [
       "'<html><head></head><body>\\n        <h1> Sign In </h1>\\n        <form action=\"moved.html\" id=\"loginForm\">\\n            ID : <input name=\"username\" type=\"text\"> <br>\\n            Password : <input name=\"password\" type=\"password\"> <br>\\n\\n            <input name=\"continue\" type=\"submit\" value=\"Login\">\\n            <input name=\"continue\" type=\"button\" value=\"Clear\">\\n        \\n        </form>\\n\\n        <p>Are you sure you want to do this?</p>\\n        <a href=\"continue.html\">Continue</a>\\n        <a href=\"cancel.html\">Cancel</a>\\n\\n        <h1>Welcome</h1>\\n        <p>Site content goes here.</p>\\n        <p class=\"content\">Site content goes here.</p>\\n    \\n</body></html>'"
      ]
     },
     "execution_count": 48,
     "metadata": {},
     "output_type": "execute_result"
    }
   ],
   "source": [
    "driver.page_source"
   ]
  },
  {
   "cell_type": "code",
   "execution_count": 49,
   "id": "b1a83322",
   "metadata": {},
   "outputs": [],
   "source": [
    "driver.close()"
   ]
  },
  {
   "cell_type": "code",
   "execution_count": 50,
   "id": "131d9d98",
   "metadata": {},
   "outputs": [],
   "source": [
    "from selenium import webdriver\n",
    "from selenium.webdriver.common.by import By\n",
    "from selenium.webdriver.chrome.options import Options\n",
    "import time\n",
    "\n",
    "options = Options()\n",
    "options.add_argument(\"--headless=new\") \n",
    "# options.add_argument('--window-size= x, y') #실행되는 브라우저 크기를 지정할 수 있습니다.\n",
    "# options.add_argument('--start-maximized') #브라우저가 최대화된 상태로 실행됩니다.\n",
    "# options.add_argument('--start-fullscreen') #브라우저가 풀스크린 모드(F11)로 실행됩니다.\n",
    "# options.add_argument('--blink-settings=imagesEnabled=false') #브라우저에서 이미지 로딩을 하지 않습니다.\n",
    "# options.add_argument('--mute-audio') #브라우저에 음소거 옵션을 적용합니다.\n",
    "# options.add_argument('incognito') #시크릿 모드의 브라우저가 실행됩니다.\n",
    "options.add_experimental_option(\"detach\", True) #특정함수안에서  드라이버 생성시 함수종료될 때 브라우저 같이 종료되는 문제 대응"
   ]
  },
  {
   "cell_type": "code",
   "execution_count": 51,
   "id": "0878f432",
   "metadata": {},
   "outputs": [],
   "source": [
    "url = 'http://naver.com'\n",
    "driver = webdriver.Chrome(options=options)\n",
    "driver.get(url)\n",
    "time.sleep(2)"
   ]
  },
  {
   "cell_type": "code",
   "execution_count": 52,
   "id": "c152113e",
   "metadata": {},
   "outputs": [
    {
     "name": "stdout",
     "output_type": "stream",
     "text": [
      "NAVER\n"
     ]
    }
   ],
   "source": [
    "print(driver.title)"
   ]
  },
  {
   "cell_type": "code",
   "execution_count": 53,
   "id": "d7ff65aa",
   "metadata": {},
   "outputs": [],
   "source": [
    "driver.quit()"
   ]
  },
  {
   "cell_type": "markdown",
   "id": "08b3a430",
   "metadata": {},
   "source": [
    "# 윈도우 컨트롤"
   ]
  },
  {
   "cell_type": "code",
   "execution_count": 54,
   "id": "4eebc9f1",
   "metadata": {},
   "outputs": [],
   "source": [
    "from selenium import webdriver\n",
    "from selenium.webdriver.common.by import By\n",
    "from selenium.webdriver.chrome.options import Options\n",
    "import time\n",
    "\n",
    "options = Options()\n",
    "# options.add_argument(\"--start-maximized\")\n",
    "# options.add_argument(\"--headless=new\") \n",
    "options.add_experimental_option(\"detach\", True) #\n",
    "\n",
    "url = 'http://naver.com'\n",
    "driver = webdriver.Chrome(options=options)\n",
    "driver.get(url)\n",
    "time.sleep(2)"
   ]
  },
  {
   "cell_type": "code",
   "execution_count": 55,
   "id": "db720870",
   "metadata": {},
   "outputs": [
    {
     "name": "stdout",
     "output_type": "stream",
     "text": [
      "854px 999px\n"
     ]
    }
   ],
   "source": [
    "size = driver.get_window_size()\n",
    "width = size.get(\"width\")\n",
    "height = size.get(\"height\")\n",
    "\n",
    "print(str(width)+\"px\", str(height)+\"px\")"
   ]
  },
  {
   "cell_type": "code",
   "execution_count": 56,
   "id": "f58be620",
   "metadata": {},
   "outputs": [],
   "source": [
    "driver.set_window_size(800, 600)"
   ]
  },
  {
   "cell_type": "code",
   "execution_count": 57,
   "id": "0d369147",
   "metadata": {},
   "outputs": [
    {
     "data": {
      "text/plain": [
       "{'width': 800, 'height': 600}"
      ]
     },
     "execution_count": 57,
     "metadata": {},
     "output_type": "execute_result"
    }
   ],
   "source": [
    "driver.get_window_size()"
   ]
  },
  {
   "cell_type": "code",
   "execution_count": 58,
   "id": "43efad64",
   "metadata": {},
   "outputs": [
    {
     "name": "stdout",
     "output_type": "stream",
     "text": [
      "x : 1808 y : 380\n"
     ]
    }
   ],
   "source": [
    "position = driver.get_window_position()\n",
    "x = position.get('x')\n",
    "y = position.get('y')\n",
    "\n",
    "print(\"x : \"+str(x)+\" \"+\"y : \"+str(y))"
   ]
  },
  {
   "cell_type": "code",
   "execution_count": 59,
   "id": "0b01ea16",
   "metadata": {},
   "outputs": [
    {
     "data": {
      "text/plain": [
       "{'height': 900, 'width': 1200, 'x': 1000, 'y': 10}"
      ]
     },
     "execution_count": 59,
     "metadata": {},
     "output_type": "execute_result"
    }
   ],
   "source": [
    "driver.set_window_position(1000,10)"
   ]
  },
  {
   "cell_type": "code",
   "execution_count": 60,
   "id": "3d72d611",
   "metadata": {},
   "outputs": [],
   "source": [
    "driver.maximize_window()"
   ]
  },
  {
   "cell_type": "code",
   "execution_count": 61,
   "id": "9cce7709",
   "metadata": {},
   "outputs": [],
   "source": [
    "driver.minimize_window()"
   ]
  },
  {
   "cell_type": "markdown",
   "id": "2175f257",
   "metadata": {},
   "source": [
    "# 네이버뷰 정보 가져오기"
   ]
  },
  {
   "cell_type": "code",
   "execution_count": 62,
   "id": "92059137",
   "metadata": {},
   "outputs": [],
   "source": [
    "from selenium import webdriver\n",
    "from selenium.webdriver.common.by import By\n",
    "from selenium.webdriver.chrome.options import Options\n",
    "import time, random, pandas as pd\n",
    "\n",
    "options = Options()\n",
    "options.add_argument('--window-size=974,1047')\n",
    "options.add_argument('--window-position=953,0')\n",
    "options.add_experimental_option(\"detach\", True)"
   ]
  },
  {
   "cell_type": "code",
   "execution_count": 63,
   "id": "5713d981",
   "metadata": {},
   "outputs": [],
   "source": [
    "driver = webdriver.Chrome( options = options)"
   ]
  },
  {
   "cell_type": "code",
   "execution_count": 64,
   "id": "73d5b255",
   "metadata": {},
   "outputs": [],
   "source": [
    "where = 'blog'\n",
    "query = '인공지능'\n",
    "dateform = '20221020to20231020'\n",
    "url = f'https://search.naver.com/search.naver?where={where}&query={query}&sm=tab_op&nso=so:r,p:from{dateform}'\n",
    "fname = f'{where}_{query}_{dateform}'"
   ]
  },
  {
   "cell_type": "code",
   "execution_count": 65,
   "id": "f2a27942",
   "metadata": {},
   "outputs": [],
   "source": [
    "driver.get(url)\n",
    "time.sleep(random.randint(2,3))"
   ]
  },
  {
   "cell_type": "code",
   "execution_count": 66,
   "id": "e859c08c",
   "metadata": {},
   "outputs": [],
   "source": [
    "for i in range(3):\n",
    "    driver.execute_script('window.scrollTo(0, document.body.scrollHeight);')\n",
    "    time.sleep(random.randint(2, 3))"
   ]
  },
  {
   "cell_type": "code",
   "execution_count": 67,
   "id": "80e091b9",
   "metadata": {},
   "outputs": [
    {
     "name": "stdout",
     "output_type": "stream",
     "text": [
      "{'title': '엘지 휘센 인공지능스스로에어컨(FQ19P7DPAN) 누수현상 해결...', 'text': '엘지 인공지능스스로에어컨 분해방법은 해 보지 않으면 어렵고 당황스럽지만 막상 해 보면 쉽습니다. 다만 몇 가지 조심해야 할 부분이 있어 정리합니다. 먼저 엘지 휘센 인공기능스스로 에어컨의 전원 플러그는 실외기에서 공급을 받으니 실외기 쪽으로 가셔서 전원 플러글...', 'date': '2023.08.09.'}\n",
      "{'title': '로보어드바이저 수익률 비교, 인공지능 투자 성과는?', 'text': '그럼 인공지능인 로보어드바이저와 일반 펀드의 운용 성과는 어땠을까요? 2022년 펀드 운용 성과 2022년 우리나라 국민의 일반펀드 평균... 저도 그렇지만 인공지능이 운용하는 상품을 찾고 계신 분들도 의외로 많습니다. 제가 현재 가입하고 있다는 이야기를 하면 대부분의...', 'date': '2023.09.26.'}\n",
      "{'title': '[종목분석] 의료 인공지능 딥노이드 주가 전망을 살펴봅니다', 'text': '그 중에서 오늘은 인공지능 딥노이드 주가를 살펴보려고 하는데 해당 종목은 이미 많이 상승한 상태입니다. 그렇다고 버릴 수는... ▣인공지능이란 AI는 Artificial Intelligence의 약자로 인간의 지적능력을 컴퓨터를 통해 구현하는 과학기술입니다. 4차 산업혁명으로 국내 뿐만...', 'date': '2023.08.30.'}\n",
      "{'title': 'AI 인공지능 파이토치 서적으로 가볍게 시작해보죠', 'text': '인공지능이 표면적으로 한풀 꺽였다고는 하지만 관련된 서적과 툴들은 꾸준하게 발전하고 있습니다. 언어모델 개발뿐만 아니랄 이를... 10. 인공지능과 코딩 프로그래밍이라는 단어아래 후끈한 이 시장에 알고 있어야 사람을 구하고 일도 시킬 수 있어서 오늘도 공부를 해야 하네요...', 'date': '2023.10.02.'}\n",
      "{'title': 'NPU 관련주 뜻 - 인공지능 구글 텔레칩스 칩스앤미디어 주가 전망', 'text': 'NPU 관련주 뜻 - 인공지능 구글 텔레칩스 칩스앤미디어 주가 전망 NPU 뜻 NPU 는 Neural Processing Unit 의 약자로서 인간의 신경망을 따라하여 만들어진 인공신경망을 구현할 수 있는 반도체입니다. 인공지능 개발의 핵심적인 역할을 합니다. 컴퓨터의 두뇌는 CPU 로 만들어집니다....', 'date': '2023.10.09.'}\n",
      "{'title': '인공지능에 기반한 신약개발 관련 기업들에 대한 생각', 'text': '이 글에서는 그동안 단편적으로 언급했던 인공지능에 기반한 신약개발 바이오 기업들에 대한 생각을 간단히 정리하고자 합니다. 오늘... 리커전 파마슈티컬스는 보도자료를 통해 엔비디아 클라우드 서비스를 사용해 인공지능 기반 모델의 개발을 가속화할 것이라고 밝혔고...', 'date': '2023.07.13.'}\n",
      "{'title': '인공지능(AI)이 인간의 일자리를 감소시킬 것인가?', 'text': '인공지능이 인간의 일자리를 대체? 이 질문은 최근에 사람들의 관심을 끌며 치열한 논쟁을 일으키고 있습니다. ChatGPT, Bard 및 Mindjourney와... 감성지능 수준이 부족하다고 주장합니다. 일부 낙관론자들은 AI가 특정 역할에서 인간의 능력을 향상시킬 수는 있지만 대체할 수는 없다고...', 'date': '2023.07.13.'}\n",
      "{'title': '태양광 발전소 고장, 인공지능이 물샐틈없이 관리한다!', 'text': '한국에너지기술연구원 신재생시스템연구실 고석환 박사 연구진은 인공지능(AI)을 활용한 태양광 발전 고장 진단 기술을 개발했습니다. 10년 이상 태양광발전소 고장진단평가를 수행하며 수집한 I-V곡선* 정보를 데이터베이스화하고, 모델을 적용해 현장에 가지 않고도...', 'date': '2023.10.10.'}\n",
      "{'title': '인공지능 AI 스피커 삼성 갤럭시 홈미니 기능', 'text': '버들붕어입니다.^^ 이버 시간에는 인공지능 AI 스피커 삼성 갤럭시 홈미니 기능에 대해 자세하게 알아보도록 하겠습니다. 해당 제품은... 사진출처: Samsung 온라인 몰을 이용한 최저가 금액으로는 7만 원대에 AI 인공지능 스피커 구매할 수 있으며, 앞서 말한 거와 같이 MINI...', 'date': '2023.09.04.'}\n",
      "{'title': 'AI인공지능 관련주 산업의 발달은 기계가 하게되는걸까', 'text': '언젠가부터 로봇에관련된 산업들이 다시금 발전을 하고 주목을 받고있으며, 챗gdp라는 기능이 도입이 되면서 AI인공지능에 관련된... AI인공지능 관련주 주가 단순하게 생각을 해보면 일상생활을 하면서 영향을 줄수있는 산업들에도 많이 분포가 되어있겠지만, 우리들이 모르고있는...', 'date': '2023.09.05.'}\n",
      "{'title': '인공지능 AI 관련주 26종목 모음집', 'text': '*엑셈 데이터베이스 관리 기업으로 인공지능 기반 IT 운영 지능화 솔루션인 싸이옵스를 출시했음. *트루엔 인공지능 영상 솔루션... *마음AI 자체 보유한 기술을 조합해 AI 앱, AI 상담원 등 인공인간 서비스를 운영하고 있음. 삼성전자와 신한은행 등을 핵심 고객사로 보유하고...', 'date': '2023.10.09.'}\n",
      "{'title': '[주간경제동향] 무선통신 경제성장 분석 (인공지능,6g)', 'text': '지금까지 인공지능 6G관련 무선통신 경제에 대해 살펴봤습니다. 이 산업에 필요한 건 초성능, 초대역, 초공간, 초정밀 및 지능입니다. 10년 단계로 발달하는 이동통신 기술이 전 산업과 사회에서 인프라를 형성하려면 다양한 통신요구를 만족해야 할 겁니다. 5G에서 볼 수 없었던...', 'date': '2023.10.10.'}\n",
      "{'title': '빙 챗gpt 쓰려면 엣지 브라우저로! 너만 몰라 인공지능 팁', 'text': '너만 몰라 인공지능 팁 by 엔돌슨 2023. 6. 30. 빙 챗gpt 쓰려면 엣지 브라우저로! 너만 몰라 인공지능 팁 응 너만 인공지능 쓸줄 몰라! 그래서 쉽게 Microsoft Edge 브라우저에서 ChatGPT를 이용하는 방법에 대해서 설명하려고 합니다. 챗봇, AI에 대한 디지털 가이드가...', 'date': '2023.06.30.'}\n",
      "{'title': '(12편) : 인공지능과 로보틱스 (Artificial Intelligence...', 'text': 'com 지난시간에는 미국의 인플레이션 감축 법안 (Inflation Reduction Act)에 대해서 알아보았는데요 이번 시간에는 최근에 시장을 뜨겁게 달군 인공지능 및 로보틱스 테마에 대해서 알아보겠습니다. 코로나를 겪으면서 여러 산업에서 (AI)과 로봇은 모든 규모의 기업이...', 'date': '2023.08.02.'}\n",
      "{'title': '적금 가입 vs 펀드 투자, 인공지능이 운용하는 콴텍 수익률과...', 'text': \"저는 작년부터 인공지능이 주식을 매매해주는 '콴텍'에 돈을 넣어 운영하고 있습니다. 다른 이유는 없습니다. 그냥 수익률이... 개설된 증권사 계좌에 입금하면 인공지능이 자동으로 매매를 시작합니다. 돈을 찾을 땐 콴텍 앱에서 상품을 해지하면 보유한 주식을 환매해 증권사...\", 'date': '2023.07.03.'}\n",
      "{'title': '[테마주분석] 의료기기와 ai 인공지능 의료용로봇 관련주 정리', 'text': '다섯 번째 셀루메드 사업부문 - 의료기기와 바이오로직스, 코스메슈티컬 의료기기 - 탈회골, 합성고분자 무릎연골 연구개발 무릎인공관절 전치환술에 세루메드의 첨단 로봇을 사용하고 있다고 합니다. 지금까지 의료기기와 의료용로봇 관련주들을 알아봤습니다....', 'date': '2023.08.29.'}\n",
      "{'title': '‘상품 들고 나오면 자동 결제’...인공지능(AI) 스마트 편의점', 'text': \"출처=GS리테일 GS25가 사람 없이 인공지능(AI) 솔루션 만으로 운영되는 스마트 편의점 'GS25 DX 랩(LAB) 가산스마트점'을 오픈했습니다. 서울... 출처=이마트24 지난 1월부터는 신세계아이앤씨의 ‘스파로스 인공지능(AI) 수요예측’ 시스템을 도입해 이전에 1시간 이상 소요됐던 발주...\", 'date': '2023.10.10.'}\n",
      "{'title': '미국주식 엔비디아 주가 500달러 돌파 - 인공지능 챗GPT 관련주', 'text': '챗GPT 로 대변되는 생성형AI 인공지능의 최대 수혜주로 꼽히는 엔비디아가 2분기 실적을 발표했습니다. 예상보다 훨씬 상회하는... 당연하게도 인공지능용 AI 반도체 수요가 급증했기 때문입니다. 이런 추세는 3분기에도 지속될 것이며, 올해 내내 엔비디아의 실적에 영향을...', 'date': '2023.08.24.'}\n",
      "{'title': 'AI 인공지능 데이터 라벨링으로 수익 창출하는 법 (+무료교육...', 'text': 'AI 인공지능 데이터 라벨링으로 수익 창출하는 법 (+무료교육 선착순 한정) 안녕하세요. 사진&IT 크리에이터 자유분방입니다. 올해 초 Chat GPT가 출시가 되면서, 인공지능 (AI)에 대한 관심도도 상당 부분 올라갔습니다. 그렇다 보니, 관련 직군들이 주목을 받고 있는데요....', 'date': '2023.10.19.'}\n",
      "{'title': '인공지능 OpenAI 해커톤 개발 공모전 SK 텔레콤...', 'text': '해커톤은 해킹과 마라톤이 합성된 말로 일정 시간 내에 주제에 맞는 서비스를 기발하는 공모전을 뜻하는데요~ 이번에 SK 텔레콤에서 인공지능 OpenAI 개발 공모전인 Prompter Day Seoul 2023 행사가 있어 소개를 해드리려 합니다. Prompter Day Seoul 2023 기술의 발달로...', 'date': '2023.08.24.'}\n",
      "{'title': '신약 개발의 벽을 넘기 위한 도약, 인공지능 기반 신약 개발', 'text': '인공지능의 도입으로 약효를 결정하는 분자의 단순 스크리닝 과정을 효율화하고, 예상되는 문제를 사전에 예측해 신약 개발 성공 확률을... 부족한 자본을 보완하는 기술력, 인공지능의 도입 사람의 노동력으로 진행되었던 지점을 으로 대체해 효율을 높일 수 있다. 자본이...', 'date': '2023.09.18.'}\n",
      "{'title': 'AI 프로필 수면분석 통화요약 어플 SKT 에이닷 인공지능 기능', 'text': '인공지능 에이전트 서비스 SKT A.(에이닷)이 정식 출시되었습니다. 주목할 만한 신기능들도 업데이트가 되었는데요. 수면분석 도우미 A.... AI 모션프로필 AI 모션프로필은 내 사진을 업로드하면 인공지능이 알아서 멋진 AI 프로필 이미지를 만들어주는 기능입니다. A.(에이닷)어플...', 'date': '2023.09.30.'}\n",
      "{'title': '(글로벌교육과) 인공지능 시대, 공공 인재개발 전략은?', 'text': '인공지능 혁신 시대에 대응하는 공직 인재개발 체계(패러다임)를 논하는 자리가 마련됩니다. 국가공무원인재개발원(원장 김채환, 이하... ‘인공지능(AI) 혁신 시대에 대응하는 공직 인재개발 체계(패러다임)’를 주제로 열리는 올해 학술대회는 관심 있는 누구나 유튜브...', 'date': '2023.10.20.'}\n",
      "{'title': '인공지능을 이용한 산불 감시 시스템', 'text': '최근에는 인공지능을 적용하려는 시도가 이어지고 있습니다. 관련 스타트업 가운데 하나인 파노 AI (Pano AI)는 이미 캘리포니아, 오레건, 콜로라도, 워싱턴, 아이다호, 몬태나 주에서 240만 헥타르의 숲을 감시하고 있습니다. 최근 파노 AI는 화재...', 'date': '2023.08.08.'}\n",
      "{'title': '엔잡러가 원하는 인공지능 직업 데이터라벨링...', 'text': '인공지능(AI)은 주입된 수많은 데이터를 통해 학습을 하며 이때 제공받는 데이터는 인공지능이 학습할 수 있도록 가공된 형태죠. 여기서 가공을 데이터 전처리 작업이라고 표현할 수 있는데 이것이 바로 데이터 라벨링이라고 이해하시면 됩니다. 최근에는 챗GPT가 화제가 되고...', 'date': '2023.07.18.'}\n",
      "{'title': '네이버 AI 큐(Cue:), 이제 특화된 대화형 인공지능!', 'text': '네이버 AI 클로바X가 서비스된지 얼마 되지 않았는데 네이버에서 추가로 새로운 인공지능 서비스가 시작되었습니다. 바로 네이버 AI 큐(Cue... 기존 검색 사이트를 이용하는 방식과 달리 인공지능으로 원하는 정보를 좀 더 빠르게 확인할 수 있어 맘에 드네요. 앞으로의 새로운...', 'date': '2023.10.04.'}\n",
      "{'title': '윈도우 코파일럿 미리사용해본 AI 인공지능 기능! 윈도우 11...', 'text': '얼리어답터 리뷰/IT정보 윈도우 코파일럿 미리사용해본 AI 인공지능 기능! 윈도우 11 23H2 프리뷰 코파일럿 사용법 by 엔돌슨 2023. 10. 5. 윈도우 코파일럿의 기능과 사용법 리뷰 이번에는 윈도우11에 내장된 윈도우 코파일럿 입니다. 챗GPT 같은 을 윈도우에서 직접...', 'date': '2023.10.05.'}\n",
      "{'title': '[관심종목] 23년 마지막 주목받을 인공지능,반도체 산업주식 종목', 'text': '23년 8월에서 12월까지 남은 5개월을 장식할 인공지능,반도체 산업주식 종목에는 뭐가 있을까? 주식은 상황과 여건에 따라 빛나는 종목이 있습니다. 올해 초부터 인공지능에 강세를 보였고 2차전지가 중심에 있었습니다. 그리고 2차전지와 관련된 에코프로가 빛을 받았죠. 그렇다면...', 'date': '2023.08.06.'}\n",
      "{'title': 'AI 인공지능 관련주 대장주 TOP2!', 'text': 'AI 인공지능 관련주 대장주 TOP2! 주식 쉽게 하는 팁까지 공유! 오후에는 아직까지도 무더운데, 오전에는 날씨가 선선하니 좋네요. 곧... 오늘은 향후 기대되는 섹터 중 하나인, AI 인공지능 관련주와 대장주를 한 번 살펴 볼께요. AI 관련주 대장주 TOP2! © vishnumaiea...', 'date': '2023.09.10.'}\n",
      "{'title': '등 인공지능이 자동으로 기록해 주는 클로바노트 녹음하는 방법...', 'text': '회의, 인터뷰, 강의 등 인공지능이 자동으로 기록해 주는 클로바노트 녹음하는 방법입니다. 업무를 향상시켜주는 필수 어플 - 회의, 인터뷰, 강의 등 인공지능이 자동 기록해 주는 클로바노트로 녹음하는 방법 클로바 노트 회의, 인터뷰, 강의 등 녹음 내용을 눈으로 보면서 듣는...', 'date': '2023.10.01.'}\n",
      "{'title': '천안시, 빅데이터 기반 인공지능 활용 도시기본계획 수립 추진', 'text': '빅데이터 기반 인공지능 활용 2040 도시기본계획 수립용역 착수 안녕하세요. 천안시입니다. 천안시가 빅데이터 기반 인공지능을 활용한 ✔️2040 도시기본계획 수립에 본격 착수합니다. 이에 따라 국토연구원과 11개 민간기업이 참여하는 ‘국토도시 빅데이터 얼라이언스 협약’...', 'date': '2023.10.19.'}\n",
      "{'title': '네이버 생성형인공지능 클로바X(CLOVA X) 사용후기', 'text': '네이버 생성형인공지능 클로바X(CLOVA X) 사용후기 New Tech/AI(인공지능) by 마켓캐스트 2023. 9. 8. 13:59 공감 네이버 생성형인공지능 클로바X(CLOVA X)의 사용승인이 되어서 오늘 여러가지 내용으로 테스트를 해봤는데 결론적으로 너무나 실망스러운 결과 였습니다. 질문: 네이버에서...', 'date': '2023.09.08.'}\n",
      "{'title': '열(熱)의 꿈틀거림까지 감시한다! ‘인공지능 열화상 카메라’', 'text': '[이 주의 조달청 혁신제품] 재난 예방 혁신제품 해외수출 ③ 인공지능 열화상 카메라 ‘조달청 혁신제품’을 아시나요? 공공성과 기술성이... ‘인공지능 열화상 카메라’ 미국 역사상 최악의 재해로 남은 하와이 마우이섬의 산불, 한국보다도 넓은 면적을 태워버린 캐나다의 산불에...', 'date': '2023.08.23.'}\n",
      "{'title': 'AI 관련주 의료 인공지능 루닛·제이엘케이 등 주식 주가 간단...', 'text': '16%) 2023년 8월 9일 10:30 현재가 라이프시맨틱스(347700) 주가 일봉 차트 브리지텍(064480) 브리지텍(064480)은 AI(인공지능) 콜센터와 음성인식/화자인증, 보이는ARS, IP기반의 유무선(지능망서비스, 무선이동통신) 멀티미디어 서비스 관련 소프트웨어를 개발...', 'date': '2023.08.09.'}\n",
      "{'title': '인공지능 교육 - 23년 AI 교육과정 특화 맞춤형 교육생 모집', 'text': '인공지능 교육 - 23년 AI 교육과정 특화 맞춤형 교육생 모집 안녕하세요. 취업비서 인크루트 입니다. 오늘 소개해드릴 인공지능 교육 - 23년 AI 교육과정 특화 맞춤형 교육은 AI 분야 일자리에 대한 직무.직군 분석을 바탕으로 개발된 AI 커리어맵을 기반으로 교육생별 직무설계...', 'date': '2023.09.11.'}\n",
      "{'title': '국내 AI 인공지능 관련주 대장주 의료 반도체 챗GPT 종목 소개...', 'text': '국내 AI 인공지능 관련주 대장주 의료 반도체 챗GPT 종목 소개 및 현황 정리 최근 국내 증시는 테마주들이 이끌고 가고 있다고 해도 무방한 상황입니다. 그리고 현재 이러한 손바뀜이 현상이 계속 이어지고 있는 가운데 다시 국내 AI 관련주들이 관심을...', 'date': '2023.09.04.'}\n",
      "{'title': '인공지능을 이용해서 유방암 조기 진단률을 높인다.', 'text': 'Credit: Public Domain) 인공지능 붐 초기 응용이 크게 기대되던 분야 중 하나는 의료입니다. 사람들은 AI 의사가 질병의 진단과... 있는 인공지능을 개발했습니다. ScreenTrustCAD 연구에서 연구팀은 2021년 4월에서 2022년 6월까지 40-74세 사이 여성 55,500명의 유방...', 'date': '2023.09.17.'}\n"
     ]
    },
    {
     "name": "stdout",
     "output_type": "stream",
     "text": [
      "{'title': '인공지능(AI) 디지털교과서 법적 지위를 얻다', 'text': '이번 개정안에는 인공지능(AI) 디지털교과서가 차질 없이 개발되고 학교 현장에서 안정적으로 사용될 수 있도록 디지털 교과서의 정의, 검정 절차별 필요 사항을 담았다. 즉, 디지털교과서를 지능정보화 기술을 활용한 학습지원 소프트웨어로 정의하고, 기술결함 조사 및 기술...', 'date': '2023.10.17.'}\n",
      "{'title': '안드로이드앱제작 인공지능을 이용해서 저렴하고 빠르게...', 'text': '2023년은 인공지능의 해 인것 같습니다. 2022년의 메타버스에 대한 이야기는 2023년이 되서 거짓말처럼 완전히 사라져서 잘 보이지도 않는 것 같아요. 그 정도로 요즘 인공지능의 발전이 눈이 부실 정도로 빠르게 진행이 되고 있습니다. 챗GPT가 출시한지 얼마 되지도 않았는데 벌써...', 'date': '2023.06.08.'}\n",
      "{'title': '[종목분석] 인공지능 ai 테마주에는 어떤 것들이 있을까', 'text': '오늘도 많은 분들이 알지 못하고 자료를 찾아야 하는 시간을 덜어드리기 위해 올해 대세로 떠오른 인공지능 ai 테마주의 종목들을 정리하겠습니다. 일일히 찾아다닐 필요 없이 오늘 소개해드리는 종목들을 보고 분석하시면 됩니다. ai 테마주 모음 종목(관련 테마)...', 'date': '2023.08.21.'}\n",
      "{'title': '인공지능 A.(에이닷) 앱, AI 친구 대화와 챗GPT 사용법', 'text': \"SK텔레콤의 인공지능 에이전트 서비스 A.(에이닷) 앱이 새롭게 업데이트되었습니다. '내 손안에 AI 친구'라는 슬로건에 맞춰 추가된 기능이 눈길을 끄는데요. 감성대화가 가능한 A.프렌즈, 챗GPT 기반의 지식 대화 기능 채널인 챗T가 바로 그 주인공입니다. 과연 어떤 대화를 나눌 수...\", 'date': '2023.07.22.'}\n",
      "{'title': '인공지능 AI가 글 써 주는 시대', 'text': \"어제 네이버에서 한국형 초대형 인공지능(AI) 서비스라고 하는 '하이퍼클로바X'를 공개했는데, 이를 활용하여 글쓰기를 할 블로거를... ※ 이미지 출처 : 네이버 검색 인공지능 클로바를 블로그에도 도입할 생각인가 보다. 그동안 작성한 글을 바탕으로 관심사나 문체 등을 분석하여...\", 'date': '2023.08.25.'}\n",
      "{'title': \"송도국제도시에 'AI(인공지능) 교육센터'만든다\", 'text': '송도 3공구 G5 부지 내 근린공원에 인공지능 교육센터를 유치하려나 봅니다. 아직 G5 분양계획에 대한 이야기가 없는 가운데 갑자기 공원 내... 인공지능 교육센터 위치 아래는 그동안 모아두었던 G5 부지에 대한 다양한 청사진과 자료들입니다. G5 부지의 아파트가 언제쯤이면 분양을...', 'date': '2023.09.07.'}\n",
      "{'title': '[ChatGPT 활용] 챗GPT에 달리3(DALL-E3) 인공지능(AI) 이미지...', 'text': '[챗GPT 사용법] ChatGPT 완전정복(기본편) 출간 ChatGPT-4에 인공지능(AI) 이미지 생성 기능이 추가되었습니다. ChatGPT와 바드(Bard)가 경쟁하듯... 간단히 인공지능 로봇을 그려 달라고 해보겠습니다. 생각하고 있는 로봇을 그려줘 ChatGPT는 달리-3을 이용해 4개의 이미지를...', 'date': '2023.10.07.'}\n",
      "{'title': '230526 # 미국 #증시 #엔비디아 #NVDA #인공지능 #AI 테마의...', 'text': '#엔비디아 #NVDA #인공지능 #AI 테마의 마무리 국면 미국은 통화 긴축 정책에 따라 소비가 줄고 기업이 감소하며, 기업의 이익이 줄어드는 가운데 chatGPT 붐에 힘입어 인공지능 테마 장세가 전개된 것으로 보인다. 이에 따라 과 관련된 대기업을 제외한 모든 산업이 약세를...', 'date': '2023.05.26.'}\n",
      "{'title': 'UPS 인공지능을 활용하여 택배 도난방지를 예방하다.', 'text': 'UPS 인공지능을 활용하여 택배 도난방지를 예방하다. New Tech/AI(인공지능) by 마켓캐스트 2023. 10. 9. 08:30 공감 Security.org의 최근 연구에 따르면 지난 2022년 동안 약 4,900만 명의 미국인이 최소 한 번 이상 택배 도난을 경험했다. 이러한 상황에서 도난당한...', 'date': '2023.10.09.'}\n",
      "{'title': '챗 GPT 앱 인공지능 시대에 아이폰 chatGPT 필수 어플', 'text': '얼리어답터 리뷰/어플(App) 챗 GPT 앱 인공지능 시대에 아이폰 chatGPT 필수 어플 by 엔돌슨 2023. 6. 20. 챗 GPT 앱 인공지능 시대에 아이폰 chatGPT 필수 어플 챗gpt 앱은 채팅형 인공지능 서비스입니다. 챗GPT 앱으로 아이폰, 안드로인드 스마트폰에서 쉽게 서비스를 이용할 수...', 'date': '2023.06.20.'}\n",
      "{'title': '인공지능 누끼따기 사이트, 스테이블 디퓨전 클립드롭', 'text': '인공지능 이미지 생성 사이트 스테이블 디퓨전 클립드롭의 여러 기능 중 누끼따기를 보여드릴 텐데요. 오늘 소개해 드릴 누끼따기... ▲ 클립드롭 사이트인데 메인 화면에 포함된 프롬프트 입력 창을 활용하면 인공지능 이미지를 생성해 볼 수 있습니다. 소개해 드릴...', 'date': '2023.07.15.'}\n",
      "{'title': '국내 AI 인공지능 관련주 한화에어로스페이스 네패스 등 투자...', 'text': '임플란트사업부문은 인공관절보형물인 임플란트 판매하고 있으며, 무역사업부문은 식품원료를 수입하여 판매하고 있음.... 38% ■국내 AI 인공지능 관련주 포인트 큐렉소는 의료 로봇과 지능형 로봇 개발 사업을 영위하고 있기 때문에 현재 관련주로 수혜를 받고...', 'date': '2023.08.14.'}\n",
      "{'title': '심장 판막 질환을 찾아내는 인공지능', 'text': '인공지능 붐 초기에 의료용 인공지능에 대한 관심이 높았지만, 당시 기술적 한계와 더불어 인공지능에 대한 이해 부족으로 실제 의료 현장에서 크게 활용되지는 못했습니다. 최근에는 진단 목적으로 인공지능의 활용도가 주목 받고 있는데, CT, MRI, X선...', 'date': '2023.10.19.'}\n",
      "{'title': '통신사의 생성형 인공지능(AI) 서비스', 'text': \"생성형 인공지능(AI)과 관련한 기술을 개발하고, 이를 서비스에 적용하고 있습니다. KT는 자체 개발한 초거대 AI '믿음'을 다음달 공개할 예정이며, SKT는 생성형 AI 시장 공략을 위한 멀티 LLM 전략을 추진하고, LG유플러스는 메타버스와 광고 제작에 을 활용하고...\", 'date': '2023.09.04.'}\n",
      "{'title': '[종목분석] 국내 인공지능 ai 대장주 루닛 주가전망과 사우디...', 'text': '지난 달 5일 의료 인공지능 ai 기업 루닛은 사우디아라비아 국가전략사업의 핵심과제 SEHA가상병원 프로젝트에 참여했습니다. 여기서... 특히 가상병원 프로젝트는 보건의료분야 최우선 과제로 이번에 참여한 인공지능 AI 의료기기를 중심으로 하는 루닛이란 기업에 좋은...', 'date': '2023.08.31.'}\n",
      "{'title': '크라우드웍스 코스닥 상장(인공지능, AI 학습데이터 전문기업)...', 'text': '인공지능 AI 학습데이터 전문기업 크라우드웍스 한국거래소는 2023년 8월 29일 주식회사 크라우드웍스의 코스닥 시장 합병 상장을... 인공지능 대표 기업으로 상장 첫날부터 관심을 받고 있네요. 크라우드웍스는 2017년 설립한 (AI) 데이터 스타트업으로 데이터...', 'date': '2023.08.31.'}\n",
      "{'title': '메타 다중언어 번역 인공지능 모델 심리스(Seamless) M4T 출시', 'text': '메타에서 심리스(Seamless) M4T라는 멀티 모달 인공지능 모델을 발표했습니다. 모델의 이름에서 M4T의 의미는 대규모 다국어 및 멀티... © steve_j, 출처 Unsplash 다중언어 번역 인공지능 멀티 모달은 두 개 이상의 다른 언어를 인식하고 이해 가능한 수단인 모달리티(Modality)를...', 'date': '2023.09.24.'}\n",
      "{'title': '40개의 엔트리 게임 인공지능 게임 만들기 ft 앤써북', 'text': '오늘은 엔트리를 이용해서 40개의 게임을 만들면서 인공지능 요소를 넣어서 프로그램 코딩하는 책을 소개합니다. 앤써북에서 만든 40개의 엔트리 게임 인공지능 게임 만들기입니다. 40개의 엔트리 게임 + 인공지능 게임은 학교나 학원 또는 방과후 수업에서 사용할 교재로...', 'date': '2023.10.20.'}\n",
      "{'title': '인공지능 프로그래밍을 위한 깃허브 코파일럿 학생 인증 무료...', 'text': '요즘은 프로그래밍을 도와주는 인공지능 코딩 툴 등이 상당히 잘 되어 있습니다. 모두 알고 계실 ChatGPT부터, 아마존의 코드 위스퍼러... 이제 나도 인공지능 프로그래밍을 할 수 있게 되는 것이죠. 인공지능 프로그래밍 하기 코파일럿은 비주얼 스튜디오, VS Code의 확장...', 'date': '2023.09.12.'}\n",
      "{'title': '모든 도로 안전은 ‘인공지능 도로 분석장치’로 통한다!', 'text': '[이 주의 조달청 혁신제품] 재난 예방 혁신제품 해외수출 ② 인공지능 도로 분석장치 ‘조달청 혁신제품’을 아시나요? 공공성과 기술성이... 모든 도로 안전은 ‘인공지능 도로 분석장치’로 통한다! 지겹게 내리던 폭우가 지나가고 맑은 하늘에 햇빛이 쨍~한 요즘입니다....', 'date': '2023.08.18.'}\n",
      "{'title': '인공지능 성우 해외 사이트 소개(부분 무료 가능)', 'text': '국내에도 인공지능 성우를 활용할 수 있는 웹사이트들이 있다. 그냥 구글링만 해도 많이 보이는데, 대부분 바로 유료 사용이 필요하다. 하지만 오늘 소개하는 웹사이트는 부분적으로 무료 사용이 가능하다. 특히 외국어의 경우가 더 특화되었다고 할 수 있다. 위 이미지를 클릭하면...', 'date': '2023.10.06.'}\n",
      "{'title': '인공지능을 활용한 스마트한 일상, 초거대AI 총정리!', 'text': '인공지능은 어느새 우리의 일상 깊숙이 침투해 함께 공존하고 있습니다. 과거 간단한 명령만 실행하던 인공지능이 이제는 의료, 법률, 문화예술 분야로 내용이 확대되면서 거의 모든 영역에서 인공지능을 활용하는 사람들이 늘어나고 있습니다. 이러한 의 확대를...', 'date': '2023.09.19.'}\n",
      "{'title': '코카콜라 인공지능기술을 활용하여 브랜드 혁신을 주도하다.', 'text': '코카콜라 인공지능기술을 활용하여 브랜드 혁신을 주도하다. 마케팅 전략 by 마켓캐스트 2023. 9. 25. 08:30 공감 2021년 9월... 더불어 현재 마케팅과 크리에이티브 분야에서는 창의력을 더욱 발휘하고 향상시키기 위한 새로운 도구로 생성형 (GenAI)을...', 'date': '2023.09.25.'}\n",
      "{'title': '[종목분석] 인공지능,반도체 싸이맥스 주가전망과 하반기 실적...', 'text': '인공지능,반도체 싸이맥스 주가전망을 살펴봅니다. 위 기업은 반도체장비사업과 환경설비 사업을 영위하고 있는 곳으로 반도체시장의... 인공지능,반도체 싸이맥스 주가를 상승시키는 주력생산을 보면 EFEM과 LPM, TM입니다. 종속기업으로 있는 신도이앤지를 통해 미세먼지와...', 'date': '2023.08.26.'}\n",
      "{'title': '[주식시장 미리보기] 삼성전자 인공지능 가우스 과연 챗GPT...', 'text': '최근 삼성전자 인공지능 가우스 상표출원을 보며 앞으로의 AI 시장이 어떻게 될지 생각해보겠습니다. 삼전에서 특허청에 AI 소프트웨어와 관련한 상표를 출원했습니다. 챗 GPT와 유사한 생성형 인공지능 서비스를 차체 기술력으로 선보인 건데 챗GPT를 잡고 대세로 떠오를지 귀추가...', 'date': '2023.09.09.'}\n",
      "{'title': '[테마주분석] 인공지능, ai챗봇 관련주 외국인과 기관이...', 'text': '올해 초 챗GPT로 시작된 인공지능 시장에 ai챗봇 관련주 기업들이 치열한 경쟁을 하고 있습니다. 엄청난 열풍을 일으킨 오픈ai가 기업용 챗봇을 출시했다고 발표하면서 국내에 있는 인공지능 관련주들이 지금 강세를 보이고 있네요. 여러 종목 중에서 현재 매수 상위권에 있다고...', 'date': '2023.10.04.'}\n",
      "{'title': 'Clipdrop 생성형 인공지능 서비스, 구독 시 알아둬야 할 점과...', 'text': 'Clipdrop 생성형 인공지능 서비스의 월 구독 비용이 1,200원으로 정말 저렴한데요. 유용한 기능이 많아 활용해 봐도 좋을 거라... 직접 활용해 보니 프롬프트를 활용한 인공지능 이미지 생성 외에도 각종 툴을 제공하고 있어 다양하게 활용해 볼 수 있습니다. 해지...', 'date': '2023.08.16.'}\n",
      "{'title': '만들기 블루윌로우로 쉬운 ai 이미지 생성! 인공지능 강의', 'text': '뉴미디어캠퍼스에선 챗gpt, 바드, 뤼튼 등 여러 인공지능 툴을 활용하여 SNS 콘텐츠 생성 강의를 진행하고 있습니다. 자세한 SNS 콘텐츠 제작 강의와 인공지능 강의 문의는 하단 링크를 참고해주세요! 강의/컨설팅 문의하기 ***-****-**** #ai이미지만들기 #ai이미지생성...', 'date': '2023.09.25.'}\n",
      "{'title': '통신 3사의 인공지능 고객센터 AICC 기술', 'text': 'AICC는 AI Contact Center로 고객센터에 음성 인식, 음성 합성, 문장 분석 등 각종 인공지능 기술을 적용한 것입니다. 이 기술을 적용해 상.담원 연결을 위해 기다리지 않고 24시간 상.담이 가능하며 상.담사도 AI로부터 답변 관련 정보를 받아 빠르게 업무 처리가...', 'date': '2023.10.05.'}\n",
      "{'title': '오피스 소프트웨어 기업도 인공지능(AI) 전쟁', 'text': \"오피스 소프트웨어(SW) 기업 간 인공지능(AI) 전쟁이 본격화될 전망입니다. 오피스 SW의 강자인 폴라리스 오피스와 한글과컴퓨터, 구글... 과제부터 업무까지 가능한 '폴라리스 오피스 AI' 출처=폴라리스 오피스 홈페이지 폴라리스 오피스는 생성형 (AI) 기능을 자유롭게...\", 'date': '2023.08.31.'}\n",
      "{'title': '인공지능 이용 만감류 생육정보 수집 연구', 'text': '가중되며 인공지능과 빅데이터에 기반한 스마트농업이 미래농업의 대안으로 부각되고 있습니다. 제주특별자치도 농업기술원은 정확한 빅데이터 수집 체계를 개발하기 위해 인공지능 기술을 활용한 생육정보 수집 시스템 연구에 나섭니다. 농업기술원은 제주에서...', 'date': '2023.08.17.'}\n",
      "{'title': '전국 청소년 인공지능 프론티어 챌린지 2023', 'text': \"글로벌 인공지능 기업이 함께하는 청소년 '인공지능 프론티어 챌린지' 경진대회 소식 입니다. 아마존웹서비스코리아, 구글클라우드, 한국마이크로소프트, 엔비디아 코리아, 네이버 클라우드, 엔에이치엔 클라우드, 케이티 클라우드, 삼성SDS, 쌍용정보통신 등 9개...\", 'date': '2023.08.02.'}\n",
      "{'title': '[알쓸신잡(新Job)] 인공지능 산업의 발전에 앞장서는 데이터...', 'text': '사람과 비슷한 수준으로 대화가 가능한 인공지능 챗봇, ‘챗GPT’를 알고 계신가요? 챗GPT의 등장은 세계적인 선풍을 일으키며 그에 따라... 한국지능정보사회진흥원(NIA)이 진행하는 국가사업의 데이터 가공 업무에 참여토록 하여 디지털 일자리 창출에도 앞장서고 있습니다. 데이터...', 'date': '2023.07.14.'}\n",
      "{'title': '인공지능 PPT 생성 - Gamma App', 'text': '정말 올해의 핫하디 핫한 키워드는, 누가 뭐라 해도 인공지능, AI 일것입니다. 물어보는것에 대답을 해주고, 일목요연하게 정리 해주고, 그림도 그려주고... 정말 무궁무진하게 발전하고 있는듯 한데요. 가볍에 테스트 해볼만한 사이트 하나 가져와봤어요! 바로바로, https://gamma.app...', 'date': '2023.09.21.'}\n",
      "{'title': '초보자도 쉽게 이해할 수 있는 인공지능 AI', 'text': '이런 현상과 함께 인공지능(AI) 또는 \"머신 러닝\" 모델은 계속 진화해 가고 있습니다. 오늘은 초보자도 쉽게 이해할 수 있는 인공지능 가이드로 챗봇을 넘어 다양한 종류의 인공지능을 발견하고 이 새로운 디지털 창조물들이 이미 우리의 삶에서 어떤 역할을 하고 있는지...', 'date': '2023.08.07.'}\n",
      "{'title': '멕시코의 인공지능(AI) 산업', 'text': '중 인공지능(AI)은 컴퓨터 시스템 내 알고리즘을 만들어 컴퓨터가 인간처럼 학습하고, 추론하고, 지각할 수 있도록 하는 기술입니다. 인공지능은 자동화, 데이터 분석, 이미지 및 음성 인식, 고객 응대, 자율 주행 등 다양하게 활용될 수 있어 4차 산업혁명의 핵심 기술...', 'date': '2023.08.27.'}\n",
      "{'title': '인공지능 Ai 챗봇 뜻, 활용분야 및 장점 알아보자', 'text': '인공지능 기반의 Ai 챗봇은 사람과의 대화를 모방하고 학습할 수 있기 때문에 시간이 지남에 따라 더 지능적으로 작동하는 것이 특징입니다. 2. AI 챗봇의 활용 분야: Ai 챗봇은 다양한 분야에서 활용할 수 있습니다. 간략하게 활용 사례를 보여드릴게요. 고객 서비스 : 기업은 Ai...', 'date': '2023.10.12.'}\n"
     ]
    },
    {
     "name": "stdout",
     "output_type": "stream",
     "text": [
      "{'title': '‘학술회의는 지겨워’라는 편견을 깬 2023 인공지능대학원...', 'text': '인공지능이 단순히 지능을 묻고 답하는 걸 넘어 인간의 영역이라 불리던 예술까지 넘보고 있는데요. 미술도 이제는 인공지능이 그린 그림과 사람이 그린 그림을 구분하기 어려운 지경입니다. 위 사진은 고흐의 별이 빛나는 밤이고, 아래는 이 그린 고양이입니다....', 'date': '2023.09.04.'}\n",
      "{'title': '더불어 사는 사회를 위한 인공지능 윤리', 'text': '인공지능의 발전으로 우리 삶이 속속들이 변화하고 있습니다. 크게는 인간이 추론하기 어려운 영역을 단시간 내에 빠르게 추론하여 합리적인 의사결정을 돕고, 작게는 인공지능 기반 맞춤형 추천을 통해 개인의 취향을 파악하고, 네트워크를 연결할 수 있는 전자기기를...', 'date': '2023.08.11.'}\n",
      "{'title': '인공지능(AI) 디지털교과서개발 아이디어, 온라인으로도 듣는다!', 'text': '첨부파일 [교육부 08-03(목) 조간보도자료] 인공지능(AI) 디지털교과서 개발 아이디어, 온라인으로도 듣는다!.pdf 2025년 인공지능(AI) 디지털교과서 도입 예정 교과 교사를 대상으로, 효과적인 교과별 학습지원을 위한 기능에 대해 의견수렴 교육부(부총리 겸 교육부장관 이주호)는...', 'date': '2023.08.02.'}\n",
      "{'title': '「인공지능(AI) 디지털교과서 개발 지침」 발표, 개발의...', 'text': '첨부파일 [교육부 08-30(수) 조간보도자료] 인공지능(AI) 디지털교과서 개발 지침 발표, 개발의 신호탄 쏘다.pdf 8월 30일(수) 「인공지능(AI) 디지털교과서 개발 지침」 발표 학습데이터 수집 및 관리, 기반 구축 등 핵심 기능과 클라우드 보안인증 관련 준수사항 등으로 구성 교육부...', 'date': '2023.08.29.'}\n",
      "{'title': '네이버 인공지능 검색 cue: 사용기', 'text': '네이버 인공지능 검색 cue: 는 신청해서 승인을 받아야 사용할 수 있습니다. 승인받은 후에는 항상 cue.search.naver.com 에 접속해서 검색을 했었는데. 이제 보니 네이버 검색창의 우측에 cue: 버튼이 생겼네요. 그냥 검색과의 차이를 보기 위해 \"자동차 트렌드\"라고 검색해보았습니다....', 'date': '2023.09.25.'}\n",
      "{'title': '인공지능(AI) 디지털교과서 개발 아이디어,교사·학생...', 'text': '첨부파일 [교육부 07-07(금) 조간보도자료] 인공지능(AI) 디지털교과서 개발 아이디어, 교사·학생·학부모가 직접 제안한다!.pdf 교사·학생·학부모가 직접 참여하는 인공지능(AI) 디지털교과서 디자인연수회(워크숍) 개최 사용자 참여설계 구현을 위해 연수회(워크숍)에서 도출된...', 'date': '2023.07.06.'}\n",
      "{'title': 'ai 이미지 생성 사이트 블루윌로우 회원가입하기! 인공지능 강사', 'text': '바드 등 여러 ai 툴들을 활용한 SNS 콘텐츠 제작 강의를 진행하고 있습니다. 자세한 SNS 콘텐츠 강의 문의와 인공지능 강사 소개는 아래 포스팅을 참고해주세요! 강의/컨설팅 문의하기 ***-****-**** #무료ai이미지생성 #ai이미지생성 #ai이미지생성사이트 #블루윌로우 #강사', 'date': '2023.09.25.'}\n",
      "{'title': '텍스트로 이미지를 만드는 인공지능 스테이블 디퓨전', 'text': '스테이블 디퓨전은 이미지 생성 인공지능입니다. 주소는 https://stablediffusionweb.com/ 사용법은 텍스트를 입력해서 이미지를 만들어 주도록 만들어진 이미지 생성 인공지능 모델입니다. 이렇게 텍스트를 입력해서 이미지를 만들어 주는 것을 text-to...', 'date': '2023.10.03.'}\n",
      "{'title': '에이닷vs믿음vs익시...통신업계 인공지능(AI) 대전', 'text': \"국내 대표 이동통신사들이 초거대 인공지능(AI) 기반 서비스를 강화하고 있습니다. 최근 SK텔레콤이 인공지능 브랜드 '에이닷'을 정식... '믿음'은 다양한 응용 사례를 쉽게 학습할 수 있는 '협업 융합 지능'을 갖췄고, 과거 대화를 기억해 활용하는 등 '사람에 더 가까운...\", 'date': '2023.10.06.'}\n",
      "{'title': \"SV인베스트먼트, 인공지능(AI) 반도체 스타트업 '리벨리온'의...\", 'text': '재료/모멘텀 인공지능(AI) 반도체 스타트업 리벨리온의 투자사 동사는 삼성전자와 협력해 내년 하반기까지 AI칩 리벨의 개발 완료 계획 리벨은 삼성 4나노 공정을 이용하며 삼성 HBM3E 메모리도 탑재 예정 데이터센터용 AI 반도체 ATOM 을 삼성 5나노 공정에서...', 'date': '2023.10.05.'}\n",
      "{'title': '[핀테크 취준카페] #7편 - 인공지능(AI) 기업 소개', 'text': '[핀테크 취준카페] #7편 - 인공지능(AI) 기업 소개 오늘은 최근 가장 관심이 집중되고 있는 인공지능(AI)기업 중 대표적인 5곳을 알아보겠습니다. 인공지능(AI) 기업은 인공지능을 금융에 접목하여 로보어드바이저, 챗봇, 인슈어테크 등 다양한 서비스를 개발하고 있는...', 'date': '2023.09.04.'}\n",
      "{'title': '인공지능이 또 저를 울리네요', 'text': '그동안 인공지능이 개발되고 세상이 경천동지 상전벽해되어 강호에 나설까 하면 태클을 거는 족속들 때문에 고민이 많았는데 ... 아 ... 챗... 그래그래 우리나라 인공지능 화이팅이다 ! 라고 하려고 했는데 야 ... 뭐라고라 ?? 휴우 ... 이제 한테도 무시받는 사람이 되었나 ...', 'date': '2023.10.08.'}\n",
      "{'title': 'FKCCI x KOTRA Business+ Forum: 인공 지능 시대의 에너지...', 'text': '한불상공회의소는 급속한 기술 발전과 디지털 변혁의 시대 속 지속 가능한 미래 형성에 있어 AI의 중추적인 역할을 인식하고, \"인공 지능 시대의 에너지 전환\"이라는 주제로 본 포럼을 개최하게 되었습니다. 본 포럼의 특별 연사로는 녹색기후기금(GCF) 수석 데이터...', 'date': '2023.09.27.'}\n",
      "{'title': \"네이버의 새로운 인공지능(AI) 검색 'Cue(큐):'\", 'text': \"네이버 메인화면에 노출된 인공지능(AI) 검색 'Cue(큐):'. 출처=플레이 네이버 캡처화면 최근, 네이버가 생성형 AI 검색 ‘Cue(큐):’의 베타... 네이버의 새로운 인공지능(AI) 검색 'Cue(큐):' 출처='Cue(큐):' '큐(Cue):'는 네이버에서 새롭게 선보인 (AI) 검색 서비스입니다. 언어...\", 'date': '2023.09.22.'}\n",
      "{'title': 'AI기술(인공지능)로 라스트마일을 개선하다!', 'text': '기업에서 인공지능(AI)을 활용하는 경우가 증가하고 있습니다. 물류 산업 역시 AI가 빠르게 적용되는 분야로 특히 라스트마일에 긍정적인 결과를 가져오고 있습니다. 오늘은 AI 기술과 라스트마일의 관계에 대해 살펴봅니다. AI를 통한 라스트마일 최적화 \"AI는 우리 네트워크에...', 'date': '2023.10.20.'}\n",
      "{'title': '제주도, 인공지능 활용해 아열대‧열대작물 병‧해충 조기...', 'text': '지원사업은 인공지능 구현의 핵심 밑바탕이 되는 학습용 데이터를 구축해 산업 경쟁력과 사회적 문제해결 역량을 강화하기 위한 목적으로 과학기술정보통신부와 한국지능정보사회진흥원(NIA)이 추진하는 사업입니다. * 제주특별자치도 컨소시엄 : 제주특별자치도(주관)...', 'date': '2023.08.31.'}\n",
      "{'title': \"'줌'에 추가된다는 인공지능 비서, 어떤 역할 맡을까\", 'text': \"줌 AI 컴패니언 로고 (출처 : Zoom) 9월 5일(현지시간) 미국 화상 회의 서비스 개발사 줌 비디오 커뮤니케이션이 인공지능(AI) 비서 기능 '줌 AI 컴패니언(Zoom AI Companion)'을 발표했다. AI 컴패니언은 화상 회의 소프트웨어 '줌'을 더 편리하게 사용하도록 도움을 주는 기능이다. 줌...\", 'date': '2023.09.07.'}\n",
      "{'title': '생성형 인공지능 이란?', 'text': '생성형 인공지능은 특정 요구를 하는 이용자에 따라 생성되는 인공지능으로 말할 수 있다. 다향한 콘텐츠 생성에 이용이 되는데 미술, 코딩, 비디오, 이미지, 시, 소절 등 데이터 원본으로 학습을 통한 학습이다. 이미 전세계에서 챗GPT, 미드저니 등 다양한 모델이 공개 되었으며...', 'date': '2023.09.09.'}\n",
      "{'title': '“인공지능 시대의 성평등”주제, 제3회 양성평등정책포럼 개최', 'text': '“인공지능 시대의 성평등”주제, 제3회 양성평등정책포럼 개최 (사진=부산여성가족과평생교육진흥원 제공) 부산시와... 제3회 양성평등정책포럼에는 동아대학교 임소연 교수가 ‘인공지능 시대의 성평등’을 주제로 특강을 진행했다. 임소연 교수는 “이 객관적이며...', 'date': '2023.10.20.'}\n",
      "{'title': '생성형 인공지능 기술의 교육적 활용과 윤리적 쟁점을 논의하다.', 'text': '첨부파일 [교육부 07-21(금) 조간보도자료] 생성형 인공지능 기술의 교육적 활용과 윤리적 쟁점을 논의하다..pdf 「제8회 디지털 인재양성... 1월∼) ‘생성형 인공지능(AI) 기술의 교육적 활용과 윤리’를 주제로 열리는 이번 토론회는 챗지피티(ChatGPT)로 대표되는 생성형...', 'date': '2023.07.20.'}\n",
      "{'title': '다양한 인공지능 모델들', 'text': '챗GPT를 통해 인공지능에 대한 관심이 많은데요. 인공지능을 구분해 보도록 하겠습니다. 먼저 생성형 AI라는 말이 있는데요. 생성형 AI(Generative AI) 언어 생성 모델(ChatGPT) GPT(Generative Pre-trained Transformer) 미리 학습(Pre-trained) 트랜스포머라는 언어 모델을...', 'date': '2023.09.12.'}\n",
      "{'title': '2023 인공지능대학원 심포지엄(8.17~18) 개최', 'text': '인공지능대학원의 성과 공유 및 협력 연결망(네트워크) 마련 인공지능융합혁신대학원(동국대, 아주대, 부산대, 전남대) 현판 증정 및 총장 간담회 개최 과학기술정보통신부(장관 이종호, 이하 ‘과기정통부’)는 8.17(목)~18(금) 이틀 간 「2023 대학원 심포지엄」...', 'date': '2023.08.17.'}\n",
      "{'title': '인공지능이 꿈을 통제할 수 있도록 도와줍니다', 'text': '프로피틱의 하드웨어 투자는 소수의 인공 지능 회사가 디바이스나 웨어러블에 투자하고 있는 시점에 이루어졌습니다. 전 애플 직원이... 울버그와 베리는 인공지능이 헤일로 장치에서 작동할 수 있는 충분한 훈련 데이터를 제공하기 위해 돈더스 연구소의 1년간의 연구...', 'date': '2023.10.15.'}\n",
      "{'title': \"2023 코센 브린지 포럼 '인공지능' 주제 포럼 개최\", 'text': '<2023 코센 브릿지 포럼 : 국가전략분야 인공지능> 인공지능(AI) 기술은 이제 산업과 사회 모든 분야에서 일상적으로 사용되고 있습니다. AI는 그 자체로 큰 가치를 창출하는 산업이며, 동시에 산업 패러다임에 혁신적인 변화를 가져오고 있습니다. AI의 안전하고 책임감 있는...', 'date': '2023.10.18.'}\n",
      "{'title': '#빅데이터경영_인공지능 미래탐구', 'text': '#빅데이터경영_인공지능 미래탐구 #국민대 AI빅데이터 커리큘럼... #인공지능 영역에서 가장 활동적인 석학 #복수의 미래, 긍정적 미래상, 미래의 단점, 단순화 압축, 미래 대응력 #미래에 대한 고찰... 세계경제포럼(2년마다) 일자리 보고서/ 필란드이 미래위원회의 세미나,국가예산...', 'date': '2023.09.16.'}\n",
      "{'title': \"[IT 소식] [과기원NOW] KAIST, '인공지능과 예술' 논하는 국제...\", 'text': 'KAIST 제공 ■ 한국과학기술원(KAIST)은 인공지능(AI)와 예술을 주제로 오는 19일 대전 카이스트 본원 대강당에서 국제심포지엄을 개최한다고 13일 밝혔다. AI 시대에서 예술의 경계가 어디까지인지를 묻고 이에 대한 담론을 나눈다. 심포지엄에는 캐이 왓슨 영국...', 'date': '2023.10.17.'}\n",
      "{'title': '인공지능 어디까지 ? 예측의 과거와 현재', 'text': '\"카네기 멜론 대학 로봇연구소 한스 모리벡 박사는 인공지능이 10년마다 세대가 바뀔 정도로 급속히 발달해 2050년이면 인간의 지능을 능가할 수 있다고 전망하기도 했다. 2020년까지는 ... 생쥐(10만 MIPS) 정도의 지능을 갖춘 로봇이 등장하고 2030년까지는...', 'date': '2023.09.23.'}\n",
      "{'title': '[KTL TODAY] KTL, 의료인공지능개발지원센터 개설로...', 'text': '의료 인공지능산업 지원 위해 구축 세계 의료 AI 산업은 2027년 시장 규모가 약 674억 달러(USD)로 성장할 것으로 전망되는 고부가가치... 의료인공지능개발지원센터(디센터1976 5층/1,130평 규모)를 개소하게 됐습니다. AI 의료기기 개발과 관련 국책과제 연구 진행중 지원센터의...', 'date': '2023.09.11.'}\n",
      "{'title': '인공지능(AI) 기반 시설농가 온라인 재배 분석, 구독 서비스....', 'text': '에이(A)-벤처스로 팜커넥트 선정 - 인공지능(AI) 기반 시설농가 온라인 재배 분석 상담 구독 서비스 개발 (01-06-에) AI 재배분석 컨설팅... 팜커넥트는 전국 1,800개 시설 농가에서 실시간으로 수집한 환경·생육 정보를 분석하여 (AI) 기반의 온라인 재배분석 정보와 심층 학습...', 'date': '2023.08.25.'}\n",
      "{'title': 'AI 산업 투자 ETF TIMEFOLIO 글로벌AI인공지능액티브', 'text': '글로벌AI인공지능액티브 목차 1. 기본 정보 2. 구성 종목 3. 최근 수익률 4. 마치는 말 & 함께 보시면 좋은 게시물 지금 AI 관련 테마는 나스닥 상장 기업들이 이끌고 있고, 국내 상장 ETF 중 글로벌 AI 산업 투자 ETF 상품은 사실 많지가 않습니다. 현재 \"AI\" 혹은 \"...', 'date': '2023.05.27.'}\n",
      "{'title': '\"수리수리 인공지능\"하면 뚝딱 만들어지는 문해력교육...', 'text': '요즘 하루가 멀다하고 다양한 인공지능 활용교육 도구들이 쏟아져나오고 있다. 그 새로운 도구의 홍수 속에서 지금 당장 학교 현장에서... 하지만 생성형 인공지능 서비스들이 대부분 그랬던 것처럼 유료화의 길을 걷게 되리라는 걱정이 앞서기도 한다. 아무튼 현재는 아무...', 'date': '2023.08.03.'}\n",
      "{'title': '인공지능과 언어로 소통하는 프롬프트 엔지니어 Prompt...', 'text': '지난해, 대화하는 인공지능(AI) ‘챗GPT’의 등장은 그야말로 혁신이었습니다. 다들 ‘챗GPT’를 한 번쯤은 써 봤을 거예요. 호기심으로... ‘챗GPT’는 정보를 찾아 제공하는 것은 물론, 마치 사고를 하는 듯한 창의적인 답변까지 하는 생성형 입니다. ‘챗GPT’의 등장으로...', 'date': '2023.09.13.'}\n",
      "{'title': '인공지능 리터러시(AI Literacy)를 위한 교수-학습...', 'text': 'ChatGPT 서비스 개시 이후 인공지능으로 인해 세상이 어떻게 변화할 것인지에 대한 관심이 뜨겁게 달아올랐다. 교육계 역시 인공지능 활용교육에 대한 모색이 활발하게 이루어지고 있다. 그런데 이런 분위기 속에서 문득 드는 생각이 있다. 활용으로 인해...', 'date': '2023.08.15.'}\n",
      "{'title': '데이터라벨링 인공지능 학습용 데이터 : 어린이 청소년 재연...', 'text': '2023년 인공지능 학습용 데이터 구축사업 어린이· 청소년 재연 배우 모집 공고 놀이기구 시설 및 이용자 위험 상황 인식데이터 구축을 위한어린이· 청소년 재연 배우를 모집한다는 공고입니다. 놀이시설 안전사고 예방용 시스템 개발을 위해서 영상 수집에 들어가는...', 'date': '2023.09.01.'}\n",
      "{'title': '직접 써본 인공지능 판독기, 사람과 인공지능을 정확하게...', 'text': '인공지능(AI) 챗봇인 챗GPT는 처음 출시됐을 때 엄청난 인기를 끌었습니다. 궁금한 내용을 질문하면 사람과 비슷한 말투로 일목요연하게... 인공지능은 날이 갈수록 사람과 비슷한 글 실력을 보이고 있습니다. 인공지능으로 작성한 대학교 과제나 논문은 사람이 며칠을 공들여...', 'date': '2023.08.09.'}\n"
     ]
    },
    {
     "name": "stdout",
     "output_type": "stream",
     "text": [
      "{'title': '보이스피싱, 인공지능으로 막아낸다!', 'text': '바로 목소리 위조 인공지능을 악용한 수법입니다. 전화기 너머로 가까운 사람의 목소리가 들려온다면 아무리 의심이 많은 사람이라도... SNS상에서도 A가수가 부르는 B가수의 곡이라며 인공지능을 이용해 특정 가수의 목소리를 구현하는 경우를 찾아볼 수 있는데, 보이스피싱 집단은...', 'date': '2023.07.17.'}\n",
      "{'title': '의료 AI 인공지능 관련주 언제 터질지 모름', 'text': '최근 핫한 섹터 : 의료 바이오, 인공지능 AI 2차 전지 산업 쪽에서 조정이 이루어지면서 주도주가 교체되고 있습니다. 지금 또다른 새로운... 뿐만 아니라 인공지능 AI 관련주도 주도주로 자리잡았습니다. 미국에서 가장 유명한 엔비디아부터 셀바스AI, 한미반도체 등 골고루 많이...', 'date': '2023.09.13.'}\n",
      "{'title': '레오나르도 AI 가입 및 인공지능 이미지 생성 후기', 'text': '메인 페이지에서 맘에 드는 이미지를 찾고 적용된 프롬프트를 활용해서 인공지능 이미지를 만들어 보도록 하겠습니다. ▲ 메인에... 드림스나이퍼, 스태이블 디퓨전 등의 인공지능도 선택해서 생성할 수 있는데 적용된 샘플러와 일부 옵션들은 그대로 적용됩니다. 여기서는...', 'date': '2023.05.14.'}\n",
      "{'title': '스마트테크코리아에서 본 이스트소프트의 인공지능 기술들', 'text': '이유는 이 이스트소프트 사장님이 뛰어난 인공지능 기술을 꾸준히 연구 개발하고 있었더라고요. 제가 챗GPT 원리를 잘 몰랐을 때... 실제로 셔터스톡은 인공지능이 학습한 데이터 또는 원재료의 사진을 촬영한 원저작권자에게 AI가 만든 사진을 판매하면 판매액의 일부를...', 'date': '2023.07.07.'}\n",
      "{'title': '[종로구cctv] 소중한 우리 회사 창고 물건, 인공지능이 지킵니다.', 'text': '안녕하세요 인공지능 수도권cctv 종로구cctv 전문 업체 자비스넷입니다. 보통 기계를 제조하는 업체들에는 물건을 보관하거나 재고를... 인공지능을 활용한 자가보안을 추구하기에 더욱 신속한 알림을 드리고자 노력합니다. 위 솔루션에서는 상황 발생 즉시 이 어떠한...', 'date': '2023.10.19.'}\n",
      "{'title': 'SKT AI 서비스 A.(에이닷) 더욱 스마트해진 인공지능 누려봐요', 'text': '하지만 또 인공지능이 여전히 어렵게 느껴지시는 분들도 계실 것 같습니다. 그래서 오늘은 누구나 쉽게 SKT AI 서비스에 대해 이야기해보려고 하는데요. 스마트폰만 있으면 누구나 쉽게 쓸 수 있는 앱인 A.(에이닷)이 그 주인공입니다 :) A.(에이닷)은 일상형 디지털 메이트로...', 'date': '2023.07.11.'}\n",
      "{'title': 'Boardmix 협업툴 인공지능 화이트 보드, AI 사진...', 'text': 'Boardmix 협업툴 인공지능 화이트 보드, AI 사진, 프레젠테이션 사이트 안녕하세요. 사진&IT 크리에이터 자유분방입니다. 이번 글에서는 Boardmix라는 협업툴 겸 인공지능 AI를 이용한 파워포인트, 템플릿, AI사진, 흐름도, 마인드맵 등을 만들 수 있는 획기적인 협업 툴 소개...', 'date': '2023.09.04.'}\n",
      "{'title': '[궁금한 경제Y] 현대판 러다이트운동, 인공지능은 우리의...', 'text': '· · · · 최근 chatGPT, DALL-E 등의 인공지능은 인간만의 고유 영역으로 여겨왔던 인문, 예술 부문에서 인간과 유사하거나 그보다 뛰어넘는 역량을 가질 수 있음을 보여주었어요. 인공지능 기술이 인간의 일들을 대신할 수 있다는 점에서 환영받고 있지만, 반대로 인간의 직업을 앗아갈...', 'date': '2023.08.22.'}\n",
      "{'title': '러시아, 인공지능 도입으로 IT 인력 부족 해결 계획', 'text': '러시아 로스텔레콤은 인공지능을 도입해 IT 인력 부족 문제를 해결하겠다는 계획이다. 운영자는 소프트웨어 개발을 위한 자체 AI... 바로 사람 대신 인공 지능으로 대체하는 것이라고 Kommersant는 적고 있다. IT 직원을 알고리즘과 기술로 교체하려는 Rostelecom의 계획은...', 'date': '2023.09.30.'}\n",
      "{'title': '소상공인을 위한 인공지능 챗GPT와 함께하는 식당 메뉴 구성...', 'text': '인공지능 챗GPT와 함께하는 식당 메뉴 구성 노하우 소상공인을 위한 인공지능 챗GPT와 함께하는 식당 메뉴 구성 및 가격 설정 노하우 안녕하세요, 소상공인 여러분! 오늘은 제가 인공지능 챗GPT와 함께 식당 메뉴 구성에 대해 이야기 나눈 내용을 유튜브 영상으로 만들어 보았습니다....', 'date': '2023.10.10.'}\n",
      "{'title': '인공지능 챗봇 빙이 알려주는 군봉묵은지김치찜 대박 비결?', 'text': \"#인공지능빙 #군봉묵은지김치찜 안녕하세요. 맛집을 넘어 대박집을 소개하고 대박의 비결을 알려드리는 '인공지능 빅데이터 상권분석 온라인마케팅 전문가 김영갑교수'입니다. 인공지능 챗봇 빙이 알려주는 군봉묵은지김치찜 대박 비결? 인천 연수구 옥련동 맛집 군봉묵은지김치찜....\", 'date': '2023.09.04.'}\n",
      "완료\n"
     ]
    }
   ],
   "source": [
    "views = driver.find_elements(By.CSS_SELECTOR, '.lst_view .bx')\n",
    "result = []\n",
    "\n",
    "for view in views:\n",
    "    con_dict = {}\n",
    "    con_dict['title'] = view.find_element(By.CSS_SELECTOR, '.title_link').text\n",
    "    con_dict['text'] = view.find_element(By.CSS_SELECTOR, '.dsc_link').text\n",
    "    con_dict['date'] = view.find_element(By.CSS_SELECTOR, '.sub').text\n",
    "    result.append(con_dict)\n",
    "    print(con_dict)\n",
    "    \n",
    "print('완료')"
   ]
  },
  {
   "cell_type": "code",
   "execution_count": 68,
   "id": "ac8b4762",
   "metadata": {},
   "outputs": [
    {
     "data": {
      "text/html": [
       "<div>\n",
       "<style scoped>\n",
       "    .dataframe tbody tr th:only-of-type {\n",
       "        vertical-align: middle;\n",
       "    }\n",
       "\n",
       "    .dataframe tbody tr th {\n",
       "        vertical-align: top;\n",
       "    }\n",
       "\n",
       "    .dataframe thead th {\n",
       "        text-align: right;\n",
       "    }\n",
       "</style>\n",
       "<table border=\"1\" class=\"dataframe\">\n",
       "  <thead>\n",
       "    <tr style=\"text-align: right;\">\n",
       "      <th></th>\n",
       "      <th>title</th>\n",
       "      <th>text</th>\n",
       "      <th>date</th>\n",
       "    </tr>\n",
       "  </thead>\n",
       "  <tbody>\n",
       "    <tr>\n",
       "      <th>0</th>\n",
       "      <td>엘지 휘센 인공지능스스로에어컨(FQ19P7DPAN) 누수현상 해결...</td>\n",
       "      <td>엘지 인공지능스스로에어컨 분해방법은 해 보지 않으면 어렵고 당황스럽지만 막상 해 보...</td>\n",
       "      <td>2023.08.09.</td>\n",
       "    </tr>\n",
       "    <tr>\n",
       "      <th>1</th>\n",
       "      <td>로보어드바이저 수익률 비교, 인공지능 투자 성과는?</td>\n",
       "      <td>그럼 인공지능인 로보어드바이저와 일반 펀드의 운용 성과는 어땠을까요? 2022년 펀...</td>\n",
       "      <td>2023.09.26.</td>\n",
       "    </tr>\n",
       "    <tr>\n",
       "      <th>2</th>\n",
       "      <td>[종목분석] 의료 인공지능 딥노이드 주가 전망을 살펴봅니다</td>\n",
       "      <td>그 중에서 오늘은 인공지능 딥노이드 주가를 살펴보려고 하는데 해당 종목은 이미 많이...</td>\n",
       "      <td>2023.08.30.</td>\n",
       "    </tr>\n",
       "    <tr>\n",
       "      <th>3</th>\n",
       "      <td>AI 인공지능 파이토치 서적으로 가볍게 시작해보죠</td>\n",
       "      <td>인공지능이 표면적으로 한풀 꺽였다고는 하지만 관련된 서적과 툴들은 꾸준하게 발전하고...</td>\n",
       "      <td>2023.10.02.</td>\n",
       "    </tr>\n",
       "    <tr>\n",
       "      <th>4</th>\n",
       "      <td>NPU 관련주 뜻 - 인공지능 구글 텔레칩스 칩스앤미디어 주가 전망</td>\n",
       "      <td>NPU 관련주 뜻 - 인공지능 구글 텔레칩스 칩스앤미디어 주가 전망 NPU 뜻 NP...</td>\n",
       "      <td>2023.10.09.</td>\n",
       "    </tr>\n",
       "    <tr>\n",
       "      <th>...</th>\n",
       "      <td>...</td>\n",
       "      <td>...</td>\n",
       "      <td>...</td>\n",
       "    </tr>\n",
       "    <tr>\n",
       "      <th>115</th>\n",
       "      <td>Boardmix 협업툴 인공지능 화이트 보드, AI 사진...</td>\n",
       "      <td>Boardmix 협업툴 인공지능 화이트 보드, AI 사진, 프레젠테이션 사이트 안녕...</td>\n",
       "      <td>2023.09.04.</td>\n",
       "    </tr>\n",
       "    <tr>\n",
       "      <th>116</th>\n",
       "      <td>[궁금한 경제Y] 현대판 러다이트운동, 인공지능은 우리의...</td>\n",
       "      <td>· · · · 최근 chatGPT, DALL-E 등의 인공지능은 인간만의 고유 영역...</td>\n",
       "      <td>2023.08.22.</td>\n",
       "    </tr>\n",
       "    <tr>\n",
       "      <th>117</th>\n",
       "      <td>러시아, 인공지능 도입으로 IT 인력 부족 해결 계획</td>\n",
       "      <td>러시아 로스텔레콤은 인공지능을 도입해 IT 인력 부족 문제를 해결하겠다는 계획이다....</td>\n",
       "      <td>2023.09.30.</td>\n",
       "    </tr>\n",
       "    <tr>\n",
       "      <th>118</th>\n",
       "      <td>소상공인을 위한 인공지능 챗GPT와 함께하는 식당 메뉴 구성...</td>\n",
       "      <td>인공지능 챗GPT와 함께하는 식당 메뉴 구성 노하우 소상공인을 위한 인공지능 챗GP...</td>\n",
       "      <td>2023.10.10.</td>\n",
       "    </tr>\n",
       "    <tr>\n",
       "      <th>119</th>\n",
       "      <td>인공지능 챗봇 빙이 알려주는 군봉묵은지김치찜 대박 비결?</td>\n",
       "      <td>#인공지능빙 #군봉묵은지김치찜 안녕하세요. 맛집을 넘어 대박집을 소개하고 대박의 비...</td>\n",
       "      <td>2023.09.04.</td>\n",
       "    </tr>\n",
       "  </tbody>\n",
       "</table>\n",
       "<p>120 rows × 3 columns</p>\n",
       "</div>"
      ],
      "text/plain": [
       "                                       title  \\\n",
       "0    엘지 휘센 인공지능스스로에어컨(FQ19P7DPAN) 누수현상 해결...   \n",
       "1               로보어드바이저 수익률 비교, 인공지능 투자 성과는?   \n",
       "2           [종목분석] 의료 인공지능 딥노이드 주가 전망을 살펴봅니다   \n",
       "3                AI 인공지능 파이토치 서적으로 가볍게 시작해보죠   \n",
       "4      NPU 관련주 뜻 - 인공지능 구글 텔레칩스 칩스앤미디어 주가 전망   \n",
       "..                                       ...   \n",
       "115       Boardmix 협업툴 인공지능 화이트 보드, AI 사진...   \n",
       "116       [궁금한 경제Y] 현대판 러다이트운동, 인공지능은 우리의...   \n",
       "117            러시아, 인공지능 도입으로 IT 인력 부족 해결 계획   \n",
       "118     소상공인을 위한 인공지능 챗GPT와 함께하는 식당 메뉴 구성...   \n",
       "119          인공지능 챗봇 빙이 알려주는 군봉묵은지김치찜 대박 비결?   \n",
       "\n",
       "                                                  text         date  \n",
       "0    엘지 인공지능스스로에어컨 분해방법은 해 보지 않으면 어렵고 당황스럽지만 막상 해 보...  2023.08.09.  \n",
       "1    그럼 인공지능인 로보어드바이저와 일반 펀드의 운용 성과는 어땠을까요? 2022년 펀...  2023.09.26.  \n",
       "2    그 중에서 오늘은 인공지능 딥노이드 주가를 살펴보려고 하는데 해당 종목은 이미 많이...  2023.08.30.  \n",
       "3    인공지능이 표면적으로 한풀 꺽였다고는 하지만 관련된 서적과 툴들은 꾸준하게 발전하고...  2023.10.02.  \n",
       "4    NPU 관련주 뜻 - 인공지능 구글 텔레칩스 칩스앤미디어 주가 전망 NPU 뜻 NP...  2023.10.09.  \n",
       "..                                                 ...          ...  \n",
       "115  Boardmix 협업툴 인공지능 화이트 보드, AI 사진, 프레젠테이션 사이트 안녕...  2023.09.04.  \n",
       "116  · · · · 최근 chatGPT, DALL-E 등의 인공지능은 인간만의 고유 영역...  2023.08.22.  \n",
       "117  러시아 로스텔레콤은 인공지능을 도입해 IT 인력 부족 문제를 해결하겠다는 계획이다....  2023.09.30.  \n",
       "118  인공지능 챗GPT와 함께하는 식당 메뉴 구성 노하우 소상공인을 위한 인공지능 챗GP...  2023.10.10.  \n",
       "119  #인공지능빙 #군봉묵은지김치찜 안녕하세요. 맛집을 넘어 대박집을 소개하고 대박의 비...  2023.09.04.  \n",
       "\n",
       "[120 rows x 3 columns]"
      ]
     },
     "execution_count": 68,
     "metadata": {},
     "output_type": "execute_result"
    }
   ],
   "source": [
    "df = pd.DataFrame(result)\n",
    "df"
   ]
  },
  {
   "cell_type": "code",
   "execution_count": 69,
   "id": "f95e9b20",
   "metadata": {},
   "outputs": [],
   "source": [
    "df.to_csv(f'./naver_{fname}.csv', sep=',', encoding='utf-8-sig')"
   ]
  },
  {
   "cell_type": "markdown",
   "id": "95bb1609",
   "metadata": {},
   "source": [
    "# 구글 플레이 스토어 리뷰"
   ]
  },
  {
   "cell_type": "code",
   "execution_count": 70,
   "id": "ae6db397",
   "metadata": {},
   "outputs": [],
   "source": [
    "from selenium import webdriver\n",
    "from selenium.webdriver.common.by import By\n",
    "from selenium.webdriver.chrome.options import Options\n",
    "import time, random, pandas as pd\n",
    "\n",
    "options = Options()\n",
    "options.add_argument('--window-size=974,1047')\n",
    "options.add_argument('--window-position=953,0')\n",
    "options.add_experimental_option(\"detach\", True)\n",
    "\n",
    "driver = webdriver.Chrome( options = options)\n",
    "url = 'https://play.google.com/store/apps/details?id=com.coupang.mobile.play'\n",
    "driver.get(url)\n",
    "time.sleep(random.randint(2,3))"
   ]
  },
  {
   "cell_type": "code",
   "execution_count": 72,
   "id": "9c8c2f74",
   "metadata": {},
   "outputs": [],
   "source": [
    "xpath = '//*[@id=\"yDmH0d\"]/c-wiz[2]/div/div/div[2]/div[2]/div/div[1]/div[1]/c-wiz[4]/section/div/div[2]/div[5]/div/div/button/span'\n",
    "driver.find_element(By.XPATH, xpath).click()\n",
    "time.sleep(random.randint(2, 3))"
   ]
  },
  {
   "cell_type": "code",
   "execution_count": null,
   "id": "9b6ee1b2",
   "metadata": {},
   "outputs": [],
   "source": [
    "for i in range(5):\n",
    "    review_box = driver.find_element(By.CSS_SELECTOR, 'div.fysCi')\n",
    "    driver.execute_script('arguments[0].scrollTop = arguments[0].scrollHeight', review_box )\n",
    "    time.sleep(random.randint(2, 3))"
   ]
  },
  {
   "cell_type": "markdown",
   "id": "0b02e0ed",
   "metadata": {},
   "source": [
    "레이어라는 새로운 요소가 있어서 길이를 새로 추출해줌\n",
    "-> arguments[0] 써준 이유"
   ]
  },
  {
   "cell_type": "code",
   "execution_count": 77,
   "id": "833c3478",
   "metadata": {},
   "outputs": [
    {
     "data": {
      "text/plain": [
       "480"
      ]
     },
     "execution_count": 77,
     "metadata": {},
     "output_type": "execute_result"
    }
   ],
   "source": [
    "reviews = driver.find_elements(By.CSS_SELECTOR, 'div.RHo1pe')\n",
    "len(reviews)"
   ]
  },
  {
   "cell_type": "code",
   "execution_count": 80,
   "id": "649f49b4",
   "metadata": {},
   "outputs": [],
   "source": [
    "def get_content(review):\n",
    "    condic = {}\n",
    "    condic['date'] = review.find_element(By.CSS_SELECTOR, 'span.bp9Aid').text\n",
    "    condic['text'] = review.find_element(By.CSS_SELECTOR, 'div.h3YV2d').text\n",
    "    condic['stars'] = len(review.find_elements(By.CSS_SELECTOR, 'span.Z1Dz7b'))\n",
    "    return condic"
   ]
  },
  {
   "cell_type": "code",
   "execution_count": 81,
   "id": "19d103bf",
   "metadata": {},
   "outputs": [
    {
     "data": {
      "text/html": [
       "<div>\n",
       "<style scoped>\n",
       "    .dataframe tbody tr th:only-of-type {\n",
       "        vertical-align: middle;\n",
       "    }\n",
       "\n",
       "    .dataframe tbody tr th {\n",
       "        vertical-align: top;\n",
       "    }\n",
       "\n",
       "    .dataframe thead th {\n",
       "        text-align: right;\n",
       "    }\n",
       "</style>\n",
       "<table border=\"1\" class=\"dataframe\">\n",
       "  <thead>\n",
       "    <tr style=\"text-align: right;\">\n",
       "      <th></th>\n",
       "      <th>date</th>\n",
       "      <th>text</th>\n",
       "      <th>stars</th>\n",
       "    </tr>\n",
       "  </thead>\n",
       "  <tbody>\n",
       "    <tr>\n",
       "      <th>0</th>\n",
       "      <td>2023년 10월 3일</td>\n",
       "      <td>좋은 컨텐츠들이 많이 늘어 영어공부에 유용합니다. 다만 1. 영한 통합자막 지원 /...</td>\n",
       "      <td>5</td>\n",
       "    </tr>\n",
       "    <tr>\n",
       "      <th>1</th>\n",
       "      <td>2023년 10월 21일</td>\n",
       "      <td>몇주 전부터인가 갤럭시탭 s8로 앱 실행시 로딩화면만 지속되고 화면이 안넘어갑니다....</td>\n",
       "      <td>1</td>\n",
       "    </tr>\n",
       "    <tr>\n",
       "      <th>2</th>\n",
       "      <td>2023년 11월 7일</td>\n",
       "      <td>1. 어떤 종류의 프로그램이라도 기본적으로 스마트폰 세운 상태로도 시청할 수 있기를...</td>\n",
       "      <td>4</td>\n",
       "    </tr>\n",
       "    <tr>\n",
       "      <th>3</th>\n",
       "      <td>2023년 10월 8일</td>\n",
       "      <td>영상을 다운로드하면 와이파이,데이터없이도 볼수있는게 아니였나요?저장하고 와이파이,데...</td>\n",
       "      <td>3</td>\n",
       "    </tr>\n",
       "    <tr>\n",
       "      <th>4</th>\n",
       "      <td>2023년 10월 5일</td>\n",
       "      <td>단점 왜캐 안고쳐요? ㅡㅡ 1. 회차 검색 불가 (과거회차 볼려면 한세월 내리고 영...</td>\n",
       "      <td>1</td>\n",
       "    </tr>\n",
       "    <tr>\n",
       "      <th>...</th>\n",
       "      <td>...</td>\n",
       "      <td>...</td>\n",
       "      <td>...</td>\n",
       "    </tr>\n",
       "    <tr>\n",
       "      <th>475</th>\n",
       "      <td>2023년 12월 9일</td>\n",
       "      <td>옛날에는 맴버십 없이 가능했었는데 지금은 저 미성년자라서 엘리 멘탈 볼랬는데 맴버십...</td>\n",
       "      <td>1</td>\n",
       "    </tr>\n",
       "    <tr>\n",
       "      <th>476</th>\n",
       "      <td>2023년 11월 21일</td>\n",
       "      <td>아니 지금 한국 중국 축구하는거 경기를 계속 볼 수가 없는데 트래픽좀 조정좀해요 아...</td>\n",
       "      <td>1</td>\n",
       "    </tr>\n",
       "    <tr>\n",
       "      <th>477</th>\n",
       "      <td>2023년 11월 21일</td>\n",
       "      <td>이 개 병*같은 앱 뭐임 축구볼라고 결제했는데 자꾸 오류뜨고 볼수없다고나오는데 뭐하...</td>\n",
       "      <td>1</td>\n",
       "    </tr>\n",
       "    <tr>\n",
       "      <th>478</th>\n",
       "      <td>2023년 11월 21일</td>\n",
       "      <td>ㄱ ㅐ 쓰레기네 진짜 축구볼려고 결제까지 햇는데 왜 안들어가지는데 ㅡㅡ</td>\n",
       "      <td>1</td>\n",
       "    </tr>\n",
       "    <tr>\n",
       "      <th>479</th>\n",
       "      <td>2023년 12월 6일</td>\n",
       "      <td>쿠팡와우 가입한 적도 없고 앱 자체도 깐 기억이 없는데 갑자기 가입되서 월 회비랍시...</td>\n",
       "      <td>1</td>\n",
       "    </tr>\n",
       "  </tbody>\n",
       "</table>\n",
       "<p>480 rows × 3 columns</p>\n",
       "</div>"
      ],
      "text/plain": [
       "              date                                               text  stars\n",
       "0     2023년 10월 3일  좋은 컨텐츠들이 많이 늘어 영어공부에 유용합니다. 다만 1. 영한 통합자막 지원 /...      5\n",
       "1    2023년 10월 21일  몇주 전부터인가 갤럭시탭 s8로 앱 실행시 로딩화면만 지속되고 화면이 안넘어갑니다....      1\n",
       "2     2023년 11월 7일  1. 어떤 종류의 프로그램이라도 기본적으로 스마트폰 세운 상태로도 시청할 수 있기를...      4\n",
       "3     2023년 10월 8일  영상을 다운로드하면 와이파이,데이터없이도 볼수있는게 아니였나요?저장하고 와이파이,데...      3\n",
       "4     2023년 10월 5일  단점 왜캐 안고쳐요? ㅡㅡ 1. 회차 검색 불가 (과거회차 볼려면 한세월 내리고 영...      1\n",
       "..             ...                                                ...    ...\n",
       "475   2023년 12월 9일  옛날에는 맴버십 없이 가능했었는데 지금은 저 미성년자라서 엘리 멘탈 볼랬는데 맴버십...      1\n",
       "476  2023년 11월 21일  아니 지금 한국 중국 축구하는거 경기를 계속 볼 수가 없는데 트래픽좀 조정좀해요 아...      1\n",
       "477  2023년 11월 21일  이 개 병*같은 앱 뭐임 축구볼라고 결제했는데 자꾸 오류뜨고 볼수없다고나오는데 뭐하...      1\n",
       "478  2023년 11월 21일            ㄱ ㅐ 쓰레기네 진짜 축구볼려고 결제까지 햇는데 왜 안들어가지는데 ㅡㅡ      1\n",
       "479   2023년 12월 6일  쿠팡와우 가입한 적도 없고 앱 자체도 깐 기억이 없는데 갑자기 가입되서 월 회비랍시...      1\n",
       "\n",
       "[480 rows x 3 columns]"
      ]
     },
     "execution_count": 81,
     "metadata": {},
     "output_type": "execute_result"
    }
   ],
   "source": [
    "result = [get_content(review) for review in reviews]\n",
    "df = pd.DataFrame(result)\n",
    "df"
   ]
  },
  {
   "cell_type": "markdown",
   "id": "46a3e58f",
   "metadata": {},
   "source": [
    "# 여행기사 수집"
   ]
  },
  {
   "cell_type": "code",
   "execution_count": 82,
   "id": "0d651669",
   "metadata": {},
   "outputs": [],
   "source": [
    "from selenium import webdriver\n",
    "from selenium.webdriver.common.by import By\n",
    "from selenium.webdriver.chrome.options import Options\n",
    "import math, time\n",
    "\n",
    "options = Options()\n",
    "options.add_argument('--window-size=974,1047')\n",
    "options.add_argument('--window-position=953,0')\n",
    "options.add_experimental_option(\"detach\", True)"
   ]
  },
  {
   "cell_type": "code",
   "execution_count": 83,
   "id": "27331efa",
   "metadata": {},
   "outputs": [
    {
     "name": "stdout",
     "output_type": "stream",
     "text": [
      "검색어를 입력하세요.제주도\n"
     ]
    }
   ],
   "source": [
    "search = input('검색어를 입력하세요.')\n",
    "\n",
    "URL = 'https://korean.visitkorea.or.kr/search/search_list.do?keyword='+search\n",
    "\n",
    "driver = webdriver.Chrome(options=options)\n",
    "driver.get(URL)\n",
    "time.sleep(3)"
   ]
  },
  {
   "cell_type": "code",
   "execution_count": 84,
   "id": "ecbc66f9",
   "metadata": {},
   "outputs": [],
   "source": [
    "xpath = '//*[@id=\"s_recommend\"]/div[2]/a'\n",
    "driver.find_element(By.XPATH, xpath).click()\n",
    "time.sleep(random.randint(2, 3))"
   ]
  },
  {
   "cell_type": "code",
   "execution_count": 102,
   "id": "16ee00e5",
   "metadata": {},
   "outputs": [
    {
     "data": {
      "text/plain": [
       "''"
      ]
     },
     "execution_count": 102,
     "metadata": {},
     "output_type": "execute_result"
    }
   ],
   "source": [
    "articles = driver.find_elements(By.CSS_SELECTOR, '.tit a')\n",
    "articles[0].text"
   ]
  },
  {
   "cell_type": "code",
   "execution_count": 106,
   "id": "83a01ebe",
   "metadata": {},
   "outputs": [
    {
     "ename": "AttributeError",
     "evalue": "'list' object has no attribute 'text'",
     "output_type": "error",
     "traceback": [
      "\u001b[1;31m---------------------------------------------------------------------------\u001b[0m",
      "\u001b[1;31mAttributeError\u001b[0m                            Traceback (most recent call last)",
      "Cell \u001b[1;32mIn[106], line 2\u001b[0m\n\u001b[0;32m      1\u001b[0m a \u001b[38;5;241m=\u001b[39m driver\u001b[38;5;241m.\u001b[39mfind_elements(By\u001b[38;5;241m.\u001b[39mXPATH, \u001b[38;5;124m'\u001b[39m\u001b[38;5;124m//*[@id=\u001b[39m\u001b[38;5;124m\"\u001b[39m\u001b[38;5;124msearch_result\u001b[39m\u001b[38;5;124m\"\u001b[39m\u001b[38;5;124m]/ul/li[*]/div[1]/div[1]/a\u001b[39m\u001b[38;5;124m'\u001b[39m)\n\u001b[1;32m----> 2\u001b[0m a\u001b[38;5;241m.\u001b[39mtext\n",
      "\u001b[1;31mAttributeError\u001b[0m: 'list' object has no attribute 'text'"
     ]
    }
   ],
   "source": [
    "a = driver.find_elements(By.XPATH, '//*[@id=\"search_result\"]/ul/li[*]/div[1]/div[1]/a')\n",
    "a.text"
   ]
  },
  {
   "cell_type": "code",
   "execution_count": null,
   "id": "842c4ec1",
   "metadata": {},
   "outputs": [],
   "source": [
    "//*[@id=\"search_result\"]/ul/li[3]/div[1]/div[1]/a"
   ]
  },
  {
   "cell_type": "code",
   "execution_count": 104,
   "id": "044bda67",
   "metadata": {
    "scrolled": true
   },
   "outputs": [
    {
     "ename": "TypeError",
     "evalue": "object of type 'WebElement' has no len()",
     "output_type": "error",
     "traceback": [
      "\u001b[1;31m---------------------------------------------------------------------------\u001b[0m",
      "\u001b[1;31mTypeError\u001b[0m                                 Traceback (most recent call last)",
      "Cell \u001b[1;32mIn[104], line 2\u001b[0m\n\u001b[0;32m      1\u001b[0m result \u001b[38;5;241m=\u001b[39m driver\u001b[38;5;241m.\u001b[39mfind_element(By\u001b[38;5;241m.\u001b[39mXPATH, \u001b[38;5;124m'\u001b[39m\u001b[38;5;124m//*[@id=\u001b[39m\u001b[38;5;124m\"\u001b[39m\u001b[38;5;124msearch_result\u001b[39m\u001b[38;5;124m\"\u001b[39m\u001b[38;5;124m]/ul/li[2]/div[1]/div[1]/a\u001b[39m\u001b[38;5;124m'\u001b[39m)\n\u001b[1;32m----> 2\u001b[0m \u001b[38;5;28mlen\u001b[39m(result), result[\u001b[38;5;241m0\u001b[39m]\u001b[38;5;241m.\u001b[39mtext, result[\u001b[38;5;241m1\u001b[39m]\u001b[38;5;241m.\u001b[39mtext\n",
      "\u001b[1;31mTypeError\u001b[0m: object of type 'WebElement' has no len()"
     ]
    }
   ],
   "source": [
    "result = driver.find_element(By.XPATH, '//*[@id=\"search_result\"]/ul/li[2]/div[1]/div[1]/a')\n",
    "len(result), result[0].text, result[1].text"
   ]
  },
  {
   "cell_type": "code",
   "execution_count": 105,
   "id": "fa4a492b",
   "metadata": {},
   "outputs": [
    {
     "ename": "NameError",
     "evalue": "name 'tit_xpath' is not defined",
     "output_type": "error",
     "traceback": [
      "\u001b[1;31m---------------------------------------------------------------------------\u001b[0m",
      "\u001b[1;31mNameError\u001b[0m                                 Traceback (most recent call last)",
      "Cell \u001b[1;32mIn[105], line 1\u001b[0m\n\u001b[1;32m----> 1\u001b[0m result \u001b[38;5;241m=\u001b[39m driver\u001b[38;5;241m.\u001b[39mfind_elements(By\u001b[38;5;241m.\u001b[39mXPATH, tit_xpath)\n\u001b[0;32m      2\u001b[0m \u001b[38;5;28mlen\u001b[39m(result), result[\u001b[38;5;241m0\u001b[39m]\u001b[38;5;241m.\u001b[39mtext, result[\u001b[38;5;241m1\u001b[39m]\u001b[38;5;241m.\u001b[39mtext\n",
      "\u001b[1;31mNameError\u001b[0m: name 'tit_xpath' is not defined"
     ]
    }
   ],
   "source": [
    "result = driver.find_elements(By.XPATH, tit_xpath)\n",
    "len(result), result[0].text, result[1].text"
   ]
  },
  {
   "cell_type": "code",
   "execution_count": 107,
   "id": "09ca7dad",
   "metadata": {},
   "outputs": [
    {
     "data": {
      "text/plain": [
       "(10, '제주도가 품은 신비의 화산 숲, 환상숲곶자왈공원', '설렘과 여유가 가득한 제주 여행')"
      ]
     },
     "execution_count": 107,
     "metadata": {},
     "output_type": "execute_result"
    }
   ],
   "source": [
    "tit_xpath = '//*[@id=\"search_result\"]/ul/li[*]/div[1]/div[1]/a'\n",
    "result = driver.find_elements(By.XPATH, tit_xpath)\n",
    "len(result), result[0].text, result[1].text"
   ]
  },
  {
   "cell_type": "code",
   "execution_count": 113,
   "id": "71aae84a",
   "metadata": {
    "scrolled": true
   },
   "outputs": [
    {
     "name": "stdout",
     "output_type": "stream",
     "text": [
      "1 제주도가 품은 신비의 화산 숲, 환상숲곶자왈공원\n",
      "2 설렘과 여유가 가득한 제주 여행\n",
      "3 [팜스테이션] 제주공항과 아름다운 해안이 인접한 워케이션 공간\n",
      "4 [디어먼데이 제주] 월요병이 없는 세상을 꿈꾸는 이들의 제주 워케이션\n",
      "5 [질그랭이 거점 센터] 조용한 제주 해안마을에서 즐기는 워케이션\n",
      "6 제주의 아크로폴리스를 아시나요? - 제주 원도심 (제주목관아 중심)\n",
      "7 섬 속의 섬 그리고 가장 제주다운 섬, 제주 우도\n",
      "8 제주 해녀들의 “호오이 호오이” 숨비소리 찾는 여행 – 제주해녀박물관과 숨비소리길\n",
      "9 돌이 나에게 말을 걸어오는 시적(詩的)인 곳– 제주돌문화공원\n",
      "10 제주의 자연과 제주인의 삶을 최단시간에 알 수 있는 곳! - 제주민속자연사박물관\n"
     ]
    }
   ],
   "source": [
    "for i, title in enumerate(result, 1):\n",
    "#     print(i, title.text)\n",
    "    print(i, title.text.replace('\\n', ''))"
   ]
  },
  {
   "cell_type": "markdown",
   "id": "e0c5be61",
   "metadata": {},
   "source": [
    "# 회고시간 복습 - 축제정보 가져오기"
   ]
  },
  {
   "cell_type": "markdown",
   "id": "e888f86f",
   "metadata": {},
   "source": [
    "1 : 수집 갯수를 입력받는다.\n",
    "2 : 수집 갯수에 따라 페이지를 이동한다.\n",
    "3 : 각 페이지별 데이터를 수집한다. (타이틀 텍스트)\n",
    "4 : 출력\n",
    "\n",
    "* 힌트 : xpath, 5페이지 이상 못넘어감, css selector를 잘 찾아보기, execute_script 쓰는법, 대부분 find_element(s)로 가능, 여러개는 for문으로"
   ]
  },
  {
   "cell_type": "code",
   "execution_count": 162,
   "id": "7b14b264",
   "metadata": {},
   "outputs": [
    {
     "name": "stdout",
     "output_type": "stream",
     "text": [
      "어느 여행지를 찾고 있나요? 부산\n",
      "몇 건이나 가져오면 될까요? 50\n",
      "========= 1 페이지 =========\n",
      "1 남파랑길(부산)\n",
      "2 부산남항\n",
      "3 롯데월드 어드벤처 부산\n",
      "4 부산근대역사관\n",
      "5 부산과학체험관\n",
      "6 부산도서관\n",
      "7 부산트래블라운지\n",
      "8 부산자연곤충마을\n",
      "9 부산타워\n",
      "10 부산역 풍물거리\n",
      "========= 2 페이지 =========\n",
      "11 부산연산동고분군\n",
      "12 부산엑스더스카이\n",
      "13 부산시민공원\n",
      "14 부산예술회관\n",
      "15 부산 송도해수욕장\n",
      "16 부산자원순환협력센터\n",
      "17 부산세관박물관\n",
      "18 부산광역시립 부전도서관\n",
      "19 현대 모터스튜디오 부산\n",
      "20 부산진성공원\n",
      "========= 3 페이지 =========\n",
      "21 부산 칠드런스 뮤지엄\n",
      "22 부산대교\n",
      "23 부산 감천문화마을\n",
      "24 부산문화회관\n",
      "25 부산박물관\n",
      "26 부산 치유의 숲\n",
      "27 부산어린이대공원\n",
      "28 KT&G 상상마당 부산\n",
      "29 부산 투어지\n",
      "30 부산 스마트시티 전시관\n",
      "========= 4 페이지 =========\n",
      "31 브릭캠퍼스 부산\n",
      "32 갤러리 ERD 부산\n",
      "33 창비부산\n",
      "34 부산자유회관(부산통일관)\n",
      "35 오륙도 (부산 국가지질공원)\n",
      "36 태종대 (부산 국가지질공원)\n",
      "37 부산 복천동 고분군\n",
      "38 부산광안대교\n",
      "39 국립부산국악원\n",
      "40 SEA LIFE 부산아쿠아리움\n",
      "========= 5 페이지 =========\n",
      "41 부산어촌민속관\n",
      "42 부산 차이나타운특구(상해문.상해거리)\n",
      "43 부산 올림픽동산\n",
      "44 대각사(부산)\n",
      "45 월명사(부산)\n",
      "46 국립부산과학관\n",
      "47 부산해양자연사박물관\n",
      "48 부산현대미술관\n",
      "49 부산 해운대도서관\n",
      "50 부산 부평 족발 골목\n",
      "========= 작업 완료 =========\n"
     ]
    }
   ],
   "source": [
    "from selenium import webdriver\n",
    "from selenium.webdriver.common.by import By\n",
    "from selenium.webdriver.chrome.options import Options\n",
    "import math\n",
    "\n",
    "options = Options()\n",
    "options.add_argument('--window-size=974,1047')\n",
    "options.add_argument('--window-position=953,0')\n",
    "options.add_experimental_option(\"detach\", True)\n",
    "\n",
    "search = input('어느 여행지를 찾고 있나요? ')\n",
    "\n",
    "url = 'https://korean.visitkorea.or.kr/search/search_list.do?keyword=' + search\n",
    "driver = webdriver.Chrome(options=options)\n",
    "driver.get(url)\n",
    "time.sleep(3)\n",
    "\n",
    "driver.find_element(By.CSS_SELECTOR, '#s_attraction>.more_view>a').click()\n",
    "\n",
    "cnt = int(input(\"몇 건이나 가져오면 될까요? \"))\n",
    "num = 0\n",
    "\n",
    "start_page = 1\n",
    "goal_page = math.ceil(cnt / 10)\n",
    "\n",
    "tit_xpath = '//*[@id=\"search_result\"]/ul/li[*]/div[1]/div[1]/a'\n",
    "\n",
    "for x in range(start_page, goal_page+1):\n",
    "    print(f'========= {x} 페이지 =========')\n",
    "    \n",
    "    try:\n",
    "        mylist = driver.find_elements(By.XPATH, tit_xpath)\n",
    "    \n",
    "        for item in mylist:\n",
    "            num += 1\n",
    "            if num > cnt:\n",
    "                break\n",
    "            print(num, item.text)\n",
    "    except StaleElementReferenceException:\n",
    "        print(\"StaleElementReferenceException: 페이지 요소가 변경되었습니다.\")\n",
    "\n",
    "    if num >= cnt:\n",
    "        break\n",
    "\n",
    "    if x < goal_page:\n",
    "        try:\n",
    "            next_button = driver.find_element(By.CSS_SELECTOR, f\"a[id='{x+1}']\")\n",
    "            driver.execute_script(\"arguments[0].click();\", next_button)\n",
    "            time.sleep(3)\n",
    "        except StaleElementReferenceException:\n",
    "            print(\"StaleElementReferenceException: 다음 페이지 요소가 변경되었습니다.\")\n",
    "\n",
    "print('========= 작업 완료 =========')"
   ]
  },
  {
   "cell_type": "code",
   "execution_count": 158,
   "id": "74f827b0",
   "metadata": {},
   "outputs": [
    {
     "name": "stdout",
     "output_type": "stream",
     "text": [
      "검색어를 입력하세요: 제주도\n",
      "크롤링 할 건수는 몇 건? 150\n",
      "===== 1 페이지 =====\n",
      "1 제주도민속자연사박물관\n",
      "2 제주항\n",
      "3 제주양떼목장\n",
      "4 제주 스위스마을\n",
      "5 제주드림타워복합리조트\n",
      "6 제주신흥해수욕장\n",
      "7 제주특별자치도농업기술원서부농업기술센터\n",
      "8 제주문학관\n",
      "9 제주 우도 천진항 대합실\n",
      "10 제주 교래자연휴양림\n",
      "===== 2 페이지 =====\n",
      "11 제주 무지개해안도로\n",
      "12 제주 삼양동 유적\n",
      "13 아르떼뮤지엄 제주\n",
      "14 제주돌문화공원\n",
      "15 제주고산리유적안내센터\n",
      "16 관음사(제주)\n",
      "17 제주과학탐구체험관\n",
      "18 제주4·3평화공원\n",
      "19 송당 제주살롱\n",
      "20 제주도 국가지질공원\n",
      "===== 3 페이지 =====\n",
      "21 제주아트센터\n",
      "22 제주문화원\n",
      "23 제주 세계자연유산센터\n",
      "24 국립제주박물관\n",
      "25 제주별빛누리공원\n",
      "26 제주도 관광특구\n",
      "27 제주 유리의성\n",
      "28 보림사(제주)\n",
      "29 제주 노루생태관찰원\n",
      "30 제주 센트럴파크\n",
      "===== 4 페이지 =====\n",
      "31 제주샘주 양조장\n",
      "32 액티브파크 제주\n",
      "33 불탑사(제주)\n",
      "34 제주탐나라공화국\n",
      "35 제주목관아\n",
      "36 만장굴 (제주도 국가지질공원)\n",
      "37 제주향교\n",
      "38 제주라프(Light Art Flash)\n",
      "39 제주 청수마을\n",
      "40 제주절물자연휴양림\n",
      "===== 5 페이지 =====\n",
      "41 월정사(제주)\n",
      "42 보덕사(제주)\n",
      "43 선흘 동백동산/곶자왈 (제주도 국가지질공원)\n",
      "44 제주 탑동해변공연장\n",
      "45 제주통일관\n",
      "46 제주불빛정원\n",
      "47 제주 삼성혈\n",
      "48 제주 명도암참살이마을\n",
      "49 제주 토끼섬 문주란 자생지\n",
      "50 제주 항파두리 항몽 유적\n",
      "===== 6 페이지 =====\n",
      "51 브릭캠퍼스 제주\n",
      "52 한라산 (제주도 국가지질공원)\n",
      "53 관덕정(제주)\n",
      "54 금룡사(제주)\n",
      "55 제주 당처물동굴 [유네스코 세계자연유산]\n",
      "56 제주 유수암마을\n",
      "57 제주 하도리 철새도래지\n",
      "58 월영사(제주)\n",
      "59 제주현대미술관\n",
      "60 제주교육박물관\n",
      "===== 7 페이지 =====\n",
      "61 제주돌마을공원 수석전시관\n",
      "62 천왕사(제주)\n",
      "63 우도 밤수지맨드라미책방\n",
      "64 방사탑(제주)\n",
      "65 제주 성산항\n",
      "66 전농로\n",
      "67 제주민속촌\n",
      "68 제주도립미술관\n",
      "69 제주자연생태공원\n",
      "70 해맞이해안로\n",
      "===== 8 페이지 =====\n",
      "71 한림항\n",
      "72 제주맥주\n",
      "73 제주해녀항일운동기념탑\n",
      "74 제주공룡랜드\n",
      "75 고내포구\n",
      "76 종달리수국길\n",
      "77 제주성지\n",
      "78 나홀로나무\n",
      "79 연대포구\n",
      "80 제주항일기념관\n",
      "===== 9 페이지 =====\n",
      "81 제주커피박물관 Baum (제주커피박물관 바움)\n",
      "82 귤향기 감귤체험농장\n",
      "83 사수항\n",
      "84 산양큰엉곶\n",
      "85 싱계물공원\n",
      "86 북촌 돌하르방공원\n",
      "87 제주선인장마을\n",
      "88 김녕항 / 김녕포구\n",
      "89 명월성지\n",
      "90 하귀애월해안도로\n",
      "===== 10 페이지 =====\n",
      "91 저지문화예술인마을\n",
      "92 제주힐링명상센터 (무병장수테마파크)\n",
      "93 삼양해안도로\n",
      "94 세화 책다방\n",
      "95 구엄리돌염전\n",
      "96 제주테지움\n",
      "97 아쿠아플라넷 제주\n",
      "98 도치돌 알파카목장\n",
      "99 한담해변\n",
      "100 한림공원\n",
      "===== 11 페이지 =====\n",
      "101 제원하늘농원\n",
      "102 우도(해양도립공원)\n",
      "103 답다니탑망대\n",
      "104 판포포구\n",
      "105 코난해변\n",
      "106 상가리야자숲\n",
      "107 도두항\n",
      "108 제주동백수목원\n",
      "109 성김대건신부표착기념관\n",
      "110 제주 다이노스 어라이브\n",
      "===== 12 페이지 =====\n",
      "111 전이수갤러리/걸어가는늑대들\n",
      "112 아이바가든\n",
      "113 도두봉\n",
      "114 큰노꼬메(큰노꼬메오름)\n",
      "115 평대해변\n",
      "116 순례자의 교회\n",
      "117 수월봉과 차귀해안\n",
      "118 용담해안도로\n",
      "119 문도지오름\n",
      "120 무민랜드 제주\n",
      "===== 13 페이지 =====\n",
      "121 제주 야생돌고래 탐사\n",
      "122 포레스트사파리\n",
      "123 산지 등대\n",
      "124 월령포구\n",
      "125 용연구름다리\n",
      "126 조천함덕 해안도로\n",
      "127 도시해녀\n",
      "128 유동룡 미술관\n",
      "129 캐릭파크\n",
      "130 산방굴사(제주)\n",
      "===== 14 페이지 =====\n",
      "131 종달리해변\n",
      "132 용수항\n",
      "133 나이롱책방\n",
      "134 비밀의 숲\n",
      "135 아끈다랑쉬 (아끈다랑쉬 오름)\n",
      "136 사라봉(모충사) 의병항쟁기념탑\n",
      "137 선운정사\n",
      "138 용두암\n",
      "139 수산봉(물메오름)\n",
      "140 나바론하늘길\n",
      "===== 15 페이지 =====\n",
      "141 스누피가든\n",
      "142 제주 산방산탄산온천\n",
      "143 제주 가시리유채꽃길\n",
      "144 아라리오뮤지엄 탑동시네마\n",
      "145 어리목탐방지원센터\n",
      "146 제주공룡동물농장\n",
      "147 제주국제평화센터\n",
      "148 고스트타운\n",
      "149 새미은총의동산 (성이시돌)\n",
      "150 한담해안산책로\n",
      "========= 작업 완료 =========\n"
     ]
    }
   ],
   "source": [
    "from selenium import webdriver\n",
    "from selenium.webdriver.common.by import By\n",
    "from selenium.webdriver.chrome.options import Options\n",
    "import math\n",
    "\n",
    "options = Options()\n",
    "options.add_argument('--window-size=974,1047')\n",
    "options.add_argument('--window-position=953,0')\n",
    "options.add_experimental_option(\"detach\", True)\n",
    "\n",
    "search = input(\"검색어를 입력하세요: \")\n",
    "URL = 'https://korean.visitkorea.or.kr/search/search_list.do?keyword='+search\n",
    "\n",
    "driver = webdriver.Chrome(options=options)\n",
    "driver.get(URL)\n",
    "time.sleep(3)\n",
    "\n",
    "# 여행정보 더보기 클릭\n",
    "driver.find_element(By.CSS_SELECTOR, '#s_attraction>.more_view>a').click()\n",
    "\n",
    "# 수집할 데이터 개수 입력 받기\n",
    "data_num = int(input('크롤링 할 건수는 몇 건? '))\n",
    "num = 0\n",
    "\n",
    "start_page = 1\n",
    "goal_page = math.ceil(data_num / 10)\n",
    "# 제목 추출 xpath\n",
    "tit_path = '//*[@id=\"search_result\"]/ul/li[*]/div[1]/div[1]/a'\n",
    "\n",
    "\n",
    "for p in range(start_page, goal_page+1):\n",
    "    print(f'===== {p} 페이지 =====')\n",
    "    titles = driver.find_elements(By.XPATH, tit_path)\n",
    "    \n",
    "    for t in titles:\n",
    "        num += 1\n",
    "        if num > data_num:\n",
    "            break\n",
    "        print(num, t.text)\n",
    "        \n",
    "    if num < data_num:\n",
    "        next_button = driver.find_element(By.CSS_SELECTOR, f\"a[id='{p+1}']\")\n",
    "        driver.execute_script(\"arguments[0].click();\", next_button)\n",
    "        time.sleep(2)\n",
    "\n",
    "print('========= 작업 완료 =========')"
   ]
  },
  {
   "cell_type": "code",
   "execution_count": 164,
   "id": "86acca38",
   "metadata": {},
   "outputs": [
    {
     "name": "stdout",
     "output_type": "stream",
     "text": [
      "어느 여행지를 찾고 있나요? 여수\n",
      "몇 건이나 가져오면 될까요? 50\n",
      "========= 1 페이지 =========\n",
      "1 여수 국가산업단지\n",
      "2 여수시민회관\n",
      "3 여수신항 (여수엑스포항)\n",
      "4 여수 미남크루즈\n",
      "5 향일암(여수)\n",
      "6 여수미술관\n",
      "7 적금대교(여수)\n",
      "8 여수 연안여객선터미널\n",
      "9 여수 가사리 생태공원\n",
      "10 여수 민속 전시관\n"
     ]
    },
    {
     "ename": "AttributeError",
     "evalue": "type object 'By' has no attribute 'CSS_'",
     "output_type": "error",
     "traceback": [
      "\u001b[1;31m---------------------------------------------------------------------------\u001b[0m",
      "\u001b[1;31mAttributeError\u001b[0m                            Traceback (most recent call last)",
      "Cell \u001b[1;32mIn[164], line 39\u001b[0m\n\u001b[0;32m     36\u001b[0m     \u001b[38;5;28mprint\u001b[39m(num, item\u001b[38;5;241m.\u001b[39mtext)\n\u001b[0;32m     38\u001b[0m \u001b[38;5;28;01mif\u001b[39;00m num \u001b[38;5;241m<\u001b[39m\u001b[38;5;241m=\u001b[39m cnt:\n\u001b[1;32m---> 39\u001b[0m     next_button \u001b[38;5;241m=\u001b[39m driver\u001b[38;5;241m.\u001b[39mfind_element(By\u001b[38;5;241m.\u001b[39mCSS_\u001b[38;5;241m.\u001b[39mSELECTOR, \u001b[38;5;124mf\u001b[39m\u001b[38;5;124m\"\u001b[39m\u001b[38;5;124ma[id=\u001b[39m\u001b[38;5;124m'\u001b[39m\u001b[38;5;132;01m{\u001b[39;00mx\u001b[38;5;241m+\u001b[39m\u001b[38;5;241m1\u001b[39m\u001b[38;5;132;01m}\u001b[39;00m\u001b[38;5;124m'\u001b[39m\u001b[38;5;124m]\u001b[39m\u001b[38;5;124m\"\u001b[39m)\n\u001b[0;32m     40\u001b[0m     driver\u001b[38;5;241m.\u001b[39mexecute_script(\u001b[38;5;124m\"\u001b[39m\u001b[38;5;124marguments[0].click();\u001b[39m\u001b[38;5;124m\"\u001b[39m, next_button)\n\u001b[0;32m     41\u001b[0m     time\u001b[38;5;241m.\u001b[39msleep(\u001b[38;5;241m3\u001b[39m)\n",
      "\u001b[1;31mAttributeError\u001b[0m: type object 'By' has no attribute 'CSS_'"
     ]
    }
   ],
   "source": [
    "from selenium import webdriver\n",
    "from selenium.webdriver.common.by import By\n",
    "from selenium.webdriver.chrome.options import Options\n",
    "import math, time\n",
    "\n",
    "options = Options()\n",
    "options.add_argument('--window-size=974,1047')\n",
    "options.add_argument('--window-position=953,0')\n",
    "options.add_experimental_option(\"detach\", True)\n",
    "\n",
    "search = input('어느 여행지를 찾고 있나요? ')\n",
    "\n",
    "url = 'https://korean.visitkorea.or.kr/search/search_list.do?keyword=' + search\n",
    "driver = webdriver.Chrome(options=options)\n",
    "driver.get(url)\n",
    "time.sleep(3)\n",
    "\n",
    "driver.find_element(By.CSS_SELECTOR, '#s_attraction>.more_view>a').click()\n",
    "\n",
    "cnt = int(input(\"몇 건이나 가져오면 될까요? \"))\n",
    "num = 0\n",
    "\n",
    "start_page = 1\n",
    "goal_page = math.ceil(cnt / 10)\n",
    "\n",
    "tit_xpath = '//*[@id=\"search_result\"]/ul/li[*]/div[1]/div[1]/a'\n",
    "\n",
    "for x in range(start_page, goal_page+1):\n",
    "    print(f'========= {x} 페이지 =========')\n",
    "    mylist = driver.find_elements(By.XPATH, tit_xpath)\n",
    "    \n",
    "    for item in mylist:\n",
    "        num += 1\n",
    "        if num > cnt:\n",
    "            break\n",
    "        print(num, item.text)\n",
    "    \n",
    "    if num <= cnt:\n",
    "        next_button = driver.find_element(By.CSS_.SELECTOR, f\"a[id='{x+1}']\")\n",
    "        driver.execute_script(\"arguments[0].click();\", next_button)\n",
    "        time.sleep(3)\n",
    "        \n",
    "print('========= 작업 완료 =========')"
   ]
  },
  {
   "cell_type": "code",
   "execution_count": null,
   "id": "1c9efcbf",
   "metadata": {},
   "outputs": [],
   "source": []
  }
 ],
 "metadata": {
  "kernelspec": {
   "display_name": "Python 3 (ipykernel)",
   "language": "python",
   "name": "python3"
  },
  "language_info": {
   "codemirror_mode": {
    "name": "ipython",
    "version": 3
   },
   "file_extension": ".py",
   "mimetype": "text/x-python",
   "name": "python",
   "nbconvert_exporter": "python",
   "pygments_lexer": "ipython3",
   "version": "3.11.5"
  }
 },
 "nbformat": 4,
 "nbformat_minor": 5
}
